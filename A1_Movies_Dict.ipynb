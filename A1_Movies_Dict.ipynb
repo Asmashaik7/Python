{
 "cells": [
  {
   "cell_type": "code",
   "execution_count": 1,
   "id": "8927d37c-49ad-4bc1-8cea-1024b8d77e0d",
   "metadata": {},
   "outputs": [],
   "source": [
    "#**Problem**: Write a Python program to create a dictionary of 3 favorite Movies with their titles as keys and authors as values. Then:Add commentMore actions\n",
    "# - Create an empty dictionary called Movies and then add all the movies one by one.\n",
    "# - Do not create the Entire dictionary on a single go.\n",
    "# - Add a new Movie to the dictionary.\n",
    "# - Create a seperate List for Actors, Producers, Directors, Songs\n",
    "# - Update the author of an existing Movie.\n",
    "# - Remove a Movie by its title.\n",
    "# - Print the final dictionary."
   ]
  },
  {
   "cell_type": "code",
   "execution_count": 2,
   "id": "b4f79079-de3a-4334-939a-8da6cc008a96",
   "metadata": {},
   "outputs": [
    {
     "data": {
      "text/plain": [
       "{'3 Idiots': 'Rajkumar Hirani',\n",
       " 'Pokiri': 'Puri Jagannadh',\n",
       " 'Chak De India': 'Shimit Amin'}"
      ]
     },
     "execution_count": 2,
     "metadata": {},
     "output_type": "execute_result"
    }
   ],
   "source": [
    "import pprint\n",
    "movies={}\n",
    "movies['3 Idiots']='Rajkumar Hirani'\n",
    "movies['Pokiri']='Puri Jagannadh'\n",
    "movies['Chak De India']='Shimit Amin'\n",
    "movies"
   ]
  },
  {
   "cell_type": "code",
   "execution_count": 5,
   "id": "453c13f7-06ec-400d-ac33-c80d5d8bb7c0",
   "metadata": {},
   "outputs": [],
   "source": [
    "movies['Jawan']='Atlee' #Add a new Movie to the dictionary."
   ]
  },
  {
   "cell_type": "code",
   "execution_count": 6,
   "id": "89c93641-3c4b-482d-96c7-dd2c1885cb6c",
   "metadata": {},
   "outputs": [],
   "source": [
    "movies['actors']=['Aamir Khan','Kareena Kapoor','Madhavan','Sharman Joshi','Mahesh Babu',\"Illeana D'cruz\",'Prakash Raj','Brahmanandam','Ashish Vidhyarthi','Nassar','Shahrukh Khan','Shilpa Shukla'] #Create a seperate List for Actors, Producers, Directors, Songs"
   ]
  },
  {
   "cell_type": "code",
   "execution_count": 11,
   "id": "ac2b422a-2139-4d0b-97fd-4d4a0c76f6d1",
   "metadata": {},
   "outputs": [],
   "source": [
    "movies['directors']=['Rajkumar Hirani','Puri Jagannadh','Shimit Amin']"
   ]
  },
  {
   "cell_type": "code",
   "execution_count": 9,
   "id": "5bf388fa-485a-42da-864e-f9cae6153776",
   "metadata": {},
   "outputs": [],
   "source": [
    "movies['producers']=['Vindhu Vinod Chopra','Manjula Ghattamaneni','Aditya Chopra']"
   ]
  },
  {
   "cell_type": "code",
   "execution_count": 10,
   "id": "5a5477c0-5014-426f-b250-3e548d642f49",
   "metadata": {},
   "outputs": [],
   "source": [
    "movies['songs']=['Zoobi ddobi','All is well','Give me some sunshine','Behti hawa sa tha wo','Jaane nahi denge tujhe','Gala gala parutunna godari la','Jagadame','Dole dole','Chudoddhu','Devuda','Ippatikaina','Chak de India','Maula Mere Le Le Meri Jaan','Badal Pe Paon Hai']"
   ]
  },
  {
   "cell_type": "code",
   "execution_count": 12,
   "id": "ab268e2d-a982-4292-8027-0bfa2697d873",
   "metadata": {},
   "outputs": [
    {
     "data": {
      "text/plain": [
       "{'3 Idiots': 'Rajkumar Hirani',\n",
       " 'Pokiri': 'Puri Jagannadh',\n",
       " 'Chak De India': 'Shimit Amin',\n",
       " 'Jawan': 'Atlee',\n",
       " 'actors': ['Aamir Khan',\n",
       "  'Kareena Kapoor',\n",
       "  'Madhavan',\n",
       "  'Sharman Joshi',\n",
       "  'Mahesh Babu',\n",
       "  \"Illeana D'cruz\",\n",
       "  'Prakash Raj',\n",
       "  'Brahmanandam',\n",
       "  'Ashish Vidhyarthi',\n",
       "  'Nassar',\n",
       "  'Shahrukh Khan',\n",
       "  'Shilpa Shukla'],\n",
       " 'directors': ['Rajkumar Hirani', 'Puri Jagannadh', 'Shimit Amin'],\n",
       " 'producers': ['Vindhu Vinod Chopra', 'Manjula Ghattamaneni', 'Aditya Chopra'],\n",
       " 'songs': ['Zoobi ddobi',\n",
       "  'All is well',\n",
       "  'Give me some sunshine',\n",
       "  'Behti hawa sa tha wo',\n",
       "  'Jaane nahi denge tujhe',\n",
       "  'Gala gala parutunna godari la',\n",
       "  'Jagadame',\n",
       "  'Dole dole',\n",
       "  'Chudoddhu',\n",
       "  'Devuda',\n",
       "  'Ippatikaina',\n",
       "  'Chak de India',\n",
       "  'Maula Mere Le Le Meri Jaan',\n",
       "  'Badal Pe Paon Hai']}"
      ]
     },
     "execution_count": 12,
     "metadata": {},
     "output_type": "execute_result"
    }
   ],
   "source": [
    "movies"
   ]
  },
  {
   "cell_type": "code",
   "execution_count": 13,
   "id": "3297bd09-b704-4e48-85be-de086926a425",
   "metadata": {},
   "outputs": [],
   "source": [
    "movies['3 Idiots']='Abhijeet Joshi' #Update the author of an existing Movie."
   ]
  },
  {
   "cell_type": "code",
   "execution_count": 14,
   "id": "546d95e2-1af4-4560-891b-866c408b72fc",
   "metadata": {},
   "outputs": [
    {
     "data": {
      "text/plain": [
       "'Abhijeet Joshi'"
      ]
     },
     "execution_count": 14,
     "metadata": {},
     "output_type": "execute_result"
    }
   ],
   "source": [
    "movies.get('3 Idiots')"
   ]
  },
  {
   "cell_type": "code",
   "execution_count": 15,
   "id": "36401f29-7ace-4654-8eec-4da81acf9743",
   "metadata": {},
   "outputs": [
    {
     "data": {
      "text/plain": [
       "'Atlee'"
      ]
     },
     "execution_count": 15,
     "metadata": {},
     "output_type": "execute_result"
    }
   ],
   "source": [
    "movies.pop('Jawan') #Remove a Movie by its title."
   ]
  },
  {
   "cell_type": "code",
   "execution_count": 16,
   "id": "11daaf7a-a430-41eb-a1cf-00414adf8347",
   "metadata": {},
   "outputs": [
    {
     "data": {
      "text/plain": [
       "{'3 Idiots': 'Abhijeet Joshi',\n",
       " 'Pokiri': 'Puri Jagannadh',\n",
       " 'Chak De India': 'Shimit Amin',\n",
       " 'actors': ['Aamir Khan',\n",
       "  'Kareena Kapoor',\n",
       "  'Madhavan',\n",
       "  'Sharman Joshi',\n",
       "  'Mahesh Babu',\n",
       "  \"Illeana D'cruz\",\n",
       "  'Prakash Raj',\n",
       "  'Brahmanandam',\n",
       "  'Ashish Vidhyarthi',\n",
       "  'Nassar',\n",
       "  'Shahrukh Khan',\n",
       "  'Shilpa Shukla'],\n",
       " 'directors': ['Rajkumar Hirani', 'Puri Jagannadh', 'Shimit Amin'],\n",
       " 'producers': ['Vindhu Vinod Chopra', 'Manjula Ghattamaneni', 'Aditya Chopra'],\n",
       " 'songs': ['Zoobi ddobi',\n",
       "  'All is well',\n",
       "  'Give me some sunshine',\n",
       "  'Behti hawa sa tha wo',\n",
       "  'Jaane nahi denge tujhe',\n",
       "  'Gala gala parutunna godari la',\n",
       "  'Jagadame',\n",
       "  'Dole dole',\n",
       "  'Chudoddhu',\n",
       "  'Devuda',\n",
       "  'Ippatikaina',\n",
       "  'Chak de India',\n",
       "  'Maula Mere Le Le Meri Jaan',\n",
       "  'Badal Pe Paon Hai']}"
      ]
     },
     "execution_count": 16,
     "metadata": {},
     "output_type": "execute_result"
    }
   ],
   "source": [
    "movies #Print the final dictionary."
   ]
  },
  {
   "cell_type": "code",
   "execution_count": 17,
   "id": "22ebfaaf-5cc2-4bbc-83d4-d7a364376a6c",
   "metadata": {},
   "outputs": [
    {
     "name": "stdout",
     "output_type": "stream",
     "text": [
      "{'3 Idiots': 'Abhijeet Joshi',\n",
      " 'Chak De India': 'Shimit Amin',\n",
      " 'Pokiri': 'Puri Jagannadh',\n",
      " 'actors': ['Aamir Khan',\n",
      "            'Kareena Kapoor',\n",
      "            'Madhavan',\n",
      "            'Sharman Joshi',\n",
      "            'Mahesh Babu',\n",
      "            \"Illeana D'cruz\",\n",
      "            'Prakash Raj',\n",
      "            'Brahmanandam',\n",
      "            'Ashish Vidhyarthi',\n",
      "            'Nassar',\n",
      "            'Shahrukh Khan',\n",
      "            'Shilpa Shukla'],\n",
      " 'directors': ['Rajkumar Hirani', 'Puri Jagannadh', 'Shimit Amin'],\n",
      " 'producers': ['Vindhu Vinod Chopra', 'Manjula Ghattamaneni', 'Aditya Chopra'],\n",
      " 'songs': ['Zoobi ddobi',\n",
      "           'All is well',\n",
      "           'Give me some sunshine',\n",
      "           'Behti hawa sa tha wo',\n",
      "           'Jaane nahi denge tujhe',\n",
      "           'Gala gala parutunna godari la',\n",
      "           'Jagadame',\n",
      "           'Dole dole',\n",
      "           'Chudoddhu',\n",
      "           'Devuda',\n",
      "           'Ippatikaina',\n",
      "           'Chak de India',\n",
      "           'Maula Mere Le Le Meri Jaan',\n",
      "           'Badal Pe Paon Hai']}\n"
     ]
    }
   ],
   "source": [
    "pprint.pprint(movies)"
   ]
  },
  {
   "cell_type": "code",
   "execution_count": null,
   "id": "b7dfcc99-5813-4db8-a1cf-c8a105342185",
   "metadata": {},
   "outputs": [],
   "source": []
  }
 ],
 "metadata": {
  "kernelspec": {
   "display_name": "Python 3 (ipykernel)",
   "language": "python",
   "name": "python3"
  },
  "language_info": {
   "codemirror_mode": {
    "name": "ipython",
    "version": 3
   },
   "file_extension": ".py",
   "mimetype": "text/x-python",
   "name": "python",
   "nbconvert_exporter": "python",
   "pygments_lexer": "ipython3",
   "version": "3.13.3"
  }
 },
 "nbformat": 4,
 "nbformat_minor": 5
}
