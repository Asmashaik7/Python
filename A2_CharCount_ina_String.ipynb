{
 "cells": [
  {
   "cell_type": "code",
   "execution_count": 2,
   "id": "b606fd1f-e215-4ea6-b145-35ac52e74d75",
   "metadata": {},
   "outputs": [],
   "source": [
    "#Count Characters in a String**Add commentMore actions\n",
    "#**Problem**: Write a function that takes a string as input and returns a dictionary where keys are characters and values are the number of times each character appears. For example, `\"hello\"` should return `{'h': 1, 'e': 1, 'l': 2, 'o': 1}`.\n",
    "\n",
    "#**Hint**: Word counts, Iterate through the string and update counts in the dictionary.\n",
    "\n",
    "#**Apply these ->**: Loops, dictionary updates, `get()` method (optional)."
   ]
  },
  {
   "cell_type": "code",
   "execution_count": 28,
   "id": "3f092464-6bb2-49c6-a199-8c1d7a8f1c71",
   "metadata": {},
   "outputs": [
    {
     "data": {
      "text/plain": [
       "{'T': 1,\n",
       " 'h': 2,\n",
       " 'i': 4,\n",
       " 's': 4,\n",
       " ' ': 8,\n",
       " 'a': 4,\n",
       " 'n': 4,\n",
       " 'e': 3,\n",
       " 'x': 1,\n",
       " 'm': 1,\n",
       " 'p': 1,\n",
       " 'l': 1,\n",
       " 'o': 2,\n",
       " 'f': 1,\n",
       " 'c': 3,\n",
       " 'r': 3,\n",
       " 't': 3,\n",
       " 'u': 1,\n",
       " 'g': 1}"
      ]
     },
     "execution_count": 28,
     "metadata": {},
     "output_type": "execute_result"
    }
   ],
   "source": [
    "charcount=dict()\n",
    "def charcountfun(name):\n",
    "    for each in name:\n",
    "        if each not in charcount:\n",
    "            charcount[each]=1\n",
    "        else:\n",
    "            charcount[each]+=1\n",
    "    return charcount\n",
    "#charcountfun('asma shaik')\n",
    "#charcountfun('Manha Junaina')\n",
    "charcountfun('This is an example of character count in strings')"
   ]
  },
  {
   "cell_type": "code",
   "execution_count": null,
   "id": "77ef7242-b420-4d4a-889d-9c3b418b8831",
   "metadata": {},
   "outputs": [],
   "source": []
  }
 ],
 "metadata": {
  "kernelspec": {
   "display_name": "Python 3 (ipykernel)",
   "language": "python",
   "name": "python3"
  },
  "language_info": {
   "codemirror_mode": {
    "name": "ipython",
    "version": 3
   },
   "file_extension": ".py",
   "mimetype": "text/x-python",
   "name": "python",
   "nbconvert_exporter": "python",
   "pygments_lexer": "ipython3",
   "version": "3.13.3"
  }
 },
 "nbformat": 4,
 "nbformat_minor": 5
}
