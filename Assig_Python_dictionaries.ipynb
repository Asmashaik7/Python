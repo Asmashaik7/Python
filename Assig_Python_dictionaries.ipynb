{
 "cells": [
  {
   "cell_type": "code",
   "execution_count": null,
   "id": "90ac7d4d-6b7f-4cc4-99de-a3ff06a3f9e1",
   "metadata": {},
   "outputs": [],
   "source": [
    "#**Problem**: Write a Python program to create a dictionary of 3 favorite Movies with their titles as keys and authors as values. Then:Add commentMore actions\n",
    "# - Create an empty dictionary called Movies and then add all the movies one by one.\n",
    "# - Do not create the Entire dictionary on a single go.\n",
    "# - Add a new Movie to the dictionary.\n",
    "# - Create a seperate List for Actors, Producers, Directors, Songs\n",
    "# - Update the author of an existing Movie.\n",
    "# - Remove a Movie by its title.\n",
    "# - Print the final dictionary."
   ]
  },
  {
   "cell_type": "code",
   "execution_count": 3,
   "id": "fb81e434-aa4a-482c-8957-b4b76eb7c6c4",
   "metadata": {},
   "outputs": [],
   "source": [
    "movies={}\n",
    "movies['3 Idiots']='Rajkumar Hirani'"
   ]
  },
  {
   "cell_type": "code",
   "execution_count": 2,
   "id": "b6d0b0c9-44bb-4926-9100-5f8b4ba528e9",
   "metadata": {},
   "outputs": [
    {
     "data": {
      "text/plain": [
       "{'3 Idiots': 'Rajkumar Hirani'}"
      ]
     },
     "execution_count": 2,
     "metadata": {},
     "output_type": "execute_result"
    }
   ],
   "source": [
    "movies"
   ]
  },
  {
   "cell_type": "code",
   "execution_count": 9,
   "id": "b9a2614f-41eb-4c55-b256-2d68a7b8f33e",
   "metadata": {},
   "outputs": [],
   "source": [
    "movies['Pokiri']='Puri Jagannadh'"
   ]
  },
  {
   "cell_type": "code",
   "execution_count": 5,
   "id": "9be44273-a62d-49ab-8212-e257510cb77a",
   "metadata": {},
   "outputs": [],
   "source": [
    "movies['Chak De India']='Shimit Amin'"
   ]
  },
  {
   "cell_type": "code",
   "execution_count": 17,
   "id": "4821aa6b-7acb-43af-9e03-6df4a7260282",
   "metadata": {},
   "outputs": [
    {
     "data": {
      "text/plain": [
       "{'3 Idiots': 'Rajkumar Hirani',\n",
       " 'Chak De India': 'Shimit Amin',\n",
       " 'Jawan': 'Atlee',\n",
       " 'Pokiri': 'Puri Jagannadh'}"
      ]
     },
     "execution_count": 17,
     "metadata": {},
     "output_type": "execute_result"
    }
   ],
   "source": [
    "movies"
   ]
  },
  {
   "cell_type": "code",
   "execution_count": null,
   "id": "21f92499-734a-477d-a754-7e64ec5579e8",
   "metadata": {},
   "outputs": [],
   "source": [
    "#Add a new Movie to the dictionary."
   ]
  },
  {
   "cell_type": "code",
   "execution_count": 18,
   "id": "3365a1c1-e92a-40bf-bbcf-53edc437e315",
   "metadata": {},
   "outputs": [],
   "source": [
    "movies['Jawan']='Atlee'"
   ]
  },
  {
   "cell_type": "code",
   "execution_count": 14,
   "id": "c5121773-f7d7-450b-8c7a-74017e682620",
   "metadata": {},
   "outputs": [],
   "source": [
    "#Create a seperate List for Actors, Producers, Directors, Songs"
   ]
  },
  {
   "cell_type": "code",
   "execution_count": 30,
   "id": "7cb9fe3e-2afc-432c-bb15-d4459352d1c4",
   "metadata": {},
   "outputs": [],
   "source": [
    "actors=[]"
   ]
  },
  {
   "cell_type": "code",
   "execution_count": 31,
   "id": "3f2e7ea9-b720-4861-a2c6-503a67e4f13c",
   "metadata": {},
   "outputs": [
    {
     "data": {
      "text/plain": [
       "list"
      ]
     },
     "execution_count": 31,
     "metadata": {},
     "output_type": "execute_result"
    }
   ],
   "source": [
    "type(actors)"
   ]
  },
  {
   "cell_type": "code",
   "execution_count": 21,
   "id": "13934c14-bd1b-468c-a07e-f92649684b1f",
   "metadata": {},
   "outputs": [],
   "source": [
    "movies['actors']=['Aamir Khan','Kareena Kapoor','Madhavan','Sharman Joshi','Mahesh Babu',\"Illeana D'cruz\",'Prakash Raj','Brahmanandam','Ashish Vidhyarthi','Nassar','Shahrukh Khan','Shilpa Shukla']"
   ]
  },
  {
   "cell_type": "code",
   "execution_count": 23,
   "id": "3a5db320-cf3b-49d6-ad74-47b013e127d4",
   "metadata": {},
   "outputs": [],
   "source": [
    "movies['directors']=['Rajkumar Hirani','Puri Jagannadh','Shimit Amin']"
   ]
  },
  {
   "cell_type": "code",
   "execution_count": 24,
   "id": "51edc0c6-8324-4152-8083-2e210b81b836",
   "metadata": {},
   "outputs": [],
   "source": [
    "movies['producers']=['Vindhu Vinod Chopra','Manjula Ghattamaneni','Aditya Chopra']"
   ]
  },
  {
   "cell_type": "code",
   "execution_count": 25,
   "id": "1942f553-369e-4c45-a6be-cb5518f654ae",
   "metadata": {},
   "outputs": [],
   "source": [
    "movies['songs']=['Zoobi ddobi','All is well','Give me some sunshine','Behti hawa sa tha wo','Jaane nahi denge tujhe','Gala gala parutunna godari la','Jagadame','Dole dole','Chudoddhu','Devuda','Ippatikaina','Chak de India','Maula Mere Le Le Meri Jaan','Badal Pe Paon Hai']"
   ]
  },
  {
   "cell_type": "code",
   "execution_count": 26,
   "id": "d5955a25-829e-46f1-8e20-2c6d97854fb9",
   "metadata": {},
   "outputs": [
    {
     "data": {
      "text/plain": [
       "{'3 Idiots': 'Rajkumar Hirani',\n",
       " 'Chak De India': 'Shimit Amin',\n",
       " 'Jawan': 'Atlee',\n",
       " 'Pokiri': 'Puri Jagannadh',\n",
       " 'actors': ['Aamir Khan',\n",
       "  'Kareena Kapoor',\n",
       "  'Madhavan',\n",
       "  'Sharman Joshi',\n",
       "  'Mahesh Babu',\n",
       "  \"Illeana D'cruz\",\n",
       "  'Prakash Raj',\n",
       "  'Brahmanandam',\n",
       "  'Ashish Vidhyarthi',\n",
       "  'Nassar',\n",
       "  'Shahrukh Khan',\n",
       "  'Shilpa Shukla'],\n",
       " 'directors': ['Rajkumar Hirani', 'Puri Jagannadh', 'Shimit Amin'],\n",
       " 'producers': ['Vindhu Vinod Chopra', 'Manjula Ghattamaneni', 'Aditya Chopra'],\n",
       " 'songs': ['Zoobi ddobi',\n",
       "  'All is well',\n",
       "  'Give me some sunshine',\n",
       "  'Behti hawa sa tha wo',\n",
       "  'Jaane nahi denge tujhe',\n",
       "  'Gala gala parutunna godari la',\n",
       "  'Jagadame',\n",
       "  'Dole dole',\n",
       "  'Chudoddhu',\n",
       "  'Devuda',\n",
       "  'Ippatikaina',\n",
       "  'Chak de India',\n",
       "  'Maula Mere Le Le Meri Jaan',\n",
       "  'Badal Pe Paon Hai']}"
      ]
     },
     "execution_count": 26,
     "metadata": {},
     "output_type": "execute_result"
    }
   ],
   "source": [
    "movies"
   ]
  },
  {
   "cell_type": "code",
   "execution_count": 27,
   "id": "e22bdae7-711e-48cb-a3c1-8f0a180351d2",
   "metadata": {},
   "outputs": [
    {
     "data": {
      "text/plain": [
       "dict_keys(['3 Idiots', 'Chak De India', 'Jawan', 'Pokiri', 'actors', 'directors', 'producers', 'songs'])"
      ]
     },
     "execution_count": 27,
     "metadata": {},
     "output_type": "execute_result"
    }
   ],
   "source": [
    "movies.keys()"
   ]
  },
  {
   "cell_type": "code",
   "execution_count": 39,
   "id": "9235c05e-ec33-416b-bc8f-0b4060a4519d",
   "metadata": {},
   "outputs": [],
   "source": [
    "#Update the author of an existing Movie."
   ]
  },
  {
   "cell_type": "code",
   "execution_count": 29,
   "id": "baeaa714-955a-4aaf-9724-12acd709b301",
   "metadata": {},
   "outputs": [],
   "source": [
    "movies['3 Idiots']='Abhijeet Joshi'"
   ]
  },
  {
   "cell_type": "code",
   "execution_count": 31,
   "id": "86118414-5460-46aa-abdf-2ef64cec3184",
   "metadata": {},
   "outputs": [
    {
     "data": {
      "text/plain": [
       "'Abhijeet Joshi'"
      ]
     },
     "execution_count": 31,
     "metadata": {},
     "output_type": "execute_result"
    }
   ],
   "source": [
    "movies.get('3 Idiots')"
   ]
  },
  {
   "cell_type": "code",
   "execution_count": 33,
   "id": "70f14baa-0b21-4dce-a62d-ade29a8282eb",
   "metadata": {},
   "outputs": [
    {
     "data": {
      "text/plain": [
       "{'3 Idiots': 'Abhijeet Joshi',\n",
       " 'Chak De India': 'Shimit Amin',\n",
       " 'Jawan': 'Atlee',\n",
       " 'Pokiri': 'Puri Jagannadh',\n",
       " 'actors': ['Aamir Khan',\n",
       "  'Kareena Kapoor',\n",
       "  'Madhavan',\n",
       "  'Sharman Joshi',\n",
       "  'Mahesh Babu',\n",
       "  \"Illeana D'cruz\",\n",
       "  'Prakash Raj',\n",
       "  'Brahmanandam',\n",
       "  'Ashish Vidhyarthi',\n",
       "  'Nassar',\n",
       "  'Shahrukh Khan',\n",
       "  'Shilpa Shukla'],\n",
       " 'directors': ['Rajkumar Hirani', 'Puri Jagannadh', 'Shimit Amin'],\n",
       " 'producers': ['Vindhu Vinod Chopra', 'Manjula Ghattamaneni', 'Aditya Chopra'],\n",
       " 'songs': ['Zoobi ddobi',\n",
       "  'All is well',\n",
       "  'Give me some sunshine',\n",
       "  'Behti hawa sa tha wo',\n",
       "  'Jaane nahi denge tujhe',\n",
       "  'Gala gala parutunna godari la',\n",
       "  'Jagadame',\n",
       "  'Dole dole',\n",
       "  'Chudoddhu',\n",
       "  'Devuda',\n",
       "  'Ippatikaina',\n",
       "  'Chak de India',\n",
       "  'Maula Mere Le Le Meri Jaan',\n",
       "  'Badal Pe Paon Hai']}"
      ]
     },
     "execution_count": 33,
     "metadata": {},
     "output_type": "execute_result"
    }
   ],
   "source": [
    "movies"
   ]
  },
  {
   "cell_type": "code",
   "execution_count": 34,
   "id": "f8228c8e-e855-44c6-9c83-88234fa029bb",
   "metadata": {},
   "outputs": [],
   "source": [
    "#Remove a Movie by its title."
   ]
  },
  {
   "cell_type": "code",
   "execution_count": 36,
   "id": "b5e4f92e-0968-44b2-8b60-665ab40c60bc",
   "metadata": {},
   "outputs": [
    {
     "data": {
      "text/plain": [
       "'Atlee'"
      ]
     },
     "execution_count": 36,
     "metadata": {},
     "output_type": "execute_result"
    }
   ],
   "source": [
    "movies.pop('Jawan')"
   ]
  },
  {
   "cell_type": "code",
   "execution_count": 37,
   "id": "c4aa572c-b267-420a-b9cc-a5d2232dabeb",
   "metadata": {},
   "outputs": [],
   "source": [
    "#Print the final dictionary."
   ]
  },
  {
   "cell_type": "code",
   "execution_count": 38,
   "id": "ca800904-0f54-4ec8-a9d8-ad45e8c9585e",
   "metadata": {},
   "outputs": [
    {
     "data": {
      "text/plain": [
       "{'3 Idiots': 'Abhijeet Joshi',\n",
       " 'Chak De India': 'Shimit Amin',\n",
       " 'Pokiri': 'Puri Jagannadh',\n",
       " 'actors': ['Aamir Khan',\n",
       "  'Kareena Kapoor',\n",
       "  'Madhavan',\n",
       "  'Sharman Joshi',\n",
       "  'Mahesh Babu',\n",
       "  \"Illeana D'cruz\",\n",
       "  'Prakash Raj',\n",
       "  'Brahmanandam',\n",
       "  'Ashish Vidhyarthi',\n",
       "  'Nassar',\n",
       "  'Shahrukh Khan',\n",
       "  'Shilpa Shukla'],\n",
       " 'directors': ['Rajkumar Hirani', 'Puri Jagannadh', 'Shimit Amin'],\n",
       " 'producers': ['Vindhu Vinod Chopra', 'Manjula Ghattamaneni', 'Aditya Chopra'],\n",
       " 'songs': ['Zoobi ddobi',\n",
       "  'All is well',\n",
       "  'Give me some sunshine',\n",
       "  'Behti hawa sa tha wo',\n",
       "  'Jaane nahi denge tujhe',\n",
       "  'Gala gala parutunna godari la',\n",
       "  'Jagadame',\n",
       "  'Dole dole',\n",
       "  'Chudoddhu',\n",
       "  'Devuda',\n",
       "  'Ippatikaina',\n",
       "  'Chak de India',\n",
       "  'Maula Mere Le Le Meri Jaan',\n",
       "  'Badal Pe Paon Hai']}"
      ]
     },
     "execution_count": 38,
     "metadata": {},
     "output_type": "execute_result"
    }
   ],
   "source": [
    "movies"
   ]
  },
  {
   "cell_type": "code",
   "execution_count": null,
   "id": "e24920b2-bdda-4d04-8698-ba9758b64268",
   "metadata": {},
   "outputs": [],
   "source": []
  }
 ],
 "metadata": {
  "kernelspec": {
   "display_name": "Python 3 (ipykernel)",
   "language": "python",
   "name": "python3"
  },
  "language_info": {
   "codemirror_mode": {
    "name": "ipython",
    "version": 3
   },
   "file_extension": ".py",
   "mimetype": "text/x-python",
   "name": "python",
   "nbconvert_exporter": "python",
   "pygments_lexer": "ipython3",
   "version": "3.13.3"
  }
 },
 "nbformat": 4,
 "nbformat_minor": 5
}
