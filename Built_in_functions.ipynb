{
 "cells": [
  {
   "cell_type": "code",
   "execution_count": 2,
   "id": "ad492b48-7ebe-4a01-b7d8-1faea22adc5e",
   "metadata": {},
   "outputs": [],
   "source": [
    "s=[1,2,3,4,5,6,7,8,9]#list\n",
    "s.sort()"
   ]
  },
  {
   "cell_type": "code",
   "execution_count": 3,
   "id": "beb41a63-6b6e-4e78-ad42-8db25e6804de",
   "metadata": {},
   "outputs": [
    {
     "data": {
      "text/plain": [
       "[1, 2, 3, 4, 5, 6, 7, 8, 9]"
      ]
     },
     "execution_count": 3,
     "metadata": {},
     "output_type": "execute_result"
    }
   ],
   "source": [
    "s"
   ]
  },
  {
   "cell_type": "code",
   "execution_count": 4,
   "id": "daeafff7-7fca-4e0a-a71c-3381693c9cdb",
   "metadata": {},
   "outputs": [
    {
     "ename": "NameError",
     "evalue": "name 'false' is not defined",
     "output_type": "error",
     "traceback": [
      "\u001b[31m---------------------------------------------------------------------------\u001b[39m",
      "\u001b[31mNameError\u001b[39m                                 Traceback (most recent call last)",
      "\u001b[36mCell\u001b[39m\u001b[36m \u001b[39m\u001b[32mIn[4]\u001b[39m\u001b[32m, line 1\u001b[39m\n\u001b[32m----> \u001b[39m\u001b[32m1\u001b[39m s.sort(reverse=\u001b[43mfalse\u001b[49m)\n",
      "\u001b[31mNameError\u001b[39m: name 'false' is not defined"
     ]
    }
   ],
   "source": [
    "s.sort(reverse=false)"
   ]
  },
  {
   "cell_type": "code",
   "execution_count": 5,
   "id": "7bfef0b8-c4e9-472f-b9a5-8c2494b944ba",
   "metadata": {},
   "outputs": [],
   "source": [
    "s.sort(reverse=False)"
   ]
  },
  {
   "cell_type": "code",
   "execution_count": 6,
   "id": "946bcd05-055a-4523-b058-b92f90ca9429",
   "metadata": {},
   "outputs": [
    {
     "data": {
      "text/plain": [
       "[1, 2, 3, 4, 5, 6, 7, 8, 9]"
      ]
     },
     "execution_count": 6,
     "metadata": {},
     "output_type": "execute_result"
    }
   ],
   "source": [
    "s"
   ]
  },
  {
   "cell_type": "code",
   "execution_count": 7,
   "id": "cd91671e-c783-4aa4-9b19-b7dd8f0d7b06",
   "metadata": {},
   "outputs": [],
   "source": [
    "s.sort(reverse=True)"
   ]
  },
  {
   "cell_type": "code",
   "execution_count": 8,
   "id": "f5283440-22af-41b9-83a5-68d8cc56ed7a",
   "metadata": {},
   "outputs": [
    {
     "data": {
      "text/plain": [
       "[9, 8, 7, 6, 5, 4, 3, 2, 1]"
      ]
     },
     "execution_count": 8,
     "metadata": {},
     "output_type": "execute_result"
    }
   ],
   "source": [
    "s"
   ]
  },
  {
   "cell_type": "code",
   "execution_count": 1,
   "id": "72984ce2-7341-4c10-a8bf-df92efb8c74a",
   "metadata": {},
   "outputs": [
    {
     "data": {
      "text/plain": [
       "3"
      ]
     },
     "execution_count": 1,
     "metadata": {},
     "output_type": "execute_result"
    }
   ],
   "source": [
    "sum([1,2])"
   ]
  },
  {
   "cell_type": "code",
   "execution_count": 2,
   "id": "587d8017-aaf8-4b83-97bf-7e7cca5ffca3",
   "metadata": {},
   "outputs": [
    {
     "data": {
      "text/plain": [
       "49"
      ]
     },
     "execution_count": 2,
     "metadata": {},
     "output_type": "execute_result"
    }
   ],
   "source": [
    "sum([12,23,14])"
   ]
  },
  {
   "cell_type": "code",
   "execution_count": 3,
   "id": "51e816e0-5295-4c3b-958f-8e661e076733",
   "metadata": {},
   "outputs": [
    {
     "data": {
      "text/plain": [
       "284"
      ]
     },
     "execution_count": 3,
     "metadata": {},
     "output_type": "execute_result"
    }
   ],
   "source": [
    "sum([100,5,6,10,56,78,6,7,8,8])#list is passing into fuction as args, so no problem, it works"
   ]
  },
  {
   "cell_type": "code",
   "execution_count": 4,
   "id": "d07717c2-905d-4b60-8a1f-7b539c286c53",
   "metadata": {},
   "outputs": [],
   "source": [
    "def summ(x,y):\n",
    "    return x+y"
   ]
  },
  {
   "cell_type": "code",
   "execution_count": 5,
   "id": "e9d99f18-bbe9-412b-a0a6-55f58646ec47",
   "metadata": {},
   "outputs": [
    {
     "data": {
      "text/plain": [
       "3"
      ]
     },
     "execution_count": 5,
     "metadata": {},
     "output_type": "execute_result"
    }
   ],
   "source": [
    "summ(1,2)"
   ]
  },
  {
   "cell_type": "code",
   "execution_count": 6,
   "id": "cdf23788-8c9a-4a9a-8009-3cd3ec0a5a8c",
   "metadata": {},
   "outputs": [
    {
     "ename": "TypeError",
     "evalue": "summ() takes 2 positional arguments but 4 were given",
     "output_type": "error",
     "traceback": [
      "\u001b[31m---------------------------------------------------------------------------\u001b[39m",
      "\u001b[31mTypeError\u001b[39m                                 Traceback (most recent call last)",
      "\u001b[36mCell\u001b[39m\u001b[36m \u001b[39m\u001b[32mIn[6]\u001b[39m\u001b[32m, line 1\u001b[39m\n\u001b[32m----> \u001b[39m\u001b[32m1\u001b[39m \u001b[43msumm\u001b[49m\u001b[43m(\u001b[49m\u001b[32;43m1\u001b[39;49m\u001b[43m,\u001b[49m\u001b[32;43m2\u001b[39;49m\u001b[43m,\u001b[49m\u001b[32;43m3\u001b[39;49m\u001b[43m,\u001b[49m\u001b[32;43m4\u001b[39;49m\u001b[43m)\u001b[49m\n",
      "\u001b[31mTypeError\u001b[39m: summ() takes 2 positional arguments but 4 were given"
     ]
    }
   ],
   "source": [
    "summ(1,2,3,4)"
   ]
  },
  {
   "cell_type": "code",
   "execution_count": 7,
   "id": "f629769d-fa7c-407a-845e-4c622d80fe26",
   "metadata": {},
   "outputs": [],
   "source": [
    "#to parse a list as input to functions we use orbitutary \n",
    "#summ(*args)"
   ]
  },
  {
   "cell_type": "code",
   "execution_count": 8,
   "id": "6c8399e1-06b2-40b7-aee4-b8d0808a393f",
   "metadata": {},
   "outputs": [
    {
     "ename": "TypeError",
     "evalue": "summ() takes 2 positional arguments but 6 were given",
     "output_type": "error",
     "traceback": [
      "\u001b[31m---------------------------------------------------------------------------\u001b[39m",
      "\u001b[31mTypeError\u001b[39m                                 Traceback (most recent call last)",
      "\u001b[36mCell\u001b[39m\u001b[36m \u001b[39m\u001b[32mIn[8]\u001b[39m\u001b[32m, line 1\u001b[39m\n\u001b[32m----> \u001b[39m\u001b[32m1\u001b[39m \u001b[43msumm\u001b[49m\u001b[43m(\u001b[49m\u001b[32;43m1\u001b[39;49m\u001b[43m,\u001b[49m\u001b[32;43m2\u001b[39;49m\u001b[43m,\u001b[49m\u001b[32;43m3\u001b[39;49m\u001b[43m,\u001b[49m\u001b[32;43m4\u001b[39;49m\u001b[43m,\u001b[49m\u001b[32;43m7\u001b[39;49m\u001b[43m,\u001b[49m\u001b[32;43m8\u001b[39;49m\u001b[43m)\u001b[49m\n",
      "\u001b[31mTypeError\u001b[39m: summ() takes 2 positional arguments but 6 were given"
     ]
    }
   ],
   "source": [
    "summ(1,2,3,4,7,8)"
   ]
  },
  {
   "cell_type": "code",
   "execution_count": 10,
   "id": "9105d869-8363-46aa-a8d1-62cbf98d9a43",
   "metadata": {},
   "outputs": [
    {
     "data": {
      "text/plain": [
       "function"
      ]
     },
     "execution_count": 10,
     "metadata": {},
     "output_type": "execute_result"
    }
   ],
   "source": [
    "type(summ)"
   ]
  },
  {
   "cell_type": "code",
   "execution_count": 12,
   "id": "5641c58f-d7b7-494e-8fbd-deebeffacddf",
   "metadata": {},
   "outputs": [],
   "source": [
    "def summ(*args):\n",
    "    print(args,\"\\n\",type(args))"
   ]
  },
  {
   "cell_type": "code",
   "execution_count": 13,
   "id": "54ea32bd-c015-45e7-9394-82af3af75db7",
   "metadata": {},
   "outputs": [
    {
     "name": "stdout",
     "output_type": "stream",
     "text": [
      "(1, 2, 3, 4, 7, 8) \n",
      " <class 'tuple'>\n"
     ]
    }
   ],
   "source": [
    "summ(1,2,3,4,7,8)"
   ]
  },
  {
   "cell_type": "code",
   "execution_count": 14,
   "id": "e80f63d6-a1bf-4208-af8b-6344e7fcae07",
   "metadata": {},
   "outputs": [
    {
     "name": "stdout",
     "output_type": "stream",
     "text": [
      "(1,) \n",
      " <class 'tuple'>\n"
     ]
    }
   ],
   "source": [
    "summ(1)"
   ]
  },
  {
   "cell_type": "code",
   "execution_count": 15,
   "id": "4dc04d31-e381-4172-9634-f4620d2501c5",
   "metadata": {},
   "outputs": [
    {
     "name": "stdout",
     "output_type": "stream",
     "text": [
      "(1, 2) \n",
      " <class 'tuple'>\n"
     ]
    }
   ],
   "source": [
    "summ(1,2)"
   ]
  },
  {
   "cell_type": "code",
   "execution_count": 17,
   "id": "244ab323-52c9-4141-bf48-8d0a1c527c80",
   "metadata": {},
   "outputs": [
    {
     "data": {
      "text/plain": [
       "function"
      ]
     },
     "execution_count": 17,
     "metadata": {},
     "output_type": "execute_result"
    }
   ],
   "source": [
    "type(summ)"
   ]
  },
  {
   "cell_type": "code",
   "execution_count": 18,
   "id": "b99abc9b-dee4-4320-9da8-43d6f89f33de",
   "metadata": {},
   "outputs": [],
   "source": [
    "def summ(*args):\n",
    "    for num in args:\n",
    "        print(num)"
   ]
  },
  {
   "cell_type": "code",
   "execution_count": 19,
   "id": "cd47332f-6b76-49a1-a040-b0ae4f26851b",
   "metadata": {},
   "outputs": [
    {
     "name": "stdout",
     "output_type": "stream",
     "text": [
      "1\n",
      "34\n",
      "55\n",
      "65\n",
      "7\n",
      "88\n",
      "89\n",
      "20\n"
     ]
    }
   ],
   "source": [
    "summ(1,34,55,65,7,88,89,20)"
   ]
  },
  {
   "cell_type": "code",
   "execution_count": 23,
   "id": "5fe977af-910a-4fe9-9393-c5037ecba855",
   "metadata": {},
   "outputs": [],
   "source": [
    "def m1(*args):\n",
    "    for num in args:\n",
    "        print(num)"
   ]
  },
  {
   "cell_type": "code",
   "execution_count": 21,
   "id": "99d085d8-91fb-4b47-8e84-3f50fbfdc5ca",
   "metadata": {},
   "outputs": [
    {
     "ename": "TypeError",
     "evalue": "'function' object is not iterable",
     "output_type": "error",
     "traceback": [
      "\u001b[31m---------------------------------------------------------------------------\u001b[39m",
      "\u001b[31mTypeError\u001b[39m                                 Traceback (most recent call last)",
      "\u001b[36mCell\u001b[39m\u001b[36m \u001b[39m\u001b[32mIn[21]\u001b[39m\u001b[32m, line 1\u001b[39m\n\u001b[32m----> \u001b[39m\u001b[32m1\u001b[39m \u001b[43mm1\u001b[49m\u001b[43m(\u001b[49m\u001b[33;43m\"\u001b[39;49m\u001b[33;43mas\u001b[39;49m\u001b[33;43m\"\u001b[39;49m\u001b[43m,\u001b[49m\u001b[33;43m\"\u001b[39;49m\u001b[33;43mdf\u001b[39;49m\u001b[33;43m\"\u001b[39;49m\u001b[43m)\u001b[49m\n",
      "\u001b[36mCell\u001b[39m\u001b[36m \u001b[39m\u001b[32mIn[20]\u001b[39m\u001b[32m, line 2\u001b[39m, in \u001b[36mm1\u001b[39m\u001b[34m(*args)\u001b[39m\n\u001b[32m      1\u001b[39m \u001b[38;5;28;01mdef\u001b[39;00m\u001b[38;5;250m \u001b[39m\u001b[34mm1\u001b[39m(*args):\n\u001b[32m----> \u001b[39m\u001b[32m2\u001b[39m \u001b[43m    \u001b[49m\u001b[38;5;28;43;01mfor\u001b[39;49;00m\u001b[43m \u001b[49m\u001b[43mnum\u001b[49m\u001b[43m \u001b[49m\u001b[38;5;129;43;01min\u001b[39;49;00m\u001b[43m \u001b[49m\u001b[43mm1\u001b[49m\u001b[43m:\u001b[49m\n\u001b[32m      3\u001b[39m \u001b[43m        \u001b[49m\u001b[38;5;28;43mprint\u001b[39;49m\u001b[43m(\u001b[49m\u001b[43mnum\u001b[49m\u001b[43m)\u001b[49m\n",
      "\u001b[31mTypeError\u001b[39m: 'function' object is not iterable"
     ]
    }
   ],
   "source": [
    "m1(\"as\",\"df\")"
   ]
  },
  {
   "cell_type": "code",
   "execution_count": 24,
   "id": "1e6dba23-0120-4d91-8d73-bbdb536b0082",
   "metadata": {},
   "outputs": [
    {
     "name": "stdout",
     "output_type": "stream",
     "text": [
      "23\n",
      "34\n",
      "5\n",
      "6\n",
      "8\n",
      "7\n",
      "9\n"
     ]
    }
   ],
   "source": [
    "def m1(*args):\n",
    "    for num in args:\n",
    "        print(num)\n",
    "m1(23,34,5,6,8,7,9)"
   ]
  },
  {
   "cell_type": "code",
   "execution_count": 40,
   "id": "0dd76bb4-3889-492a-84e2-e9d8364cb1c4",
   "metadata": {},
   "outputs": [
    {
     "data": {
      "text/plain": [
       "4"
      ]
     },
     "execution_count": 40,
     "metadata": {},
     "output_type": "execute_result"
    }
   ],
   "source": [
    "def summ(*args):\n",
    "    total=0\n",
    "    \n",
    "    for num in args:\n",
    "        total=total+num\n",
    "        return total\n",
    "summ(4,5)"
   ]
  },
  {
   "cell_type": "code",
   "execution_count": 35,
   "id": "6214f88f-7ddb-4192-a217-a1d47aa2c575",
   "metadata": {},
   "outputs": [
    {
     "data": {
      "text/plain": [
       "2"
      ]
     },
     "execution_count": 35,
     "metadata": {},
     "output_type": "execute_result"
    }
   ],
   "source": [
    "summ(2,3,4,5,5)"
   ]
  },
  {
   "cell_type": "code",
   "execution_count": 41,
   "id": "d4adeb33-3aa2-4bf1-aa69-a6af5779e0b7",
   "metadata": {},
   "outputs": [
    {
     "name": "stdout",
     "output_type": "stream",
     "text": [
      "0\n"
     ]
    },
    {
     "data": {
      "text/plain": [
       "4"
      ]
     },
     "execution_count": 41,
     "metadata": {},
     "output_type": "execute_result"
    }
   ],
   "source": [
    "def summ(*args):\n",
    "    total=0\n",
    "    print(total)\n",
    "    for num in args:\n",
    "        total=total+num\n",
    "        return total#indentation wrong\n",
    "summ(4,5)"
   ]
  },
  {
   "cell_type": "code",
   "execution_count": 42,
   "id": "11a7b3ee-bb17-4896-a31f-fee4e91a0b87",
   "metadata": {},
   "outputs": [
    {
     "name": "stdout",
     "output_type": "stream",
     "text": [
      "0\n"
     ]
    },
    {
     "data": {
      "text/plain": [
       "12"
      ]
     },
     "execution_count": 42,
     "metadata": {},
     "output_type": "execute_result"
    }
   ],
   "source": [
    "summ(12,23,44)"
   ]
  },
  {
   "cell_type": "code",
   "execution_count": 44,
   "id": "134b6397-0089-4a40-a132-3dc5b012ae04",
   "metadata": {},
   "outputs": [
    {
     "name": "stdout",
     "output_type": "stream",
     "text": [
      "0\n"
     ]
    },
    {
     "data": {
      "text/plain": [
       "9"
      ]
     },
     "execution_count": 44,
     "metadata": {},
     "output_type": "execute_result"
    }
   ],
   "source": [
    "def summ(*args):\n",
    "    total=0\n",
    "    print(total)\n",
    "    for num in args:\n",
    "        total=total+num\n",
    "    return total# indentaion right\n",
    "summ(4,5)"
   ]
  },
  {
   "cell_type": "code",
   "execution_count": 45,
   "id": "a4ea6696-0148-4499-aca5-2319d32956f8",
   "metadata": {},
   "outputs": [],
   "source": [
    "#OMGGGG indentation error, its not showing, we need to b aware of it"
   ]
  },
  {
   "cell_type": "code",
   "execution_count": 48,
   "id": "9613fa94-a16e-4a2e-bfd7-ad674b219953",
   "metadata": {},
   "outputs": [
    {
     "ename": "SyntaxError",
     "evalue": "Missing parentheses in call to 'print'. Did you mean print(...)? (4237176757.py, line 2)",
     "output_type": "error",
     "traceback": [
      "  \u001b[36mCell\u001b[39m\u001b[36m \u001b[39m\u001b[32mIn[48]\u001b[39m\u001b[32m, line 2\u001b[39m\n\u001b[31m    \u001b[39m\u001b[31mprint a\u001b[39m\n    ^\n\u001b[31mSyntaxError\u001b[39m\u001b[31m:\u001b[39m Missing parentheses in call to 'print'. Did you mean print(...)?\n"
     ]
    }
   ],
   "source": [
    "a,b=[1,2]\n",
    "print a\n",
    "print b"
   ]
  },
  {
   "cell_type": "code",
   "execution_count": 47,
   "id": "72f10d40-1971-4278-bf6c-078e154e8ae4",
   "metadata": {},
   "outputs": [
    {
     "name": "stdout",
     "output_type": "stream",
     "text": [
      "1\n",
      "2\n"
     ]
    }
   ],
   "source": [
    "a,b=[1,2]\n",
    "print (a)\n",
    "print (b)"
   ]
  },
  {
   "cell_type": "code",
   "execution_count": 50,
   "id": "0665434f-a48e-4647-a583-6fb400be9e50",
   "metadata": {},
   "outputs": [
    {
     "name": "stdout",
     "output_type": "stream",
     "text": [
      "1\n",
      "2\n",
      "3\n"
     ]
    }
   ],
   "source": [
    "a,b,c=(1,2,3)\n",
    "print(a)\n",
    "print(b)\n",
    "print(c)"
   ]
  },
  {
   "cell_type": "code",
   "execution_count": 51,
   "id": "9244c74b-debe-4c7a-8afa-24c6e7921b45",
   "metadata": {},
   "outputs": [
    {
     "ename": "ValueError",
     "evalue": "too many values to unpack (expected 3)",
     "output_type": "error",
     "traceback": [
      "\u001b[31m---------------------------------------------------------------------------\u001b[39m",
      "\u001b[31mValueError\u001b[39m                                Traceback (most recent call last)",
      "\u001b[36mCell\u001b[39m\u001b[36m \u001b[39m\u001b[32mIn[51]\u001b[39m\u001b[32m, line 1\u001b[39m\n\u001b[32m----> \u001b[39m\u001b[32m1\u001b[39m a,b,c=(\u001b[32m1\u001b[39m,\u001b[32m2\u001b[39m,\u001b[32m3\u001b[39m,\u001b[32m4\u001b[39m,\u001b[32m5\u001b[39m,\u001b[32m6\u001b[39m,\u001b[32m7\u001b[39m,\u001b[32m7\u001b[39m,\u001b[32m8\u001b[39m,\u001b[32m8\u001b[39m,\u001b[32m9\u001b[39m,\u001b[32m9\u001b[39m)\n",
      "\u001b[31mValueError\u001b[39m: too many values to unpack (expected 3)"
     ]
    }
   ],
   "source": [
    "a,b,c=(1,2,3,4,5,6,7,7,8,8,9,9)"
   ]
  },
  {
   "cell_type": "raw",
   "id": "d71b7e37-0eba-448c-b1c1-477faf9a9135",
   "metadata": {},
   "source": []
  },
  {
   "cell_type": "code",
   "execution_count": 53,
   "id": "b93e3d6f-74c0-4dc9-820d-4e60e009f165",
   "metadata": {},
   "outputs": [],
   "source": [
    "def kwar(**kwargs):\n",
    "    return kwargs\n",
    "#while defining we use **, while returning no need"
   ]
  },
  {
   "cell_type": "code",
   "execution_count": 1,
   "id": "25d51d9c-cf1b-4eff-997b-6ae5e7b7c133",
   "metadata": {},
   "outputs": [
    {
     "ename": "NameError",
     "evalue": "name 'kwar' is not defined",
     "output_type": "error",
     "traceback": [
      "\u001b[31m---------------------------------------------------------------------------\u001b[39m",
      "\u001b[31mNameError\u001b[39m                                 Traceback (most recent call last)",
      "\u001b[36mCell\u001b[39m\u001b[36m \u001b[39m\u001b[32mIn[1]\u001b[39m\u001b[32m, line 1\u001b[39m\n\u001b[32m----> \u001b[39m\u001b[32m1\u001b[39m \u001b[43mkwar\u001b[49m(maths=\u001b[32m60\u001b[39m,sci=\u001b[32m50\u001b[39m,soc=\u001b[32m56\u001b[39m,tel=\u001b[32m54\u001b[39m,hin=\u001b[32m76\u001b[39m)\n",
      "\u001b[31mNameError\u001b[39m: name 'kwar' is not defined"
     ]
    }
   ],
   "source": [
    "kwar(maths=60,sci=50,soc=56,tel=54,hin=76)"
   ]
  },
  {
   "cell_type": "code",
   "execution_count": 55,
   "id": "8a6c1973-c7a2-4d30-b495-b49132c958d6",
   "metadata": {},
   "outputs": [
    {
     "data": {
      "text/plain": [
       "{'a': 34, 'b': 56, 'c': 59, 'd': 'egg'}"
      ]
     },
     "execution_count": 55,
     "metadata": {},
     "output_type": "execute_result"
    }
   ],
   "source": [
    "kwar(a=34,b=56,c=59,d='egg')"
   ]
  },
  {
   "cell_type": "code",
   "execution_count": 3,
   "id": "bc514aa7-f1be-4895-ace5-86eeb316336b",
   "metadata": {},
   "outputs": [],
   "source": [
    "def kwar(**kwargs):\n",
    "    return kwargs"
   ]
  },
  {
   "cell_type": "code",
   "execution_count": 4,
   "id": "cd76c85b-4e6c-42b7-a933-9e4aebeda840",
   "metadata": {},
   "outputs": [
    {
     "data": {
      "text/plain": [
       "{'maths': 60, 'sci': 50, 'soc': 56, 'tel': 54, 'hin': 76}"
      ]
     },
     "execution_count": 4,
     "metadata": {},
     "output_type": "execute_result"
    }
   ],
   "source": [
    "kwar(maths=60,sci=50,soc=56,tel=54,hin=76)"
   ]
  },
  {
   "cell_type": "code",
   "execution_count": 5,
   "id": "4d6fe615-09b4-4fa8-b63b-fe322988eafc",
   "metadata": {},
   "outputs": [],
   "source": [
    "#dict as o/p"
   ]
  },
  {
   "cell_type": "code",
   "execution_count": null,
   "id": "9ff7e5d2-565a-4336-b094-e9abe7a7928c",
   "metadata": {},
   "outputs": [],
   "source": []
  }
 ],
 "metadata": {
  "kernelspec": {
   "display_name": "Python 3 (ipykernel)",
   "language": "python",
   "name": "python3"
  },
  "language_info": {
   "codemirror_mode": {
    "name": "ipython",
    "version": 3
   },
   "file_extension": ".py",
   "mimetype": "text/x-python",
   "name": "python",
   "nbconvert_exporter": "python",
   "pygments_lexer": "ipython3",
   "version": "3.13.3"
  }
 },
 "nbformat": 4,
 "nbformat_minor": 5
}
