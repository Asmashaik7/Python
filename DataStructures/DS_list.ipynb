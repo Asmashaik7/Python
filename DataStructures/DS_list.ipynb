{
 "cells": [
  {
   "cell_type": "code",
   "execution_count": 2,
   "id": "9edde1ff-7815-4c99-bb93-93c0e0413872",
   "metadata": {},
   "outputs": [],
   "source": [
    "# Problem Statement\n",
    "# Write the code snippets to show different ways of creating list for the following\n",
    "# scenario.\n",
    "# Scenario:\n",
    "# Consider that you are using pandas to evaluate details for making a fantasy cricket\n",
    "# team called “My Super”. Here are the details:\n",
    "# • Player - Name of the player\n",
    "# • Team - Player belongs to which country\n",
    "# • Matches - Total number of matches played\n",
    "# • Innings - Total number of innings played\n",
    "# • NO - Total number of NOT OUT\n",
    "# • Runs - Total number of runs\n",
    "# • HS - Highest score\n",
    "# • Average - Batting average\n",
    "# • 100s - Total number of hundreds scored\n",
    "# • 50s - Total number of fifties scored\n",
    "# Few experts have recommended the player details based on performance in\n",
    "# different leagues. You have collected all the recommendations with records for each\n",
    "# player. The following dataset shows the details:\n"
   ]
  },
  {
   "cell_type": "code",
   "execution_count": 3,
   "id": "ce9c4d9c-fdd0-4452-ba02-5ccd084d76a3",
   "metadata": {},
   "outputs": [],
   "source": [
    "# Player Team Matches Innings NO Runs HS Average 100s 50s\n",
    "# Alex Team 1 251 242 39 12040 183 59.31 43 60\n",
    "# Henry Team 2 77 75 11 3580 125 55.93 12 16\n",
    "# Evan Team 1 224 217 32 9115 264 49.27 29 43\n",
    "# John Team 3 232 216 39 8574 181 48.44 21 51\n",
    "# William Team 4 126 122 3 4822 153 41.02 16 26\n",
    "# James Team 5 143 126 30 5507 185 47.47 12 35\n",
    "# Liam Team 6 123 121 6 5267 179 45.80 18 21\n",
    "# Oliver Team 4 151 144 14 6173 148 47.48 13 39"
   ]
  },
  {
   "cell_type": "code",
   "execution_count": 4,
   "id": "16fef392-9c77-48b0-a080-1734e3e69f15",
   "metadata": {},
   "outputs": [],
   "source": [
    "# # List of Lists\n",
    "# players_data = [\n",
    "#     [\"Alex\", \"Team 1\", 251, 242, 39, 12040, 183, 59.31, 43, 60],\n",
    "#     [\"Henry\", \"Team 2\", 77, 75, 11, 3580, 125, 55.93, 12, 16],\n",
    "#     [\"Evan\", \"Team 1\", 224, 217, 32, 9115, 264, 49.27, 29, 43],\n",
    "#     [\"John\", \"Team 3\", 232, 216, 39, 8574, 181, 48.44, 21, 51],\n",
    "#     [\"William\", \"Team 4\", 126, 122, 3, 4822, 153, 41.02, 16, 26],\n",
    "#     [\"James\", \"Team 5\", 143, 126, 30, 5507, 185, 47.47, 12, 35],\n",
    "#     [\"Liam\", \"Team 6\", 123, 121, 6, 5267, 179, 45.80, 18, 21],\n",
    "#     [\"Oliver\", \"Team 4\", 151, 144, 14, 6173, 148, 47.48, 13, 39]\n",
    "# ]"
   ]
  },
  {
   "cell_type": "code",
   "execution_count": null,
   "id": "2e83fd64-849f-4658-937a-f8edaf470039",
   "metadata": {},
   "outputs": [],
   "source": [
    "# List Using Tuples\n",
    "\n",
    "# Protects data from accidental changes.\n",
    "\n",
    "# players_tuple = [\n",
    "#     (\"Alex\", \"Team 1\", 251, 242, 39, 12040, 183, 59.31, 43, 60),\n",
    "#     (\"Henry\", \"Team 2\", 77, 75, 11, 3580, 125, 55.93, 12, 16),\n",
    "#     (\"Evan\", \"Team 1\", 224, 217, 32, 9115, 264, 49.27, 29, 43),\n",
    "#     (\"John\", \"Team 3\", 232, 216, 39, 8574, 181, 48.44, 21, 51),\n",
    "#     (\"William\", \"Team 4\", 126, 122, 3, 4822, 153, 41.02, 16, 26),\n",
    "#     (\"James\", \"Team 5\", 143, 126, 30, 5507, 185, 47.47, 12, 35),\n",
    "#     (\"Liam\", \"Team 6\", 123, 121, 6, 5267, 179, 45.80, 18, 21),\n",
    "#     (\"Oliver\", \"Team 4\", 151, 144, 14, 6173, 148, 47.48, 13, 39)\n",
    "# ]"
   ]
  },
  {
   "cell_type": "code",
   "execution_count": 5,
   "id": "ae95f649-c610-42a7-b702-be3cdec7f2ed",
   "metadata": {},
   "outputs": [],
   "source": [
    "# using dictionaries\n",
    "# players_dict = [\n",
    "#     {\"Player\": \"Alex\", \"Team\": \"Team 1\", \"Matches\": 251, \"Innings\": 242, \"NO\": 39, \"Runs\": 12040, \"HS\": 183, \"Average\": 59.31, \"100s\": 43, \"50s\": 60},\n",
    "#     {\"Player\": \"Henry\", \"Team\": \"Team 2\", \"Matches\": 77, \"Innings\": 75, \"NO\": 11, \"Runs\": 3580, \"HS\": 125, \"Average\": 55.93, \"100s\": 12, \"50s\": 16},\n",
    "#     {\"Player\": \"Evan\", \"Team\": \"Team 1\", \"Matches\": 224, \"Innings\": 217, \"NO\": 32, \"Runs\": 9115, \"HS\": 264, \"Average\": 49.27, \"100s\": 29, \"50s\": 43},\n",
    "#     {\"Player\": \"John\", \"Team\": \"Team 3\", \"Matches\": 232, \"Innings\": 216, \"NO\": 39, \"Runs\": 8574, \"HS\": 181, \"Average\": 48.44, \"100s\": 21, \"50s\": 51},\n",
    "#     {\"Player\": \"William\", \"Team\": \"Team 4\", \"Matches\": 126, \"Innings\": 122, \"NO\": 3, \"Runs\": 4822, \"HS\": 153, \"Average\": 41.02, \"100s\": 16, \"50s\": 26},\n",
    "#     {\"Player\": \"James\", \"Team\": \"Team 5\", \"Matches\": 143, \"Innings\": 126, \"NO\": 30, \"Runs\": 5507, \"HS\": 185, \"Average\": 47.47, \"100s\": 12, \"50s\": 35},\n",
    "#     {\"Player\": \"Liam\", \"Team\": \"Team 6\", \"Matches\": 123, \"Innings\": 121, \"NO\": 6, \"Runs\": 5267, \"HS\": 179, \"Average\": 45.80, \"100s\": 18, \"50s\": 21},\n",
    "#     {\"Player\": \"Oliver\", \"Team\": \"Team 4\", \"Matches\": 151, \"Innings\": 144, \"NO\": 14, \"Runs\": 6173, \"HS\": 148, \"Average\": 47.48, \"100s\": 13, \"50s\": 39}\n",
    "# ]\n"
   ]
  },
  {
   "cell_type": "code",
   "execution_count": 6,
   "id": "d2f80273-223b-40ea-8ae1-d31dc96bcf4d",
   "metadata": {},
   "outputs": [],
   "source": [
    "# 3️⃣ Separate Lists for Each Column\n",
    "# pandas columns for a DataFrame\n",
    "\n",
    "Player = [\"Alex\", \"Henry\", \"Evan\", \"John\", \"William\", \"James\", \"Liam\", \"Oliver\"]\n",
    "Team = [\"Team 1\", \"Team 2\", \"Team 1\", \"Team 3\", \"Team 4\", \"Team 5\", \"Team 6\", \"Team 4\"]\n",
    "Matches = [251, 77, 224, 232, 126, 143, 123, 151]\n",
    "Innings = [242, 75, 217, 216, 122, 126, 121, 144]\n",
    "NO = [39, 11, 32, 39, 3, 30, 6, 14]\n",
    "Runs = [12040, 3580, 9115, 8574, 4822, 5507, 5267, 6173]\n",
    "HS = [183, 125, 264, 181, 153, 185, 179, 148]\n",
    "Average = [59.31, 55.93, 49.27, 48.44, 41.02, 47.47, 45.80, 47.48]\n",
    "Hundreds = [43, 12, 29, 21, 16, 12, 18, 13]\n",
    "Fifties = [60, 16, 43, 51, 26, 35, 21, 39]"
   ]
  },
  {
   "cell_type": "code",
   "execution_count": 7,
   "id": "90119399-9edb-4254-8347-842bba1c2025",
   "metadata": {},
   "outputs": [],
   "source": [
    "# a. Create the list of floats that contains batting averages of different players [59.31,\n",
    "# 55.93, 49.27, 48.44] and assign it to the variable batting_avg"
   ]
  },
  {
   "cell_type": "code",
   "execution_count": 8,
   "id": "65c5702d-dbdf-4658-98d2-b1d2f6a6b609",
   "metadata": {},
   "outputs": [],
   "source": [
    "batting_avg=[59.31, 55.93, 49.27, 48.44, 41.02, 47.47, 45.80, 47.48]"
   ]
  },
  {
   "cell_type": "code",
   "execution_count": 9,
   "id": "6e07b5c0-2e39-48dd-84d4-52391e5e0c2d",
   "metadata": {},
   "outputs": [
    {
     "data": {
      "text/plain": [
       "[59.31, 55.93, 49.27, 48.44, 41.02, 47.47, 45.8, 47.48]"
      ]
     },
     "execution_count": 9,
     "metadata": {},
     "output_type": "execute_result"
    }
   ],
   "source": [
    "batting_avg"
   ]
  },
  {
   "cell_type": "code",
   "execution_count": 10,
   "id": "690c8244-91b2-4900-9f2a-d79454790458",
   "metadata": {},
   "outputs": [
    {
     "data": {
      "text/plain": [
       "list"
      ]
     },
     "execution_count": 10,
     "metadata": {},
     "output_type": "execute_result"
    }
   ],
   "source": [
    "type(batting_avg)"
   ]
  },
  {
   "cell_type": "code",
   "execution_count": 11,
   "id": "c315d101-a2d2-4337-921a-e09eef7fc07f",
   "metadata": {},
   "outputs": [],
   "source": [
    "# c. Create the list of strings that contain player names [\"Alex\", \"Henry\", \"Evan\",\n",
    "# \"John\"] and assign it to the variable player_names"
   ]
  },
  {
   "cell_type": "code",
   "execution_count": 12,
   "id": "8cb5a75c-2263-46d3-ae65-242de538ae64",
   "metadata": {},
   "outputs": [],
   "source": [
    "player_names=[\"Alex\", \"Henry\", \"Evan\", \"John\", \"William\", \"James\", \"Liam\", \"Oliver\"]"
   ]
  },
  {
   "cell_type": "code",
   "execution_count": 13,
   "id": "7476952e-fe1f-4185-a3e4-22c264bb02b2",
   "metadata": {},
   "outputs": [
    {
     "data": {
      "text/plain": [
       "['Alex', 'Henry', 'Evan', 'John', 'William', 'James', 'Liam', 'Oliver']"
      ]
     },
     "execution_count": 13,
     "metadata": {},
     "output_type": "execute_result"
    }
   ],
   "source": [
    "player_names"
   ]
  },
  {
   "cell_type": "code",
   "execution_count": 14,
   "id": "83e56c92-1f7f-4c53-88eb-4331ada03903",
   "metadata": {},
   "outputs": [],
   "source": [
    "# d. Create the list of mixed data types containing player details ['Alex', 12040, 59.31]\n",
    "# and assign it to the variable player_details"
   ]
  },
  {
   "cell_type": "code",
   "execution_count": 15,
   "id": "c9a666e9-38e8-4cb3-b372-4fe7fe5c0286",
   "metadata": {},
   "outputs": [],
   "source": [
    "player_details= [\"Alex\", \"Team 1\", 251, 242, 39, 12040, 183, 59.31, 43, 60]"
   ]
  },
  {
   "cell_type": "code",
   "execution_count": 16,
   "id": "a8d4d38d-5cda-4811-b2ed-69f0c6142928",
   "metadata": {},
   "outputs": [
    {
     "data": {
      "text/plain": [
       "['Alex', 'Team 1', 251, 242, 39, 12040, 183, 59.31, 43, 60]"
      ]
     },
     "execution_count": 16,
     "metadata": {},
     "output_type": "execute_result"
    }
   ],
   "source": [
    "player_details"
   ]
  },
  {
   "cell_type": "code",
   "execution_count": 17,
   "id": "e74d7bc8-68ab-453a-b9b8-64e1efc6a066",
   "metadata": {},
   "outputs": [],
   "source": [
    "# e. Create an empty list using index operator and list constructor"
   ]
  },
  {
   "cell_type": "code",
   "execution_count": 29,
   "id": "c3bd3976-d6f0-4cbc-b920-03d94661bd17",
   "metadata": {},
   "outputs": [],
   "source": [
    "my_lista=[]"
   ]
  },
  {
   "cell_type": "code",
   "execution_count": 30,
   "id": "39a23df7-4123-4c1e-9ac3-e21edac583d7",
   "metadata": {},
   "outputs": [
    {
     "data": {
      "text/plain": [
       "[]"
      ]
     },
     "execution_count": 30,
     "metadata": {},
     "output_type": "execute_result"
    }
   ],
   "source": [
    "my_lista"
   ]
  },
  {
   "cell_type": "code",
   "execution_count": 4,
   "id": "c64a1a7e-e663-47d1-afa8-bf74afa91338",
   "metadata": {},
   "outputs": [
    {
     "data": {
      "text/plain": [
       "['Sam', 'Stewart']"
      ]
     },
     "execution_count": 4,
     "metadata": {},
     "output_type": "execute_result"
    }
   ],
   "source": [
    "# f. You can convert a string to a list using the split method. Split method converts\n",
    "# every word separated by a space into an element in a list.\n",
    "# Create a list using split\n",
    "# Split the string, default is by space\n",
    "'Sam Stewart'.split()"
   ]
  },
  {
   "cell_type": "code",
   "execution_count": 6,
   "id": "e5442341-5f04-44dc-a1e2-3ad5ae6b34e1",
   "metadata": {},
   "outputs": [
    {
     "data": {
      "text/plain": [
       "['Sam', ' Alex', ' Richard', ' Ross']"
      ]
     },
     "execution_count": 6,
     "metadata": {},
     "output_type": "execute_result"
    }
   ],
   "source": [
    "# ii. Separate strings based on a specific character.\n",
    "# Pass the character you would like to split into the argument, which is a comma in this case.\n",
    "# Split the string by comma\n",
    "'Sam, Alex, Richard, Ross'.split(',')\n",
    "# The result is a list, and each element is separated by a comma"
   ]
  },
  {
   "cell_type": "code",
   "execution_count": 7,
   "id": "75b4889d-4572-43c9-985a-410f95e56812",
   "metadata": {},
   "outputs": [
    {
     "name": "stdout",
     "output_type": "stream",
     "text": [
      "59.31\n",
      "55.93\n",
      "49.27\n"
     ]
    }
   ],
   "source": [
    "# Access elements using index\n",
    "batting_avg = [59.31, 55.93, 49.27,48.44]\n",
    "print(batting_avg[0])\n",
    "print(batting_avg[1])\n",
    "print(batting_avg[2])"
   ]
  },
  {
   "cell_type": "code",
   "execution_count": 8,
   "id": "a07476c2-6e88-4c75-a7bb-419b6e0dfbaf",
   "metadata": {},
   "outputs": [
    {
     "name": "stdout",
     "output_type": "stream",
     "text": [
      "59.31\n",
      "55.93\n",
      "49.27\n",
      "48.44\n"
     ]
    }
   ],
   "source": [
    "for each in batting_avg:\n",
    "    print(each)"
   ]
  },
  {
   "cell_type": "code",
   "execution_count": 9,
   "id": "11d140c4-f1bb-435d-83ae-8411a92cd91c",
   "metadata": {},
   "outputs": [
    {
     "name": "stdout",
     "output_type": "stream",
     "text": [
      "48.44\n"
     ]
    }
   ],
   "source": [
    "# negative indexing\n",
    "print(batting_avg[-1])"
   ]
  },
  {
   "cell_type": "code",
   "execution_count": 13,
   "id": "a6adab64-8f94-4b6f-b46f-990ecc0dc938",
   "metadata": {},
   "outputs": [
    {
     "name": "stdout",
     "output_type": "stream",
     "text": [
      "Alex\n",
      "12040\n",
      "59.31\n",
      "['Team1', 251]\n",
      "(43, 60)\n"
     ]
    }
   ],
   "source": [
    " # Nested List\n",
    "# A list can also have other lists, tuples, and data structures as an element. This is called 'nested' list.\n",
    "nested_list_ex = [\"Alex\", 12040, 59.31, [\"Team1\", 251], (43, 60)]\n",
    "for each in nested_list_ex:\n",
    "    print(each)"
   ]
  },
  {
   "cell_type": "code",
   "execution_count": 14,
   "id": "8e139f03-58c0-40ae-941a-ea7b1887d91e",
   "metadata": {},
   "outputs": [
    {
     "data": {
      "text/plain": [
       "'Team1'"
      ]
     },
     "execution_count": 14,
     "metadata": {},
     "output_type": "execute_result"
    }
   ],
   "source": [
    "nested_list_ex[3][0]"
   ]
  },
  {
   "cell_type": "code",
   "execution_count": 15,
   "id": "948d011f-a35a-4804-bb5a-282eb41935ef",
   "metadata": {},
   "outputs": [
    {
     "data": {
      "text/plain": [
       "43"
      ]
     },
     "execution_count": 15,
     "metadata": {},
     "output_type": "execute_result"
    }
   ],
   "source": [
    "nested_list_ex[4][0]"
   ]
  },
  {
   "cell_type": "code",
   "execution_count": 19,
   "id": "2bdc5d93-19a6-4230-8f79-3dde0c159a87",
   "metadata": {},
   "outputs": [
    {
     "data": {
      "text/plain": [
       "[59.31, 55.93, 49.27, 48.44, 41.02]"
      ]
     },
     "execution_count": 19,
     "metadata": {},
     "output_type": "execute_result"
    }
   ],
   "source": [
    "# Slicing\n",
    "# Access number of elements in a list using slicing [ start : end ]\n",
    "# Slice indexes from 0th to 2nd in the list\n",
    "# [start index: inclusive] [end index: exclusive]\n",
    "# Slice indexes 0th to 2nd\n",
    "batting_avg = [59.31, 55.93, 49.27,48.44,41.02]\n",
    "batting_avg\n"
   ]
  },
  {
   "cell_type": "code",
   "execution_count": 20,
   "id": "6dee825d-08b9-4896-992c-5b641ac632da",
   "metadata": {},
   "outputs": [
    {
     "data": {
      "text/plain": [
       "[59.31, 55.93, 49.27]"
      ]
     },
     "execution_count": 20,
     "metadata": {},
     "output_type": "execute_result"
    }
   ],
   "source": [
    "batting_avg[0:3]"
   ]
  },
  {
   "cell_type": "code",
   "execution_count": 21,
   "id": "70b57f98-a74d-42cf-b9ed-b4c2ecd2678d",
   "metadata": {},
   "outputs": [
    {
     "data": {
      "text/plain": [
       "[48.44, 41.02]"
      ]
     },
     "execution_count": 21,
     "metadata": {},
     "output_type": "execute_result"
    }
   ],
   "source": [
    "# b. Obtain the last two elements of the list\n",
    "batting_avg[3:5]"
   ]
  },
  {
   "cell_type": "code",
   "execution_count": 22,
   "id": "8b244e24-2a4c-40c3-b256-cf3e0b0c9b12",
   "metadata": {},
   "outputs": [
    {
     "ename": "IndexError",
     "evalue": "list index out of range",
     "output_type": "error",
     "traceback": [
      "\u001b[31m---------------------------------------------------------------------------\u001b[39m",
      "\u001b[31mIndexError\u001b[39m                                Traceback (most recent call last)",
      "\u001b[36mCell\u001b[39m\u001b[36m \u001b[39m\u001b[32mIn[22]\u001b[39m\u001b[32m, line 1\u001b[39m\n\u001b[32m----> \u001b[39m\u001b[32m1\u001b[39m \u001b[43mbatting_avg\u001b[49m\u001b[43m[\u001b[49m\u001b[32;43m5\u001b[39;49m\u001b[43m]\u001b[49m\n",
      "\u001b[31mIndexError\u001b[39m: list index out of range"
     ]
    }
   ],
   "source": [
    "batting_avg[5]"
   ]
  },
  {
   "cell_type": "code",
   "execution_count": 24,
   "id": "521e0f63-5b3c-4b8c-aa7b-bf46cdeb1cfc",
   "metadata": {},
   "outputs": [
    {
     "data": {
      "text/plain": [
       "5"
      ]
     },
     "execution_count": 24,
     "metadata": {},
     "output_type": "execute_result"
    }
   ],
   "source": [
    "# c. Find the length of a list\n",
    "len(batting_avg)"
   ]
  },
  {
   "cell_type": "code",
   "execution_count": 25,
   "id": "75afee84-90b1-4a97-84af-f8036aab5b1d",
   "metadata": {},
   "outputs": [
    {
     "data": {
      "text/plain": [
       "[59.31, 55.93, 49.27, 48.44, 41.02, 47.47]"
      ]
     },
     "execution_count": 25,
     "metadata": {},
     "output_type": "execute_result"
    }
   ],
   "source": [
    "# Extend a List\n",
    "# Add new elements to the list from another list using the extend() method.\n",
    "# Apply extend [41.02,47.47] to add two new elements to the list\n",
    "# # Use extends to add elements to list\n",
    "batting_avg = [59.31, 55.93, 49.27,48.44]\n",
    "batting_avg.extend([41.02,47.47])\n",
    "batting_avg"
   ]
  },
  {
   "cell_type": "code",
   "execution_count": 26,
   "id": "aff22008-bba4-46dd-8381-c5c9b564541d",
   "metadata": {},
   "outputs": [
    {
     "data": {
      "text/plain": [
       "[59.31, 55.93, 49.27, 48.44, [41.02, 47.47]]"
      ]
     },
     "execution_count": 26,
     "metadata": {},
     "output_type": "execute_result"
    }
   ],
   "source": [
    "# Append a List\n",
    "# Add one element at the end of the list using the append() method.\n",
    "# Use append to add elements to list\n",
    "# If we append the list [41.02,47.47], a new element will be added consisting of a nested list.\n",
    "\n",
    "batting_avg = [59.31, 55.93, 49.27,48.44]\n",
    "batting_avg.append([41.02,47.47])\n",
    "batting_avg"
   ]
  },
  {
   "cell_type": "code",
   "execution_count": 27,
   "id": "ef99252d-fb65-4b88-9f94-3260d355b806",
   "metadata": {},
   "outputs": [
    {
     "name": "stdout",
     "output_type": "stream",
     "text": [
      "Batting average before change : [59.31, 55.93, 49.27, 48.44]\n",
      "Batting average after change: [60, 55.93, 49.27, 48.44]\n"
     ]
    }
   ],
   "source": [
    "# Since lists are mutable, we can alter them.\n",
    "# Modify the first element of the list\n",
    "# Change the first element\n",
    "batting_avg = [59.31, 55.93, 49.27,48.44]\n",
    "print('Batting average before change :', batting_avg)\n",
    "batting_avg[0] = 60\n",
    "print('Batting average after change:', batting_avg)"
   ]
  },
  {
   "cell_type": "code",
   "execution_count": 28,
   "id": "6c182469-d75f-4eeb-b2b9-237a1510e4b8",
   "metadata": {},
   "outputs": [
    {
     "name": "stdout",
     "output_type": "stream",
     "text": [
      "Batting average before insert : [59.31, 55.93, 49.27, 48.44]\n",
      "Batting average after insert: [59.31, 55.93, 60, 49.27, 48.44]\n"
     ]
    }
   ],
   "source": [
    "# Insert an element at a desired index position\n",
    "# Insert element at 2nd index\n",
    "batting_avg = [59.31, 55.93, 49.27,48.44]\n",
    "print('Batting average before insert :', batting_avg)\n",
    "batting_avg.insert(2, 60)\n",
    "print('Batting average after insert:', batting_avg)"
   ]
  },
  {
   "cell_type": "code",
   "execution_count": 29,
   "id": "35ef9a49-77d7-4447-b79a-13840fbf9e67",
   "metadata": {},
   "outputs": [
    {
     "name": "stdout",
     "output_type": "stream",
     "text": [
      "Before deleting : [59.31, 55.93, 49.27, 48.44]\n",
      "After deleting: [55.93, 49.27, 48.44]\n"
     ]
    }
   ],
   "source": [
    "# Delete an element of a list using del command\n",
    "# Delete the first element from the list\n",
    "batting_avg = [59.31, 55.93, 49.27,48.44]\n",
    "print('Before deleting :', batting_avg)\n",
    "del(batting_avg[0])\n",
    "print('After deleting:', batting_avg)\n"
   ]
  },
  {
   "cell_type": "code",
   "execution_count": 30,
   "id": "89cca5b6-e7f7-4a65-883f-ff60af034cf4",
   "metadata": {},
   "outputs": [
    {
     "data": {
      "text/plain": [
       "[59.31, 55.93, 49.27, 48.44]"
      ]
     },
     "execution_count": 30,
     "metadata": {},
     "output_type": "execute_result"
    }
   ],
   "source": [
    "# Concatenation and Repetition\n",
    "# Use + sign operator to combine lists\n",
    "# Concatenate two list\n",
    "my_list = [59.31, 55.93]\n",
    "my_list2 = my_list + [49.27,48.44]\n",
    "my_list2\n"
   ]
  },
  {
   "cell_type": "code",
   "execution_count": 31,
   "id": "7c9aa71f-55b5-4ca9-b795-e4eab6d4718d",
   "metadata": {},
   "outputs": [
    {
     "data": {
      "text/plain": [
       "[59.31, 55.93, 59.31, 55.93]"
      ]
     },
     "execution_count": 31,
     "metadata": {},
     "output_type": "execute_result"
    }
   ],
   "source": [
    " # Use * sign to repeat the elements of the list for a given number of times\n",
    "# Repeat\n",
    "my_list = [59.31, 55.93]\n",
    "my_list * 2"
   ]
  },
  {
   "cell_type": "code",
   "execution_count": 36,
   "id": "40672ca5-e422-4016-bfba-42f033dd43fd",
   "metadata": {},
   "outputs": [
    {
     "name": "stdout",
     "output_type": "stream",
     "text": [
      "[45.8, 47.47, 47.48, 49.27, 55.93, 59.31]\n"
     ]
    }
   ],
   "source": [
    "# Create a list\n",
    "# A sample list\n",
    "batting_avg = [47.48,45.80,47.47,59.31,49.27,55.93]\n",
    "b=sorted(batting_avg)\n",
    "print(b)"
   ]
  },
  {
   "cell_type": "code",
   "execution_count": null,
   "id": "30eaba88-4354-49a3-8749-5511b6ffc40b",
   "metadata": {},
   "outputs": [],
   "source": []
  }
 ],
 "metadata": {
  "kernelspec": {
   "display_name": "Python 3 (ipykernel)",
   "language": "python",
   "name": "python3"
  },
  "language_info": {
   "codemirror_mode": {
    "name": "ipython",
    "version": 3
   },
   "file_extension": ".py",
   "mimetype": "text/x-python",
   "name": "python",
   "nbconvert_exporter": "python",
   "pygments_lexer": "ipython3",
   "version": "3.13.3"
  }
 },
 "nbformat": 4,
 "nbformat_minor": 5
}
