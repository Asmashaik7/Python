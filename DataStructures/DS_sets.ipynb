{
 "cells": [
  {
   "cell_type": "code",
   "execution_count": 1,
   "id": "3ff4866e-af43-48d5-95ac-2c8aca2753bc",
   "metadata": {},
   "outputs": [],
   "source": [
    "# 1 Problem Statement\n",
    "# Write the code snippets to show different ways of creating Python sets for the\n",
    "# following scenario.\n",
    "# Scenario:\n",
    "# Assume that you want to evaluate player details for making a fantasy cricket team\n",
    "# called “My Super”. Here are the details:\n",
    "# • Player - Name of the player\n",
    "# • Team - Player belongs to which country\n",
    "# • Matches - Total number of matches played\n",
    "# • Innings - Total number of innings played\n",
    "# • NO - Total number of NOT OUT\n",
    "# • Runs - Total number of runs\n",
    "# • HS - Highest score\n",
    "# • Average - Batting average\n",
    "# • 100s - Total number of hundreds scored\n",
    "# • 50s - Total number of fifties scored\n",
    "# Few experts have recommended the player details based on performance in\n",
    "# different leagues. You have collected all the recommendations with records for each\n",
    "# player. The following dataset shows the details:"
   ]
  },
  {
   "cell_type": "code",
   "execution_count": 2,
   "id": "cf44e7ee-1621-4f6c-ae9c-764870f46ee4",
   "metadata": {},
   "outputs": [],
   "source": [
    "# Player Team Matches Innings NO Runs HS Average 100s 50s\n",
    "# Alex Team 1 251 242 39 12040 183 59.31 43 60\n",
    "# Henry Team 2 77 75 11 3580 125 55.93 12 16\n",
    "# Evan Team 1 224 217 32 9115 264 49.27 29 43\n",
    "# John Team 3 232 216 39 8574 181 48.44 21 51\n",
    "# William Team 4 126 122 3 4822 153 41.02 16 26\n",
    "# James Team 5 143 126 30 5507 185 47.47 12 35\n",
    "# Liam Team 6 123 121 6 5267 179 45.80 18 21\n",
    "# Oliver Team 4 151 144 14 6173 148 47.48 13 39"
   ]
  },
  {
   "cell_type": "code",
   "execution_count": 4,
   "id": "10e02931-1246-42db-ba74-63e89fb91628",
   "metadata": {},
   "outputs": [
    {
     "name": "stdout",
     "output_type": "stream",
     "text": [
      "Set using {}: {'John', 'Henry', 'Liam', 'Alex', 'William', 'Oliver', 'James', 'Evan'}\n"
     ]
    }
   ],
   "source": [
    "# 1️⃣ Using curly braces {}\n",
    "player_set = {\"Alex\", \"Henry\", \"Evan\", \"John\", \"William\", \"James\", \"Liam\", \"Oliver\"}\n",
    "print(\"Set using {}:\", player_set)"
   ]
  },
  {
   "cell_type": "code",
   "execution_count": 5,
   "id": "a81bf737-895b-4205-a1d2-35058cd6494d",
   "metadata": {},
   "outputs": [],
   "source": [
    "# Cricket dataset\n",
    "players = [\"Alex\", \"Henry\", \"Evan\", \"John\", \"William\", \"James\", \"Liam\", \"Oliver\"]\n",
    "teams = [\"Team 1\", \"Team 2\", \"Team 1\", \"Team 3\", \"Team 4\", \"Team 5\", \"Team 6\", \"Team 4\"]\n",
    "matches = [251, 77, 224, 232, 126, 143, 123, 151]\n",
    "innings = [242, 75, 217, 216, 122, 126, 121, 144]\n",
    "runs = [12040, 3580, 9115, 8574, 4822, 5507, 5267, 6173]\n",
    "high_scores = [183, 125, 264, 181, 153, 185, 179, 148]"
   ]
  },
  {
   "cell_type": "code",
   "execution_count": 6,
   "id": "4f17c75e-acd0-4d47-b44f-03a39e4d32ae",
   "metadata": {},
   "outputs": [
    {
     "name": "stdout",
     "output_type": "stream",
     "text": [
      "Set from list: {'Team 4', 'Team 5', 'Team 3', 'Team 6', 'Team 2', 'Team 1'}\n"
     ]
    }
   ],
   "source": [
    " # Using set() with a list\n",
    "team_set = set(teams)\n",
    "print(\"Set from list:\", team_set)"
   ]
  },
  {
   "cell_type": "code",
   "execution_count": 7,
   "id": "e140998c-8e3b-4247-b02e-0e4ddea050c3",
   "metadata": {},
   "outputs": [
    {
     "name": "stdout",
     "output_type": "stream",
     "text": [
      "Set from tuple: {5507, 12040, 5267, 4822, 9115, 3580, 6173, 8574}\n"
     ]
    }
   ],
   "source": [
    "# Using set() with a tuple\n",
    "runs_tuple = tuple(runs)\n",
    "runs_set = set(runs_tuple)\n",
    "print(\"Set from tuple:\", runs_set)"
   ]
  },
  {
   "cell_type": "code",
   "execution_count": 8,
   "id": "f1441130-5c2f-4bde-9d98-739a842e7358",
   "metadata": {},
   "outputs": [
    {
     "name": "stdout",
     "output_type": "stream",
     "text": [
      "Empty set: set()\n"
     ]
    }
   ],
   "source": [
    "# Creating an empty set\n",
    "empty_set = set()\n",
    "print(\"Empty set:\", empty_set)"
   ]
  },
  {
   "cell_type": "code",
   "execution_count": 9,
   "id": "e761acb4-c15f-4bab-84a3-bb67be139d22",
   "metadata": {},
   "outputs": [
    {
     "data": {
      "text/plain": [
       "{'Australia', 'England', 'India', 'New Zealand', 'Pakistan', 'South Africa'}"
      ]
     },
     "execution_count": 9,
     "metadata": {},
     "output_type": "execute_result"
    }
   ],
   "source": [
    "#  a. Create the set of strings that contain country names {\"England\", \"India\",\n",
    "# \"Australia\", \"Pakistan\", \"India\", \"New Zealand\", \"India\", \"South Africa\"} and assign it\n",
    "# to the variable countries\n",
    "countries = {\"England\", \"India\", \"Australia\", \"Pakistan\", \"India\", \"New Zealand\", \"India\", \"South Africa\"}\n",
    "countries"
   ]
  },
  {
   "cell_type": "code",
   "execution_count": 10,
   "id": "55237a16-39a0-4ccf-8292-bcb9891b8c4f",
   "metadata": {},
   "outputs": [
    {
     "data": {
      "text/plain": [
       "{'Alex', 'Evan', 'Henry', 'John', 'William'}"
      ]
     },
     "execution_count": 10,
     "metadata": {},
     "output_type": "execute_result"
    }
   ],
   "source": [
    "# c. Create a set from a list that contains player names [\"Alex\", \"Henry\", \"Evan\",\n",
    "# \"John\", \"William\", \"Henry\"] and assign it to the variable player_names\n",
    "player_names={\"Alex\", \"Henry\", \"Evan\", \"John\", \"William\", \"Henry\"}\n",
    "player_names"
   ]
  },
  {
   "cell_type": "code",
   "execution_count": 11,
   "id": "a1d27181-fc2a-43b7-9b88-1a15d0298d3f",
   "metadata": {},
   "outputs": [
    {
     "data": {
      "text/plain": [
       "set"
      ]
     },
     "execution_count": 11,
     "metadata": {},
     "output_type": "execute_result"
    }
   ],
   "source": [
    "type(player_names)"
   ]
  },
  {
   "cell_type": "code",
   "execution_count": 12,
   "id": "a8978eb9-aada-4782-be40-b1533285eff5",
   "metadata": {},
   "outputs": [
    {
     "data": {
      "text/plain": [
       "{'Alex', 'Evan', 'Henry', 'John', 'William'}"
      ]
     },
     "execution_count": 12,
     "metadata": {},
     "output_type": "execute_result"
    }
   ],
   "source": [
    " # Add an element to a set by using the add() method\n",
    "# Sample set\n",
    "players = set([\"Alex\", \"Henry\", \"Evan\", \"John\", \"William\"])\n",
    "players\n"
   ]
  },
  {
   "cell_type": "code",
   "execution_count": 16,
   "id": "231d88ad-8959-4463-a078-c3c162d0ac2f",
   "metadata": {},
   "outputs": [
    {
     "data": {
      "text/plain": [
       "{'Alex', 'Evan', 'Henry', 'John', 'Liam', 'William'}"
      ]
     },
     "execution_count": 16,
     "metadata": {},
     "output_type": "execute_result"
    }
   ],
   "source": [
    "# Add element to set\n",
    "players.add(\"Liam\")\n",
    "players"
   ]
  },
  {
   "cell_type": "code",
   "execution_count": 18,
   "id": "c9822542-61e7-45db-8072-156c1c465e67",
   "metadata": {},
   "outputs": [
    {
     "data": {
      "text/plain": [
       "{'Alex', 'Evan', 'Henry', 'John', 'Liam', 'William'}"
      ]
     },
     "execution_count": 18,
     "metadata": {},
     "output_type": "execute_result"
    }
   ],
   "source": [
    "# Try to add duplicate element to the set\n",
    "players.add(\"Henry\")\n",
    "players"
   ]
  },
  {
   "cell_type": "code",
   "execution_count": 20,
   "id": "4a6ff8b3-f558-42cc-9b03-6eca2417bac8",
   "metadata": {},
   "outputs": [
    {
     "data": {
      "text/plain": [
       "{'Alex', 'Evan', 'John', 'Liam', 'William'}"
      ]
     },
     "execution_count": 20,
     "metadata": {},
     "output_type": "execute_result"
    }
   ],
   "source": [
    "# Remove the element from set\n",
    "players.remove(\"Henry\")\n",
    "players"
   ]
  },
  {
   "cell_type": "code",
   "execution_count": 21,
   "id": "d8a474a1-0ff9-4060-a00e-cb59bd279aa2",
   "metadata": {},
   "outputs": [
    {
     "data": {
      "text/plain": [
       "True"
      ]
     },
     "execution_count": 21,
     "metadata": {},
     "output_type": "execute_result"
    }
   ],
   "source": [
    "# Verify if the element is in the set\n",
    "\"Alex\" in players"
   ]
  },
  {
   "cell_type": "code",
   "execution_count": 26,
   "id": "75adc2b6-f8af-49c5-8dec-f180aee518d7",
   "metadata": {},
   "outputs": [
    {
     "name": "stdout",
     "output_type": "stream",
     "text": [
      "{'William', 'Henry', 'Alex'}\n",
      "{'Henry', 'John', 'Alex'}\n"
     ]
    }
   ],
   "source": [
    "# Set Mathematical Operations\n",
    "# Many of the operations that work for other compound data do not make sense for set as it cannot be indexed or sliced.\n",
    "# To perform mathematical set operations such as difference, symmetric difference,intersection, and union, sets are used.\n",
    "# Sample Sets\n",
    "odi_players = set(['Alex', 'Henry', 'William'])\n",
    "t20_players = set([ 'Alex', 'Henry', 'John'])\n",
    "# Print two sets\n",
    "print(odi_players)\n",
    "print(t20_players)"
   ]
  },
  {
   "cell_type": "code",
   "execution_count": 23,
   "id": "01476821-8129-405c-a760-03d1a0237103",
   "metadata": {},
   "outputs": [
    {
     "data": {
      "text/plain": [
       "{'Alex', 'Henry'}"
      ]
     },
     "execution_count": 23,
     "metadata": {},
     "output_type": "execute_result"
    }
   ],
   "source": [
    "# a. Use & Operator\n",
    "# Find the players who play both the formats\n",
    "# Find the intersections use & operator\n",
    "list_A_players = odi_players & t20_players\n",
    "list_A_players"
   ]
  },
  {
   "cell_type": "code",
   "execution_count": 24,
   "id": "04f39953-13a0-4933-abcb-8d5606fc3909",
   "metadata": {},
   "outputs": [
    {
     "data": {
      "text/plain": [
       "{'Alex', 'Henry'}"
      ]
     },
     "execution_count": 24,
     "metadata": {},
     "output_type": "execute_result"
    }
   ],
   "source": [
    "# Find the intersections by using intersection function\n",
    "list_A_players = odi_players.intersection(t20_players)\n",
    "list_A_players\n"
   ]
  },
  {
   "cell_type": "code",
   "execution_count": 28,
   "id": "8e4d6e98-b70c-4b43-a0a3-c747af7faa0e",
   "metadata": {},
   "outputs": [
    {
     "name": "stdout",
     "output_type": "stream",
     "text": [
      "{'William'}\n"
     ]
    }
   ],
   "source": [
    "# Find the players in ODI but not in T20\n",
    "# Use – operator\n",
    "print(odi_players - t20_players)"
   ]
  },
  {
   "cell_type": "code",
   "execution_count": 30,
   "id": "f6348013-a93c-41cc-85b7-4cc50f841260",
   "metadata": {},
   "outputs": [
    {
     "data": {
      "text/plain": [
       "{'John'}"
      ]
     },
     "execution_count": 30,
     "metadata": {},
     "output_type": "execute_result"
    }
   ],
   "source": [
    "# Find the players in ODI but not in t20\n",
    "# Use difference function\n",
    "t20_players.difference(odi_players)\n"
   ]
  },
  {
   "cell_type": "code",
   "execution_count": 31,
   "id": "e10191c1-0795-4bfd-90bd-6fb4e1dc7337",
   "metadata": {},
   "outputs": [],
   "source": [
    "# The union of two sets corresponds to all the elements in both the sets.\n",
    "# You can find the union of two sets either using | operator or union function."
   ]
  },
  {
   "cell_type": "code",
   "execution_count": 32,
   "id": "85a145a1-2466-40c8-8fcc-faa3a6277d85",
   "metadata": {},
   "outputs": [
    {
     "name": "stdout",
     "output_type": "stream",
     "text": [
      "{'William', 'John', 'Henry', 'Alex'}\n"
     ]
    }
   ],
   "source": [
    "# For example, find all the selected players for ODI and T20.\n",
    "# a. Use | operator\n",
    "# Find the union of two sets\n",
    "# Use | operator\n",
    "print(odi_players | t20_players)\n"
   ]
  },
  {
   "cell_type": "code",
   "execution_count": 36,
   "id": "f75300cd-3997-4066-98f3-f46e3cf9536e",
   "metadata": {},
   "outputs": [
    {
     "name": "stdout",
     "output_type": "stream",
     "text": [
      "{'William', 'John', 'Henry', 'Alex'}\n"
     ]
    }
   ],
   "source": [
    "# Find the union of two sets\n",
    "# Use union function\n",
    "print(odi_players.union(t20_players))"
   ]
  },
  {
   "cell_type": "code",
   "execution_count": 34,
   "id": "01318213-5ce4-4cd9-bedb-f5e5bf4a9f6e",
   "metadata": {},
   "outputs": [],
   "source": [
    "# Set Symmetric Difference\n",
    "# Symmetric difference of two sets A and B is a set of elements in A and B but not in both.\n",
    "# You can find the Symmetric difference of two sets either by using ^ operator or symmetric_difference() function."
   ]
  },
  {
   "cell_type": "code",
   "execution_count": 38,
   "id": "b9c789da-e9f0-4d1d-b916-8f19adb7aefe",
   "metadata": {},
   "outputs": [
    {
     "name": "stdout",
     "output_type": "stream",
     "text": [
      "{'William', 'John'}\n"
     ]
    }
   ],
   "source": [
    "# Find all the players who are either selected for ODI or T20 but not for both.\n",
    "# a. Use ^ operator\n",
    "# Symmetric difference of two sets\n",
    "# Use ^ operator\n",
    "print(odi_players ^ t20_players)\n"
   ]
  },
  {
   "cell_type": "code",
   "execution_count": 39,
   "id": "c09be2ac-f405-4df7-9607-b731555f9a78",
   "metadata": {},
   "outputs": [
    {
     "name": "stdout",
     "output_type": "stream",
     "text": [
      "{'William', 'John'}\n"
     ]
    }
   ],
   "source": [
    "# useing symmetric_difference function\n",
    "# Symmetric difference of two sets\n",
    "# Use ^ operator\n",
    "print(odi_players.symmetric_difference(t20_players))\n"
   ]
  },
  {
   "cell_type": "code",
   "execution_count": 40,
   "id": "bf7b449e-1f23-43cf-b176-6ec482395bb3",
   "metadata": {},
   "outputs": [
    {
     "data": {
      "text/plain": [
       "False"
      ]
     },
     "execution_count": 40,
     "metadata": {},
     "output_type": "execute_result"
    }
   ],
   "source": [
    "# Superset and Subset\n",
    "# Check if superset\n",
    "set(odi_players).issuperset(t20_players)"
   ]
  },
  {
   "cell_type": "code",
   "execution_count": 45,
   "id": "cd328fb2-e094-468c-84d4-07625f950b52",
   "metadata": {},
   "outputs": [
    {
     "name": "stdout",
     "output_type": "stream",
     "text": [
      "{'William', 'Henry', 'Alex'}\n",
      "{'Henry', 'John', 'Alex'}\n"
     ]
    },
    {
     "data": {
      "text/plain": [
       "False"
      ]
     },
     "execution_count": 45,
     "metadata": {},
     "output_type": "execute_result"
    }
   ],
   "source": [
    "# Check if subset\n",
    "print(odi_players)\n",
    "print(t20_players)\n",
    "set(odi_players).issubset(t20_players)"
   ]
  },
  {
   "cell_type": "code",
   "execution_count": 46,
   "id": "4b2ac4d5-1324-4369-93c1-d1246eee04fa",
   "metadata": {},
   "outputs": [
    {
     "data": {
      "text/plain": [
       "True"
      ]
     },
     "execution_count": 46,
     "metadata": {},
     "output_type": "execute_result"
    }
   ],
   "source": [
    "# Check if superset\n",
    "odi_players.issuperset({'Henry', 'William'})"
   ]
  },
  {
   "cell_type": "code",
   "execution_count": 51,
   "id": "b5a0efff-d418-4eb9-b4c4-72f60445dc85",
   "metadata": {},
   "outputs": [
    {
     "name": "stdout",
     "output_type": "stream",
     "text": [
      "{'James', 'Liam'}\n"
     ]
    },
    {
     "data": {
      "text/plain": [
       "False"
      ]
     },
     "execution_count": 51,
     "metadata": {},
     "output_type": "execute_result"
    }
   ],
   "source": [
    "# Consider the list, players_list = ['James', 'Liam', 'Liam', 'James'] and\n",
    "# set players_set = set(['James', 'Liam', 'Liam', 'James']). Write a code \n",
    "players_list = ['James', 'Liam', 'Liam', 'James']\n",
    "players_set= set(['James', 'Liam', 'Liam', 'James'])\n",
    "print(players_set)\n",
    "\n",
    "len(players_list) == len(players_set)\n"
   ]
  },
  {
   "cell_type": "code",
   "execution_count": null,
   "id": "a7dd4fa1-90ee-4ff4-a6cc-4f6ec912389c",
   "metadata": {},
   "outputs": [],
   "source": [
    "# Write a code to create a new set, selected_players that is the union of\n",
    "# odi_set =set(['James', 'Liam', 'Oliver']) and t20_set = set([ 'James', 'Liam', \"William\"])\n"
   ]
  },
  {
   "cell_type": "code",
   "execution_count": 53,
   "id": "66a1a2f0-207e-445d-86de-f984fc1a2253",
   "metadata": {},
   "outputs": [
    {
     "data": {
      "text/plain": [
       "{'James', 'Liam', 'Oliver'}"
      ]
     },
     "execution_count": 53,
     "metadata": {},
     "output_type": "execute_result"
    }
   ],
   "source": [
    "odi_set =set(['James', 'Liam', 'Oliver'])\n",
    "odi_set"
   ]
  },
  {
   "cell_type": "code",
   "execution_count": 55,
   "id": "63699c34-c95a-4b2b-b313-b2f5a490b87f",
   "metadata": {},
   "outputs": [
    {
     "data": {
      "text/plain": [
       "{'James', 'Liam', 'William'}"
      ]
     },
     "execution_count": 55,
     "metadata": {},
     "output_type": "execute_result"
    }
   ],
   "source": [
    "t20_set = set([ 'James', 'Liam', \"William\"])\n",
    "t20_set"
   ]
  },
  {
   "cell_type": "code",
   "execution_count": 57,
   "id": "5a778edf-adad-4389-af0c-0f278778e9fe",
   "metadata": {},
   "outputs": [
    {
     "data": {
      "text/plain": [
       "{'James', 'Liam', 'Oliver', 'William'}"
      ]
     },
     "execution_count": 57,
     "metadata": {},
     "output_type": "execute_result"
    }
   ],
   "source": [
    "unionsetteam=odi_set|t20_set\n",
    "unionsetteam"
   ]
  },
  {
   "cell_type": "code",
   "execution_count": 58,
   "id": "c8eb820e-71cd-474f-900f-37b7eca3e0ea",
   "metadata": {},
   "outputs": [
    {
     "data": {
      "text/plain": [
       "True"
      ]
     },
     "execution_count": 58,
     "metadata": {},
     "output_type": "execute_result"
    }
   ],
   "source": [
    "# Write a code to find out if odi_set is a subset of selected_players\n",
    "odi_set.issubset(['James', 'Liam', 'Oliver','asma'])"
   ]
  },
  {
   "cell_type": "code",
   "execution_count": null,
   "id": "69932e0b-b4f9-43ef-ba7c-e8bffe45f0d1",
   "metadata": {},
   "outputs": [],
   "source": []
  }
 ],
 "metadata": {
  "kernelspec": {
   "display_name": "Python 3 (ipykernel)",
   "language": "python",
   "name": "python3"
  },
  "language_info": {
   "codemirror_mode": {
    "name": "ipython",
    "version": 3
   },
   "file_extension": ".py",
   "mimetype": "text/x-python",
   "name": "python",
   "nbconvert_exporter": "python",
   "pygments_lexer": "ipython3",
   "version": "3.13.3"
  }
 },
 "nbformat": 4,
 "nbformat_minor": 5
}
