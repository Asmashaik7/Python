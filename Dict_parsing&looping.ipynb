{
 "cells": [
  {
   "cell_type": "code",
   "execution_count": 1,
   "id": "3ad36c0b-10aa-4aff-a3f7-e029cfd01dd0",
   "metadata": {},
   "outputs": [],
   "source": [
    "d={}"
   ]
  },
  {
   "cell_type": "code",
   "execution_count": 3,
   "id": "2cb2b4ac-8ea4-457c-84b0-d89e62e20e8c",
   "metadata": {},
   "outputs": [],
   "source": [
    "d['list']=list"
   ]
  },
  {
   "cell_type": "code",
   "execution_count": 4,
   "id": "b0b4d7bd-3da7-414c-96a7-3f8b07afe684",
   "metadata": {},
   "outputs": [
    {
     "data": {
      "text/plain": [
       "{'list': list}"
      ]
     },
     "execution_count": 4,
     "metadata": {},
     "output_type": "execute_result"
    }
   ],
   "source": [
    "d"
   ]
  },
  {
   "cell_type": "code",
   "execution_count": 6,
   "id": "713d558a-cd7a-4cd8-8aac-69170f52bdc5",
   "metadata": {},
   "outputs": [],
   "source": [
    "d['diction']={}"
   ]
  },
  {
   "cell_type": "code",
   "execution_count": 7,
   "id": "7291ec07-7978-4a76-b710-e3bdf0a40599",
   "metadata": {},
   "outputs": [
    {
     "data": {
      "text/plain": [
       "{'list': list, 'diction': {}}"
      ]
     },
     "execution_count": 7,
     "metadata": {},
     "output_type": "execute_result"
    }
   ],
   "source": [
    "d"
   ]
  },
  {
   "cell_type": "code",
   "execution_count": null,
   "id": "179a49d8-9670-4a5d-876f-b0880d598cad",
   "metadata": {},
   "outputs": [],
   "source": [
    " # Nested dictionaries"
   ]
  },
  {
   "cell_type": "code",
   "execution_count": null,
   "id": "a1f1baa1-bac5-4d9e-852d-778c67544ff8",
   "metadata": {},
   "outputs": [],
   "source": [
    "s={}"
   ]
  },
  {
   "cell_type": "code",
   "execution_count": 10,
   "id": "3bf0eb38-4235-418e-b9fb-b1cb8a0fdfc1",
   "metadata": {},
   "outputs": [],
   "source": [
    "s={\n",
    "      \"dt\": 1748241000,\n",
    "      \"sunrise\": 1748217881,\n",
    "      \"sunset\": 1748264687,\n",
    "      \"temp\": {\n",
    "        \"day\": 30.94,\n",
    "        \"min\": 26.74,\n",
    "        \"max\": 32.53,\n",
    "        \"night\": 28.33,\n",
    "        \"eve\": 27,\n",
    "        \"morn\": 28.03\n",
    "      },\n",
    "      \"feels_like\": {\n",
    "        \"day\": 37.14,\n",
    "        \"night\": 31.47,\n",
    "        \"eve\": 27.8,\n",
    "        \"morn\": 31.28\n",
    "      },\n",
    "      \"pressure\": 1002,\n",
    "      \"humidity\": 69,\n",
    "      \"weather\": [\n",
    "        {\n",
    "          \"id\": 501,\n",
    "          \"main\": \"Rain\",\n",
    "          \"description\": \"moderate rain\",\n",
    "          \"icon\": \"10d\"\n",
    "        }\n",
    "      ],\n",
    "      \"speed\": 4.9,\n",
    "      \"deg\": 234,\n",
    "      \"gust\": 9.83,\n",
    "      \"clouds\": 62,\n",
    "      \"pop\": 1,\n",
    "      \"rain\": 1.65\n",
    "    }"
   ]
  },
  {
   "cell_type": "code",
   "execution_count": 8,
   "id": "d5795273-ae6a-44f9-8246-013977e055e3",
   "metadata": {},
   "outputs": [
    {
     "data": {
      "text/plain": [
       "{'list': list, 'diction': {}}"
      ]
     },
     "execution_count": 8,
     "metadata": {},
     "output_type": "execute_result"
    }
   ],
   "source": [
    "d"
   ]
  },
  {
   "cell_type": "code",
   "execution_count": 11,
   "id": "80750422-402b-4448-a528-997e2c4a61a8",
   "metadata": {},
   "outputs": [
    {
     "data": {
      "text/plain": [
       "{'dt': 1748241000,\n",
       " 'sunrise': 1748217881,\n",
       " 'sunset': 1748264687,\n",
       " 'temp': {'day': 30.94,\n",
       "  'min': 26.74,\n",
       "  'max': 32.53,\n",
       "  'night': 28.33,\n",
       "  'eve': 27,\n",
       "  'morn': 28.03},\n",
       " 'feels_like': {'day': 37.14, 'night': 31.47, 'eve': 27.8, 'morn': 31.28},\n",
       " 'pressure': 1002,\n",
       " 'humidity': 69,\n",
       " 'weather': [{'id': 501,\n",
       "   'main': 'Rain',\n",
       "   'description': 'moderate rain',\n",
       "   'icon': '10d'}],\n",
       " 'speed': 4.9,\n",
       " 'deg': 234,\n",
       " 'gust': 9.83,\n",
       " 'clouds': 62,\n",
       " 'pop': 1,\n",
       " 'rain': 1.65}"
      ]
     },
     "execution_count": 11,
     "metadata": {},
     "output_type": "execute_result"
    }
   ],
   "source": [
    "s"
   ]
  },
  {
   "cell_type": "code",
   "execution_count": 12,
   "id": "0d7ad87b-5b49-4764-8e6a-a42efb1ff268",
   "metadata": {},
   "outputs": [],
   "source": [
    "import pprint"
   ]
  },
  {
   "cell_type": "code",
   "execution_count": 15,
   "id": "0a4fa6cf-a8d5-4a3f-aee5-794a4c097d27",
   "metadata": {},
   "outputs": [
    {
     "name": "stdout",
     "output_type": "stream",
     "text": [
      "{'clouds': 62,\n",
      " 'deg': 234,\n",
      " 'dt': 1748241000,\n",
      " 'feels_like': {'day': 37.14, 'eve': 27.8, 'morn': 31.28, 'night': 31.47},\n",
      " 'gust': 9.83,\n",
      " 'humidity': 69,\n",
      " 'pop': 1,\n",
      " 'pressure': 1002,\n",
      " 'rain': 1.65,\n",
      " 'speed': 4.9,\n",
      " 'sunrise': 1748217881,\n",
      " 'sunset': 1748264687,\n",
      " 'temp': {'day': 30.94,\n",
      "          'eve': 27,\n",
      "          'max': 32.53,\n",
      "          'min': 26.74,\n",
      "          'morn': 28.03,\n",
      "          'night': 28.33},\n",
      " 'weather': [{'description': 'moderate rain',\n",
      "              'icon': '10d',\n",
      "              'id': 501,\n",
      "              'main': 'Rain'}]}\n"
     ]
    }
   ],
   "source": [
    "pprint.pprint(s)"
   ]
  },
  {
   "cell_type": "code",
   "execution_count": 19,
   "id": "87d80f55-52cc-4067-bec9-321cf9d29b24",
   "metadata": {},
   "outputs": [
    {
     "data": {
      "text/plain": [
       "int"
      ]
     },
     "execution_count": 19,
     "metadata": {},
     "output_type": "execute_result"
    }
   ],
   "source": [
    "type(s['weather'][0].get('id'))"
   ]
  },
  {
   "cell_type": "code",
   "execution_count": 20,
   "id": "c54c304b-4325-4c88-9672-0e2a8ed16648",
   "metadata": {},
   "outputs": [
    {
     "data": {
      "text/plain": [
       "501"
      ]
     },
     "execution_count": 20,
     "metadata": {},
     "output_type": "execute_result"
    }
   ],
   "source": [
    "s['weather'][0].get('id')"
   ]
  },
  {
   "cell_type": "code",
   "execution_count": 21,
   "id": "17357182-44d7-415b-8249-3390df6c46f9",
   "metadata": {},
   "outputs": [
    {
     "data": {
      "text/plain": [
       "list"
      ]
     },
     "execution_count": 21,
     "metadata": {},
     "output_type": "execute_result"
    }
   ],
   "source": [
    "type(s['weather'])"
   ]
  },
  {
   "cell_type": "code",
   "execution_count": 24,
   "id": "e9f0c71a-3b6e-4f3d-8e23-532a0a993deb",
   "metadata": {},
   "outputs": [
    {
     "data": {
      "text/plain": [
       "int"
      ]
     },
     "execution_count": 24,
     "metadata": {},
     "output_type": "execute_result"
    }
   ],
   "source": [
    "type(s['pressure'])"
   ]
  },
  {
   "cell_type": "code",
   "execution_count": 26,
   "id": "7a51855b-0faf-40de-8b90-a9aeaa149b1f",
   "metadata": {},
   "outputs": [
    {
     "data": {
      "text/plain": [
       "str"
      ]
     },
     "execution_count": 26,
     "metadata": {},
     "output_type": "execute_result"
    }
   ],
   "source": [
    "type('description')"
   ]
  },
  {
   "cell_type": "code",
   "execution_count": 28,
   "id": "e2a151de-6370-4b2b-a902-8c1c0584cf75",
   "metadata": {},
   "outputs": [
    {
     "data": {
      "text/plain": [
       "{'id': 501, 'main': 'Rain', 'description': 'moderate rain', 'icon': '10d'}"
      ]
     },
     "execution_count": 28,
     "metadata": {},
     "output_type": "execute_result"
    }
   ],
   "source": [
    "s['weather'][0]"
   ]
  },
  {
   "cell_type": "code",
   "execution_count": 29,
   "id": "c8fabf66-5d10-4444-a8fa-5538bfd7dd24",
   "metadata": {},
   "outputs": [
    {
     "data": {
      "text/plain": [
       "'10d'"
      ]
     },
     "execution_count": 29,
     "metadata": {},
     "output_type": "execute_result"
    }
   ],
   "source": [
    "s['weather'][0].get('icon')"
   ]
  },
  {
   "cell_type": "code",
   "execution_count": 30,
   "id": "7bb77b8b-1bdb-4089-a660-3aa50130a620",
   "metadata": {},
   "outputs": [
    {
     "data": {
      "text/plain": [
       "list"
      ]
     },
     "execution_count": 30,
     "metadata": {},
     "output_type": "execute_result"
    }
   ],
   "source": [
    "type(s['weather'])"
   ]
  },
  {
   "cell_type": "code",
   "execution_count": 31,
   "id": "4c1c90b7-9e0e-4e2d-895f-8e44b393b4ef",
   "metadata": {},
   "outputs": [
    {
     "data": {
      "text/plain": [
       "str"
      ]
     },
     "execution_count": 31,
     "metadata": {},
     "output_type": "execute_result"
    }
   ],
   "source": [
    "type(s['weather'][0].get('icon'))"
   ]
  },
  {
   "cell_type": "code",
   "execution_count": 33,
   "id": "a499135d-5e57-40e8-ab48-5233b513e860",
   "metadata": {},
   "outputs": [],
   "source": [
    "s['weather'][0].get('temperature')"
   ]
  },
  {
   "cell_type": "code",
   "execution_count": 34,
   "id": "44fc79bb-7ffb-4d64-b889-97b886aad4cf",
   "metadata": {},
   "outputs": [
    {
     "data": {
      "text/plain": [
       "{'dt': 1748241000,\n",
       " 'sunrise': 1748217881,\n",
       " 'sunset': 1748264687,\n",
       " 'temp': {'day': 30.94,\n",
       "  'min': 26.74,\n",
       "  'max': 32.53,\n",
       "  'night': 28.33,\n",
       "  'eve': 27,\n",
       "  'morn': 28.03},\n",
       " 'feels_like': {'day': 37.14, 'night': 31.47, 'eve': 27.8, 'morn': 31.28},\n",
       " 'pressure': 1002,\n",
       " 'humidity': 69,\n",
       " 'weather': [{'id': 501,\n",
       "   'main': 'Rain',\n",
       "   'description': 'moderate rain',\n",
       "   'icon': '10d'}],\n",
       " 'speed': 4.9,\n",
       " 'deg': 234,\n",
       " 'gust': 9.83,\n",
       " 'clouds': 62,\n",
       " 'pop': 1,\n",
       " 'rain': 1.65}"
      ]
     },
     "execution_count": 34,
     "metadata": {},
     "output_type": "execute_result"
    }
   ],
   "source": [
    "s"
   ]
  },
  {
   "cell_type": "code",
   "execution_count": 36,
   "id": "e853497b-907c-4057-a439-7f197614dd3d",
   "metadata": {},
   "outputs": [
    {
     "data": {
      "text/plain": [
       "1748241000"
      ]
     },
     "execution_count": 36,
     "metadata": {},
     "output_type": "execute_result"
    }
   ],
   "source": [
    "s['dt']"
   ]
  },
  {
   "cell_type": "code",
   "execution_count": 40,
   "id": "32eaba8d-141b-4ca9-832b-e9f26152ed60",
   "metadata": {},
   "outputs": [
    {
     "data": {
      "text/plain": [
       "27.8"
      ]
     },
     "execution_count": 40,
     "metadata": {},
     "output_type": "execute_result"
    }
   ],
   "source": [
    "s['feels_like'].get('eve')"
   ]
  },
  {
   "cell_type": "code",
   "execution_count": 41,
   "id": "1defe325-f007-42c9-8600-334189d62270",
   "metadata": {},
   "outputs": [
    {
     "data": {
      "text/plain": [
       "'Rain'"
      ]
     },
     "execution_count": 41,
     "metadata": {},
     "output_type": "execute_result"
    }
   ],
   "source": [
    "s['weather'][0].get('main')"
   ]
  },
  {
   "cell_type": "code",
   "execution_count": 42,
   "id": "dc7fd693-49d1-468e-b05a-b2f3401c3add",
   "metadata": {},
   "outputs": [
    {
     "data": {
      "text/plain": [
       "str"
      ]
     },
     "execution_count": 42,
     "metadata": {},
     "output_type": "execute_result"
    }
   ],
   "source": [
    "type(s['weather'][0].get('main'))"
   ]
  },
  {
   "cell_type": "code",
   "execution_count": 44,
   "id": "7c56a2fb-81ab-4906-84d0-46eb1cbdaf6e",
   "metadata": {},
   "outputs": [],
   "source": [
    "first={'a':10,'b':20}"
   ]
  },
  {
   "cell_type": "code",
   "execution_count": 45,
   "id": "89157ea2-62cd-4e5d-b21a-95ac9a14f329",
   "metadata": {},
   "outputs": [
    {
     "data": {
      "text/plain": [
       "{'a': 10, 'b': 20}"
      ]
     },
     "execution_count": 45,
     "metadata": {},
     "output_type": "execute_result"
    }
   ],
   "source": [
    "first"
   ]
  },
  {
   "cell_type": "code",
   "execution_count": 46,
   "id": "af7dfaff-c534-42bd-9b7b-c6aa53810ebd",
   "metadata": {},
   "outputs": [],
   "source": [
    "second={'c':45}"
   ]
  },
  {
   "cell_type": "code",
   "execution_count": 47,
   "id": "e3e1a988-c5a7-49d7-9bdb-8b909a8b097d",
   "metadata": {},
   "outputs": [
    {
     "data": {
      "text/plain": [
       "{'c': 45}"
      ]
     },
     "execution_count": 47,
     "metadata": {},
     "output_type": "execute_result"
    }
   ],
   "source": [
    "second"
   ]
  },
  {
   "cell_type": "code",
   "execution_count": 48,
   "id": "f0dbf433-2484-4ade-80d2-d47ca009e39d",
   "metadata": {},
   "outputs": [],
   "source": [
    "first.update(second)"
   ]
  },
  {
   "cell_type": "code",
   "execution_count": 49,
   "id": "5173c00b-526f-4710-9fe5-9ba2e5ee405c",
   "metadata": {},
   "outputs": [
    {
     "data": {
      "text/plain": [
       "{'a': 10, 'b': 20, 'c': 45}"
      ]
     },
     "execution_count": 49,
     "metadata": {},
     "output_type": "execute_result"
    }
   ],
   "source": [
    "first"
   ]
  },
  {
   "cell_type": "code",
   "execution_count": 50,
   "id": "dc20e3d7-477e-4ef3-a9c2-b5097cb2ae9e",
   "metadata": {},
   "outputs": [],
   "source": [
    "first.clear()"
   ]
  },
  {
   "cell_type": "code",
   "execution_count": 51,
   "id": "dd8c146c-42ad-495f-9f04-37e62ed630e2",
   "metadata": {},
   "outputs": [
    {
     "data": {
      "text/plain": [
       "{}"
      ]
     },
     "execution_count": 51,
     "metadata": {},
     "output_type": "execute_result"
    }
   ],
   "source": [
    "first"
   ]
  },
  {
   "cell_type": "code",
   "execution_count": 52,
   "id": "81a27541-35c7-4d60-bbe9-1c9ea9209329",
   "metadata": {},
   "outputs": [],
   "source": [
    "first.update(second)"
   ]
  },
  {
   "cell_type": "code",
   "execution_count": 53,
   "id": "bbc7009c-48a9-4de7-8e15-f9ed23c5461e",
   "metadata": {},
   "outputs": [
    {
     "data": {
      "text/plain": [
       "{'c': 45}"
      ]
     },
     "execution_count": 53,
     "metadata": {},
     "output_type": "execute_result"
    }
   ],
   "source": [
    "first"
   ]
  },
  {
   "cell_type": "code",
   "execution_count": 54,
   "id": "9aa95359-c117-47a9-8a2f-6c6fb2da53a1",
   "metadata": {},
   "outputs": [
    {
     "data": {
      "text/plain": [
       "{'c': 45}"
      ]
     },
     "execution_count": 54,
     "metadata": {},
     "output_type": "execute_result"
    }
   ],
   "source": [
    "second"
   ]
  },
  {
   "cell_type": "code",
   "execution_count": 55,
   "id": "834854ca-78ba-4d3b-8a59-0533e006f5e4",
   "metadata": {},
   "outputs": [],
   "source": [
    "first.clear()"
   ]
  },
  {
   "cell_type": "code",
   "execution_count": 61,
   "id": "41aa41ab-6c34-4a48-8a08-e7f149699013",
   "metadata": {},
   "outputs": [],
   "source": [
    "second_dup=second.copy"
   ]
  },
  {
   "cell_type": "code",
   "execution_count": 62,
   "id": "77f2de01-8bca-4e81-af9d-1fcf2a32f490",
   "metadata": {},
   "outputs": [
    {
     "data": {
      "text/plain": [
       "<function dict.copy()>"
      ]
     },
     "execution_count": 62,
     "metadata": {},
     "output_type": "execute_result"
    }
   ],
   "source": [
    "second_dup"
   ]
  },
  {
   "cell_type": "code",
   "execution_count": 59,
   "id": "2aa2d34b-5c15-4b0b-9b48-a0df9d7b1091",
   "metadata": {},
   "outputs": [
    {
     "data": {
      "text/plain": [
       "<function dict.copy()>"
      ]
     },
     "execution_count": 59,
     "metadata": {},
     "output_type": "execute_result"
    }
   ],
   "source": [
    "second.copy"
   ]
  },
  {
   "cell_type": "code",
   "execution_count": 60,
   "id": "c7c2eae3-8cdb-4703-a05e-44580d01ab07",
   "metadata": {},
   "outputs": [
    {
     "data": {
      "text/plain": [
       "{'c': 45}"
      ]
     },
     "execution_count": 60,
     "metadata": {},
     "output_type": "execute_result"
    }
   ],
   "source": [
    "second"
   ]
  },
  {
   "cell_type": "code",
   "execution_count": 64,
   "id": "bd6913f4-4c39-4392-9617-0e014fe45450",
   "metadata": {},
   "outputs": [
    {
     "data": {
      "text/plain": [
       "builtin_function_or_method"
      ]
     },
     "execution_count": 64,
     "metadata": {},
     "output_type": "execute_result"
    }
   ],
   "source": [
    "type(second_dup)"
   ]
  },
  {
   "cell_type": "code",
   "execution_count": 66,
   "id": "bce410ec-d08b-461d-965e-7b875402b592",
   "metadata": {},
   "outputs": [],
   "source": [
    "a=second"
   ]
  },
  {
   "cell_type": "code",
   "execution_count": 67,
   "id": "b2c0c2cc-3ec3-426a-bf9c-3aa22fac8914",
   "metadata": {},
   "outputs": [
    {
     "data": {
      "text/plain": [
       "{'c': 45}"
      ]
     },
     "execution_count": 67,
     "metadata": {},
     "output_type": "execute_result"
    }
   ],
   "source": [
    "a"
   ]
  },
  {
   "cell_type": "code",
   "execution_count": 68,
   "id": "8e17f510-8ad6-45e6-bd06-eacf65d7e4b9",
   "metadata": {},
   "outputs": [
    {
     "data": {
      "text/plain": [
       "<function dict.copy()>"
      ]
     },
     "execution_count": 68,
     "metadata": {},
     "output_type": "execute_result"
    }
   ],
   "source": [
    "second_dup"
   ]
  },
  {
   "cell_type": "code",
   "execution_count": 69,
   "id": "e7fbc059-ddc2-432a-a993-1af2f4c41d16",
   "metadata": {},
   "outputs": [
    {
     "data": {
      "text/plain": [
       "builtin_function_or_method"
      ]
     },
     "execution_count": 69,
     "metadata": {},
     "output_type": "execute_result"
    }
   ],
   "source": [
    "type(second_dup)"
   ]
  },
  {
   "cell_type": "code",
   "execution_count": 70,
   "id": "24773e33-7ffd-4043-ba41-e37c0232f98e",
   "metadata": {},
   "outputs": [],
   "source": [
    "d={\n",
    "'sandles':1220,\n",
    "'idly rava':100,\n",
    "'jeans':1111,\n",
    "'fruit':'apple'\n",
    "}"
   ]
  },
  {
   "cell_type": "code",
   "execution_count": 71,
   "id": "d942b936-80cd-4465-905a-5ba66f106b15",
   "metadata": {},
   "outputs": [
    {
     "data": {
      "text/plain": [
       "{'sandles': 1220, 'idly rava': 100, 'jeans': 1111, 'fruit': 'apple'}"
      ]
     },
     "execution_count": 71,
     "metadata": {},
     "output_type": "execute_result"
    }
   ],
   "source": [
    "d"
   ]
  },
  {
   "cell_type": "code",
   "execution_count": 72,
   "id": "46eeb6e8-517c-4990-9305-41b763dcfd86",
   "metadata": {},
   "outputs": [],
   "source": [
    "e={}\n",
    "e={'veg':'potato','drinks':'thumpsup'}"
   ]
  },
  {
   "cell_type": "code",
   "execution_count": 73,
   "id": "ec4b608a-ef5d-4fef-a917-3aca62c3b30b",
   "metadata": {},
   "outputs": [
    {
     "data": {
      "text/plain": [
       "{'veg': 'potato', 'drinks': 'thumpsup'}"
      ]
     },
     "execution_count": 73,
     "metadata": {},
     "output_type": "execute_result"
    }
   ],
   "source": [
    "e"
   ]
  },
  {
   "cell_type": "code",
   "execution_count": 74,
   "id": "0d82b3cf-6d2a-47b7-9a42-78195f4036d5",
   "metadata": {},
   "outputs": [],
   "source": [
    "s.update(e)"
   ]
  },
  {
   "cell_type": "code",
   "execution_count": 75,
   "id": "25e3ff34-6055-45b7-b757-03d6987e9b51",
   "metadata": {},
   "outputs": [
    {
     "data": {
      "text/plain": [
       "{'dt': 1748241000,\n",
       " 'sunrise': 1748217881,\n",
       " 'sunset': 1748264687,\n",
       " 'temp': {'day': 30.94,\n",
       "  'min': 26.74,\n",
       "  'max': 32.53,\n",
       "  'night': 28.33,\n",
       "  'eve': 27,\n",
       "  'morn': 28.03},\n",
       " 'feels_like': {'day': 37.14, 'night': 31.47, 'eve': 27.8, 'morn': 31.28},\n",
       " 'pressure': 1002,\n",
       " 'humidity': 69,\n",
       " 'weather': [{'id': 501,\n",
       "   'main': 'Rain',\n",
       "   'description': 'moderate rain',\n",
       "   'icon': '10d'}],\n",
       " 'speed': 4.9,\n",
       " 'deg': 234,\n",
       " 'gust': 9.83,\n",
       " 'clouds': 62,\n",
       " 'pop': 1,\n",
       " 'rain': 1.65,\n",
       " 'veg': 'potato',\n",
       " 'drinks': 'thumpsup'}"
      ]
     },
     "execution_count": 75,
     "metadata": {},
     "output_type": "execute_result"
    }
   ],
   "source": [
    "s"
   ]
  },
  {
   "cell_type": "code",
   "execution_count": 76,
   "id": "fa2a8295-8a40-4362-bedd-3e908614ae10",
   "metadata": {},
   "outputs": [],
   "source": [
    "d.update(e)"
   ]
  },
  {
   "cell_type": "code",
   "execution_count": 77,
   "id": "0b4ebcec-7328-482a-ab7e-5917251f0729",
   "metadata": {},
   "outputs": [
    {
     "data": {
      "text/plain": [
       "{'sandles': 1220,\n",
       " 'idly rava': 100,\n",
       " 'jeans': 1111,\n",
       " 'fruit': 'apple',\n",
       " 'veg': 'potato',\n",
       " 'drinks': 'thumpsup'}"
      ]
     },
     "execution_count": 77,
     "metadata": {},
     "output_type": "execute_result"
    }
   ],
   "source": [
    "d"
   ]
  },
  {
   "cell_type": "code",
   "execution_count": 77,
   "id": "90d6dbab-aa3a-4198-9fdb-00455d812e62",
   "metadata": {},
   "outputs": [
    {
     "data": {
      "text/plain": [
       "{'sandles': 1220,\n",
       " 'idly rava': 100,\n",
       " 'jeans': 1111,\n",
       " 'fruit': 'apple',\n",
       " 'veg': 'potato',\n",
       " 'drinks': 'thumpsup'}"
      ]
     },
     "execution_count": 77,
     "metadata": {},
     "output_type": "execute_result"
    }
   ],
   "source": [
    "d"
   ]
  },
  {
   "cell_type": "code",
   "execution_count": 78,
   "id": "b09b9ef9-3706-468e-91be-72e89f623bc9",
   "metadata": {},
   "outputs": [],
   "source": [
    "f={}\n",
    "f=d.copy()"
   ]
  },
  {
   "cell_type": "code",
   "execution_count": 82,
   "id": "91b34c34-7cce-4785-912e-dfd640ef7200",
   "metadata": {},
   "outputs": [
    {
     "data": {
      "text/plain": [
       "{'sandles': 1220,\n",
       " 'idly rava': 100,\n",
       " 'jeans': 1111,\n",
       " 'fruit': 'apple',\n",
       " 'veg': 'potato',\n",
       " 'drinks': 'thumpsup'}"
      ]
     },
     "execution_count": 82,
     "metadata": {},
     "output_type": "execute_result"
    }
   ],
   "source": [
    "f"
   ]
  },
  {
   "cell_type": "code",
   "execution_count": 80,
   "id": "d708765d-636c-4d34-b5aa-53bdffc17c95",
   "metadata": {},
   "outputs": [
    {
     "data": {
      "text/plain": [
       "dict_items([('sandles', 1220), ('idly rava', 100), ('jeans', 1111), ('fruit', 'apple'), ('veg', 'potato'), ('drinks', 'thumpsup')])"
      ]
     },
     "execution_count": 80,
     "metadata": {},
     "output_type": "execute_result"
    }
   ],
   "source": [
    "f.items()"
   ]
  },
  {
   "cell_type": "code",
   "execution_count": 81,
   "id": "eb74b965-cca2-4f71-ae2b-660e8b158cc8",
   "metadata": {},
   "outputs": [
    {
     "data": {
      "text/plain": [
       "dict_items([('sandles', 1220), ('idly rava', 100), ('jeans', 1111), ('fruit', 'apple'), ('veg', 'potato'), ('drinks', 'thumpsup')])"
      ]
     },
     "execution_count": 81,
     "metadata": {},
     "output_type": "execute_result"
    }
   ],
   "source": [
    "d.items()"
   ]
  },
  {
   "cell_type": "raw",
   "id": "5ba4aa97-a9cd-45ef-929a-fd5f24514041",
   "metadata": {},
   "source": [
    "d.items()"
   ]
  },
  {
   "cell_type": "code",
   "execution_count": 83,
   "id": "89d2613d-90ea-41ca-b284-303a16a2c26c",
   "metadata": {},
   "outputs": [
    {
     "data": {
      "text/plain": [
       "{'sandles': 1220,\n",
       " 'idly rava': 100,\n",
       " 'jeans': 1111,\n",
       " 'fruit': 'apple',\n",
       " 'veg': 'potato',\n",
       " 'drinks': 'thumpsup'}"
      ]
     },
     "execution_count": 83,
     "metadata": {},
     "output_type": "execute_result"
    }
   ],
   "source": [
    "f"
   ]
  },
  {
   "cell_type": "code",
   "execution_count": 84,
   "id": "68d30bd4-6656-4066-89c7-ba06fff1a674",
   "metadata": {},
   "outputs": [
    {
     "data": {
      "text/plain": [
       "{'sandles': 1220,\n",
       " 'idly rava': 100,\n",
       " 'jeans': 1111,\n",
       " 'fruit': 'apple',\n",
       " 'veg': 'potato',\n",
       " 'drinks': 'thumpsup'}"
      ]
     },
     "execution_count": 84,
     "metadata": {},
     "output_type": "execute_result"
    }
   ],
   "source": [
    "d"
   ]
  },
  {
   "cell_type": "code",
   "execution_count": 85,
   "id": "2e4d7ee0-a42e-4aba-a291-f0212e26d664",
   "metadata": {},
   "outputs": [
    {
     "name": "stdout",
     "output_type": "stream",
     "text": [
      "sandles\n",
      "idly rava\n",
      "jeans\n",
      "fruit\n",
      "veg\n",
      "drinks\n"
     ]
    }
   ],
   "source": [
    "for each in d:\n",
    "    print(each)"
   ]
  },
  {
   "cell_type": "code",
   "execution_count": 87,
   "id": "e7ba622d-1d01-416a-9380-99b0f63fb89a",
   "metadata": {},
   "outputs": [
    {
     "data": {
      "text/plain": [
       "dict_keys(['sandles', 'idly rava', 'jeans', 'fruit', 'veg', 'drinks'])"
      ]
     },
     "execution_count": 87,
     "metadata": {},
     "output_type": "execute_result"
    }
   ],
   "source": [
    "d.keys()"
   ]
  },
  {
   "cell_type": "code",
   "execution_count": 88,
   "id": "c723b38f-58d7-4f2b-a05d-c1b82f3f5001",
   "metadata": {},
   "outputs": [
    {
     "data": {
      "text/plain": [
       "dict_values([1220, 100, 1111, 'apple', 'potato', 'thumpsup'])"
      ]
     },
     "execution_count": 88,
     "metadata": {},
     "output_type": "execute_result"
    }
   ],
   "source": [
    "d.values()"
   ]
  },
  {
   "cell_type": "code",
   "execution_count": 89,
   "id": "465da5ea-9e70-4318-aaa6-fbb4d11be67f",
   "metadata": {},
   "outputs": [
    {
     "name": "stdout",
     "output_type": "stream",
     "text": [
      "dict_values([1220, 100, 1111, 'apple', 'potato', 'thumpsup'])\n",
      "dict_values([1220, 100, 1111, 'apple', 'potato', 'thumpsup'])\n",
      "dict_values([1220, 100, 1111, 'apple', 'potato', 'thumpsup'])\n",
      "dict_values([1220, 100, 1111, 'apple', 'potato', 'thumpsup'])\n",
      "dict_values([1220, 100, 1111, 'apple', 'potato', 'thumpsup'])\n",
      "dict_values([1220, 100, 1111, 'apple', 'potato', 'thumpsup'])\n"
     ]
    }
   ],
   "source": [
    "for each in d:\n",
    "    print(d.values())"
   ]
  },
  {
   "cell_type": "code",
   "execution_count": 90,
   "id": "4d44fbe8-d548-48e2-bd5b-d49883125cd7",
   "metadata": {},
   "outputs": [
    {
     "name": "stdout",
     "output_type": "stream",
     "text": [
      "sandles\n",
      "idly rava\n",
      "jeans\n",
      "fruit\n",
      "veg\n",
      "drinks\n"
     ]
    }
   ],
   "source": [
    "for each in d.keys():\n",
    "    print(each)"
   ]
  },
  {
   "cell_type": "code",
   "execution_count": 91,
   "id": "eea62c94-5770-47c4-8aed-c87dfc8132f8",
   "metadata": {},
   "outputs": [
    {
     "name": "stdout",
     "output_type": "stream",
     "text": [
      "sandles\n",
      "idly rava\n",
      "jeans\n",
      "fruit\n",
      "veg\n",
      "drinks\n"
     ]
    }
   ],
   "source": [
    "for each in d:\n",
    "    print(each)"
   ]
  },
  {
   "cell_type": "code",
   "execution_count": 94,
   "id": "af915573-a40a-4236-91d1-53d6af11f5f5",
   "metadata": {},
   "outputs": [
    {
     "name": "stdout",
     "output_type": "stream",
     "text": [
      "1220\n",
      "100\n",
      "1111\n",
      "apple\n",
      "potato\n",
      "thumpsup\n"
     ]
    }
   ],
   "source": [
    "for each in d.values():\n",
    "    print(each)"
   ]
  },
  {
   "cell_type": "code",
   "execution_count": 95,
   "id": "ab3f90d9-ee86-41df-9225-e6896ff407cf",
   "metadata": {},
   "outputs": [
    {
     "ename": "ValueError",
     "evalue": "too many values to unpack (expected 2)",
     "output_type": "error",
     "traceback": [
      "\u001b[31m---------------------------------------------------------------------------\u001b[39m",
      "\u001b[31mValueError\u001b[39m                                Traceback (most recent call last)",
      "\u001b[36mCell\u001b[39m\u001b[36m \u001b[39m\u001b[32mIn[95]\u001b[39m\u001b[32m, line 1\u001b[39m\n\u001b[32m----> \u001b[39m\u001b[32m1\u001b[39m \u001b[38;5;28;01mfor\u001b[39;00m each_key,each_value \u001b[38;5;129;01min\u001b[39;00m d:\n\u001b[32m      2\u001b[39m     \u001b[38;5;28mprint\u001b[39m(each_key,\u001b[33m'\u001b[39m\u001b[33m--\u001b[39m\u001b[33m'\u001b[39m,each_value)\n",
      "\u001b[31mValueError\u001b[39m: too many values to unpack (expected 2)"
     ]
    }
   ],
   "source": [
    "for each_key,each_value in d:\n",
    "    print(each_key,'--',each_value)"
   ]
  },
  {
   "cell_type": "code",
   "execution_count": 97,
   "id": "b94fbe18-9929-4d8b-9d59-65e98e2c50ba",
   "metadata": {},
   "outputs": [
    {
     "ename": "TypeError",
     "evalue": "'builtin_function_or_method' object is not iterable",
     "output_type": "error",
     "traceback": [
      "\u001b[31m---------------------------------------------------------------------------\u001b[39m",
      "\u001b[31mTypeError\u001b[39m                                 Traceback (most recent call last)",
      "\u001b[36mCell\u001b[39m\u001b[36m \u001b[39m\u001b[32mIn[97]\u001b[39m\u001b[32m, line 1\u001b[39m\n\u001b[32m----> \u001b[39m\u001b[32m1\u001b[39m \u001b[38;5;28;43;01mfor\u001b[39;49;00m\u001b[43m \u001b[49m\u001b[43meach_keys\u001b[49m\u001b[43m,\u001b[49m\u001b[43meach_values\u001b[49m\u001b[43m \u001b[49m\u001b[38;5;129;43;01min\u001b[39;49;00m\u001b[43m \u001b[49m\u001b[43md\u001b[49m\u001b[43m.\u001b[49m\u001b[43mitems\u001b[49m\u001b[43m:\u001b[49m\n\u001b[32m      2\u001b[39m \u001b[43m    \u001b[49m\u001b[38;5;28;43mprint\u001b[39;49m\u001b[43m(\u001b[49m\u001b[43meach_keys\u001b[49m\u001b[43m,\u001b[49m\u001b[33;43m\"\u001b[39;49m\u001b[33;43m--\u001b[39;49m\u001b[33;43m\"\u001b[39;49m\u001b[43m,\u001b[49m\u001b[43meach_values\u001b[49m\u001b[43m)\u001b[49m\n",
      "\u001b[31mTypeError\u001b[39m: 'builtin_function_or_method' object is not iterable"
     ]
    }
   ],
   "source": [
    "for each_keys,each_values in d.items:\n",
    "    print(each_keys,\"--\",each_values)"
   ]
  },
  {
   "cell_type": "code",
   "execution_count": 3,
   "id": "04c7482a-9e36-4625-a897-7646bc911264",
   "metadata": {},
   "outputs": [
    {
     "ename": "NameError",
     "evalue": "name 'd' is not defined",
     "output_type": "error",
     "traceback": [
      "\u001b[31m---------------------------------------------------------------------------\u001b[39m",
      "\u001b[31mNameError\u001b[39m                                 Traceback (most recent call last)",
      "\u001b[36mCell\u001b[39m\u001b[36m \u001b[39m\u001b[32mIn[3]\u001b[39m\u001b[32m, line 1\u001b[39m\n\u001b[32m----> \u001b[39m\u001b[32m1\u001b[39m \u001b[38;5;28;01mfor\u001b[39;00m each_keys,each_values \u001b[38;5;129;01min\u001b[39;00m \u001b[43md\u001b[49m.items():\n\u001b[32m      2\u001b[39m     \u001b[38;5;28mprint\u001b[39m(each_keys,\u001b[33m\"\u001b[39m\u001b[33m-->\u001b[39m\u001b[33m\"\u001b[39m,each_values)\n",
      "\u001b[31mNameError\u001b[39m: name 'd' is not defined"
     ]
    }
   ],
   "source": [
    "for each_keys,each_values in d.items():\n",
    "    print(each_keys,\"-->\",each_values)"
   ]
  },
  {
   "cell_type": "code",
   "execution_count": 1,
   "id": "a0e20248-3072-4ce7-b475-4f01eb23f71b",
   "metadata": {},
   "outputs": [],
   "source": [
    "#looping over keys"
   ]
  },
  {
   "cell_type": "code",
   "execution_count": 4,
   "id": "c11ea401-008a-44fd-9dd0-52fee2e65007",
   "metadata": {},
   "outputs": [
    {
     "ename": "NameError",
     "evalue": "name 'd' is not defined",
     "output_type": "error",
     "traceback": [
      "\u001b[31m---------------------------------------------------------------------------\u001b[39m",
      "\u001b[31mNameError\u001b[39m                                 Traceback (most recent call last)",
      "\u001b[36mCell\u001b[39m\u001b[36m \u001b[39m\u001b[32mIn[4]\u001b[39m\u001b[32m, line 1\u001b[39m\n\u001b[32m----> \u001b[39m\u001b[32m1\u001b[39m \u001b[38;5;28;01mfor\u001b[39;00m each_keys \u001b[38;5;129;01min\u001b[39;00m \u001b[43md\u001b[49m.keys():\n\u001b[32m      2\u001b[39m     \u001b[38;5;28mprint\u001b[39m(\u001b[38;5;28mtype\u001b[39m(each_keys,\u001b[33m\"\u001b[39m\u001b[33m-->\u001b[39m\u001b[33m\"\u001b[39m,each_values))\n",
      "\u001b[31mNameError\u001b[39m: name 'd' is not defined"
     ]
    }
   ],
   "source": [
    "for each_keys in d.keys():\n",
    "    print(type(each_keys,\"-->\",each_values))"
   ]
  },
  {
   "cell_type": "code",
   "execution_count": 5,
   "id": "9f2110fa-aaa3-475c-9d81-5cafd2fba909",
   "metadata": {},
   "outputs": [],
   "source": [
    "d={'sandles': 1220,\n",
    " 'idly rava': 100,\n",
    " 'jeans': 1111,\n",
    " 'fruit': 'apple',\n",
    " 'veg': 'potato',\n",
    " 'drinks': 'thumpsup'}"
   ]
  },
  {
   "cell_type": "code",
   "execution_count": 6,
   "id": "83559d7d-6682-42e0-97bd-c4fcf2ee8f49",
   "metadata": {},
   "outputs": [
    {
     "data": {
      "text/plain": [
       "{'sandles': 1220,\n",
       " 'idly rava': 100,\n",
       " 'jeans': 1111,\n",
       " 'fruit': 'apple',\n",
       " 'veg': 'potato',\n",
       " 'drinks': 'thumpsup'}"
      ]
     },
     "execution_count": 6,
     "metadata": {},
     "output_type": "execute_result"
    }
   ],
   "source": [
    "d"
   ]
  },
  {
   "cell_type": "code",
   "execution_count": 13,
   "id": "3b55d38f-aada-4592-b203-c060317b38e3",
   "metadata": {},
   "outputs": [
    {
     "name": "stdout",
     "output_type": "stream",
     "text": [
      "sandles --> 1220\n",
      "idly rava --> 100\n",
      "jeans --> 1111\n",
      "fruit --> apple\n",
      "veg --> potato\n",
      "drinks --> thumpsup\n"
     ]
    }
   ],
   "source": [
    "for each_keys,each_values in d.items():\n",
    "    print(each_keys,\"-->\",each_values)"
   ]
  },
  {
   "cell_type": "code",
   "execution_count": 38,
   "id": "c326d3ac-3752-4283-b6f4-8b9a4d5478b8",
   "metadata": {},
   "outputs": [
    {
     "data": {
      "text/plain": [
       "'jeans'"
      ]
     },
     "execution_count": 38,
     "metadata": {},
     "output_type": "execute_result"
    }
   ],
   "source": [
    "d.setdefault('pants','jeans')"
   ]
  },
  {
   "cell_type": "code",
   "execution_count": 39,
   "id": "d23a3cd1-69a9-48a2-a349-2eb093ac9ccc",
   "metadata": {},
   "outputs": [
    {
     "data": {
      "text/plain": [
       "'new value'"
      ]
     },
     "execution_count": 39,
     "metadata": {},
     "output_type": "execute_result"
    }
   ],
   "source": [
    "d.setdefault('new key','new value')"
   ]
  },
  {
   "cell_type": "code",
   "execution_count": 40,
   "id": "62cb57d5-d695-4d9c-82c5-b9711aa8dd3f",
   "metadata": {},
   "outputs": [
    {
     "name": "stdout",
     "output_type": "stream",
     "text": [
      "dt \n",
      "\n",
      "sunrise \n",
      "\n",
      "sunset \n",
      "\n",
      "temp \n",
      "\n",
      "feels_like \n",
      "\n",
      "pressure \n",
      "\n",
      "humidity \n",
      "\n",
      "weather \n",
      "\n",
      "speed \n",
      "\n",
      "deg \n",
      "\n",
      "gust \n",
      "\n",
      "clouds \n",
      "\n",
      "pop \n",
      "\n",
      "rain \n",
      "\n"
     ]
    }
   ],
   "source": [
    "for each_dict in s:\n",
    "    print(each_dict,'\\n')"
   ]
  },
  {
   "cell_type": "code",
   "execution_count": 11,
   "id": "5b133802-f470-445e-8076-b03757f2332f",
   "metadata": {},
   "outputs": [
    {
     "ename": "TypeError",
     "evalue": "type.__new__() argument 2 must be tuple, not str",
     "output_type": "error",
     "traceback": [
      "\u001b[31m---------------------------------------------------------------------------\u001b[39m",
      "\u001b[31mTypeError\u001b[39m                                 Traceback (most recent call last)",
      "\u001b[36mCell\u001b[39m\u001b[36m \u001b[39m\u001b[32mIn[11]\u001b[39m\u001b[32m, line 2\u001b[39m\n\u001b[32m      1\u001b[39m \u001b[38;5;28;01mfor\u001b[39;00m each_keys,each_values \u001b[38;5;129;01min\u001b[39;00m d.items():\n\u001b[32m----> \u001b[39m\u001b[32m2\u001b[39m     \u001b[38;5;28mprint\u001b[39m(\u001b[38;5;28;43mtype\u001b[39;49m\u001b[43m(\u001b[49m\u001b[43meach_keys\u001b[49m\u001b[43m,\u001b[49m\u001b[33;43m\"\u001b[39;49m\u001b[33;43m-->\u001b[39;49m\u001b[33;43m\"\u001b[39;49m\u001b[43m,\u001b[49m\u001b[43meach_values\u001b[49m\u001b[43m)\u001b[49m)\n",
      "\u001b[31mTypeError\u001b[39m: type.__new__() argument 2 must be tuple, not str"
     ]
    }
   ],
   "source": [
    "for each_keys,each_values in d.items():\n",
    "    print(type(each_keys,\"-->\",each_values))"
   ]
  },
  {
   "cell_type": "code",
   "execution_count": 14,
   "id": "c06b494c-0d85-4949-952b-ff80ccd41cc6",
   "metadata": {},
   "outputs": [
    {
     "ename": "TypeError",
     "evalue": "type.__new__() argument 2 must be tuple, not str",
     "output_type": "error",
     "traceback": [
      "\u001b[31m---------------------------------------------------------------------------\u001b[39m",
      "\u001b[31mTypeError\u001b[39m                                 Traceback (most recent call last)",
      "\u001b[36mCell\u001b[39m\u001b[36m \u001b[39m\u001b[32mIn[14]\u001b[39m\u001b[32m, line 1\u001b[39m\n\u001b[32m----> \u001b[39m\u001b[32m1\u001b[39m \u001b[38;5;28;43mtype\u001b[39;49m\u001b[43m(\u001b[49m\u001b[43meach_keys\u001b[49m\u001b[43m,\u001b[49m\u001b[33;43m\"\u001b[39;49m\u001b[33;43m-->\u001b[39;49m\u001b[33;43m\"\u001b[39;49m\u001b[43m,\u001b[49m\u001b[43meach_values\u001b[49m\u001b[43m)\u001b[49m\n",
      "\u001b[31mTypeError\u001b[39m: type.__new__() argument 2 must be tuple, not str"
     ]
    }
   ],
   "source": [
    "type(each_keys,\"-->\",each_values)"
   ]
  },
  {
   "cell_type": "code",
   "execution_count": 41,
   "id": "bbbbdc32-9667-4e27-b9eb-0a9bc1026623",
   "metadata": {},
   "outputs": [],
   "source": [
    "s={\n",
    "      \"dt\": 1748241000,\n",
    "      \"sunrise\": 1748217881,\n",
    "      \"sunset\": 1748264687,\n",
    "      \"temp\": {\n",
    "        \"day\": 30.94,\n",
    "        \"min\": 26.74,\n",
    "        \"max\": 32.53,\n",
    "        \"night\": 28.33,\n",
    "        \"eve\": 27,\n",
    "        \"morn\": 28.03\n",
    "      },\n",
    "      \"feels_like\": {\n",
    "        \"day\": 37.14,\n",
    "        \"night\": 31.47,\n",
    "        \"eve\": 27.8,\n",
    "        \"morn\": 31.28\n",
    "      },\n",
    "      \"pressure\": 1002,\n",
    "      \"humidity\": 69,\n",
    "      \"weather\": [\n",
    "        {\n",
    "          \"id\": 501,\n",
    "          \"main\": \"Rain\",\n",
    "          \"description\": \"moderate rain\",\n",
    "          \"icon\": \"10d\"\n",
    "        }\n",
    "      ],\n",
    "      \"speed\": 4.9,\n",
    "      \"deg\": 234,\n",
    "      \"gust\": 9.83,\n",
    "      \"clouds\": 62,\n",
    "      \"pop\": 1,\n",
    "      \"rain\": 1.65\n",
    "    }"
   ]
  },
  {
   "cell_type": "code",
   "execution_count": 46,
   "id": "1f654f9c-b80e-4128-84d9-a570b30af406",
   "metadata": {},
   "outputs": [
    {
     "ename": "AttributeError",
     "evalue": "'str' object has no attribute 'get'",
     "output_type": "error",
     "traceback": [
      "\u001b[31m---------------------------------------------------------------------------\u001b[39m",
      "\u001b[31mAttributeError\u001b[39m                            Traceback (most recent call last)",
      "\u001b[36mCell\u001b[39m\u001b[36m \u001b[39m\u001b[32mIn[46]\u001b[39m\u001b[32m, line 3\u001b[39m\n\u001b[32m      1\u001b[39m temp_weather_row=\u001b[33m'\u001b[39m\u001b[33m'\u001b[39m\n\u001b[32m      2\u001b[39m \u001b[38;5;28;01mfor\u001b[39;00m each \u001b[38;5;129;01min\u001b[39;00m s:\n\u001b[32m----> \u001b[39m\u001b[32m3\u001b[39m     temp_weather_row=(\u001b[33m\"\u001b[39m\u001b[33mdate:\u001b[39m\u001b[33m\"\u001b[39m,\u001b[43meach\u001b[49m\u001b[43m.\u001b[49m\u001b[43mget\u001b[49m(\u001b[33m'\u001b[39m\u001b[33mdt\u001b[39m\u001b[33m'\u001b[39m),\u001b[33m'\u001b[39m\u001b[38;5;130;01m\\t\u001b[39;00m\u001b[33m'\u001b[39m)\n\u001b[32m      4\u001b[39m temp_weather_row\n",
      "\u001b[31mAttributeError\u001b[39m: 'str' object has no attribute 'get'"
     ]
    }
   ],
   "source": [
    "temp_weather_row=''\n",
    "for each in s:\n",
    "    temp_weather_row=(\"date:\",each.get('dt'),'\\t')\n",
    "temp_weather_row"
   ]
  },
  {
   "cell_type": "code",
   "execution_count": 25,
   "id": "4997c82e-61b1-4789-ac4f-0c468ce0013d",
   "metadata": {},
   "outputs": [
    {
     "data": {
      "text/plain": [
       "14"
      ]
     },
     "execution_count": 25,
     "metadata": {},
     "output_type": "execute_result"
    }
   ],
   "source": [
    "len(s)"
   ]
  },
  {
   "cell_type": "code",
   "execution_count": 26,
   "id": "f708909e-7b09-446c-b8e0-2179f3cb249b",
   "metadata": {},
   "outputs": [
    {
     "data": {
      "text/plain": [
       "dict"
      ]
     },
     "execution_count": 26,
     "metadata": {},
     "output_type": "execute_result"
    }
   ],
   "source": [
    "type(s)"
   ]
  },
  {
   "cell_type": "code",
   "execution_count": 29,
   "id": "bea51e2a-ef24-42ec-9546-6c42ef92fa9d",
   "metadata": {},
   "outputs": [
    {
     "data": {
      "text/plain": [
       "{'dt': 1748241000,\n",
       " 'sunrise': 1748217881,\n",
       " 'sunset': 1748264687,\n",
       " 'temp': {'day': 30.94,\n",
       "  'min': 26.74,\n",
       "  'max': 32.53,\n",
       "  'night': 28.33,\n",
       "  'eve': 27,\n",
       "  'morn': 28.03},\n",
       " 'feels_like': {'day': 37.14, 'night': 31.47, 'eve': 27.8, 'morn': 31.28},\n",
       " 'pressure': 1002,\n",
       " 'humidity': 69,\n",
       " 'weather': [{'id': 501,\n",
       "   'main': 'Rain',\n",
       "   'description': 'moderate rain',\n",
       "   'icon': '10d'}],\n",
       " 'speed': 4.9,\n",
       " 'deg': 234,\n",
       " 'gust': 9.83,\n",
       " 'clouds': 62,\n",
       " 'pop': 1,\n",
       " 'rain': 1.65}"
      ]
     },
     "execution_count": 29,
     "metadata": {},
     "output_type": "execute_result"
    }
   ],
   "source": [
    "s"
   ]
  },
  {
   "cell_type": "code",
   "execution_count": 30,
   "id": "b8b5c574-b6d0-44ba-b5c1-c69647a32c43",
   "metadata": {},
   "outputs": [
    {
     "ename": "KeyError",
     "evalue": "0",
     "output_type": "error",
     "traceback": [
      "\u001b[31m---------------------------------------------------------------------------\u001b[39m",
      "\u001b[31mKeyError\u001b[39m                                  Traceback (most recent call last)",
      "\u001b[36mCell\u001b[39m\u001b[36m \u001b[39m\u001b[32mIn[30]\u001b[39m\u001b[32m, line 1\u001b[39m\n\u001b[32m----> \u001b[39m\u001b[32m1\u001b[39m \u001b[43ms\u001b[49m\u001b[43m[\u001b[49m\u001b[32;43m0\u001b[39;49m\u001b[43m]\u001b[49m\n",
      "\u001b[31mKeyError\u001b[39m: 0"
     ]
    }
   ],
   "source": [
    "s[0]"
   ]
  },
  {
   "cell_type": "code",
   "execution_count": 33,
   "id": "eac6298b-860e-41d9-9ff7-3be13a7a93e4",
   "metadata": {},
   "outputs": [
    {
     "data": {
      "text/plain": [
       "{'id': 501, 'main': 'Rain', 'description': 'moderate rain', 'icon': '10d'}"
      ]
     },
     "execution_count": 33,
     "metadata": {},
     "output_type": "execute_result"
    }
   ],
   "source": [
    "s['weather'][0]"
   ]
  },
  {
   "cell_type": "code",
   "execution_count": 1,
   "id": "3bd3d66c-38dd-42b6-bf9e-cf9993dedd8d",
   "metadata": {},
   "outputs": [],
   "source": [
    "f={}"
   ]
  },
  {
   "cell_type": "code",
   "execution_count": 2,
   "id": "4f5f512a-339b-41a3-8a3c-e2b21c5e7e97",
   "metadata": {},
   "outputs": [],
   "source": [
    "f={'sandles': 1220,\n",
    " 'idly rava': 100,\n",
    " 'jeans': 1111,\n",
    " 'fruit': 'apple',\n",
    " 'veg': 'potato',\n",
    " 'drinks': 'thumpsup'}"
   ]
  },
  {
   "cell_type": "code",
   "execution_count": 16,
   "id": "a303a690-656b-4119-a41f-fe1d16d100f1",
   "metadata": {},
   "outputs": [],
   "source": [
    "g={}"
   ]
  },
  {
   "cell_type": "code",
   "execution_count": 17,
   "id": "f2662e55-f6f3-46dc-ac90-1b61cf921189",
   "metadata": {},
   "outputs": [],
   "source": [
    "g=f"
   ]
  },
  {
   "cell_type": "code",
   "execution_count": 18,
   "id": "e21e70c3-fa90-4708-9714-8271553b99ee",
   "metadata": {},
   "outputs": [
    {
     "data": {
      "text/plain": [
       "{'sandles': 1220,\n",
       " 'idly rava': 100,\n",
       " 'jeans': 1111,\n",
       " 'fruit': 'apple',\n",
       " 'veg': 'potato',\n",
       " 'drinks': 'thumpsup'}"
      ]
     },
     "execution_count": 18,
     "metadata": {},
     "output_type": "execute_result"
    }
   ],
   "source": [
    "g"
   ]
  },
  {
   "cell_type": "code",
   "execution_count": 19,
   "id": "065335d4-d1d3-46b9-acf2-420c6e6b0e75",
   "metadata": {},
   "outputs": [],
   "source": [
    "h={}\n",
    "h=f"
   ]
  },
  {
   "cell_type": "code",
   "execution_count": 20,
   "id": "5571df03-de73-44bb-a3b6-c08c33d711cc",
   "metadata": {},
   "outputs": [
    {
     "data": {
      "text/plain": [
       "{'sandles': 1220,\n",
       " 'idly rava': 100,\n",
       " 'jeans': 1111,\n",
       " 'fruit': 'apple',\n",
       " 'veg': 'potato',\n",
       " 'drinks': 'thumpsup'}"
      ]
     },
     "execution_count": 20,
     "metadata": {},
     "output_type": "execute_result"
    }
   ],
   "source": [
    "h"
   ]
  },
  {
   "cell_type": "code",
   "execution_count": 21,
   "id": "c320db53-b986-4999-93e0-79f1f7519a6c",
   "metadata": {},
   "outputs": [
    {
     "data": {
      "text/plain": [
       "dict"
      ]
     },
     "execution_count": 21,
     "metadata": {},
     "output_type": "execute_result"
    }
   ],
   "source": [
    "type(h)"
   ]
  },
  {
   "cell_type": "code",
   "execution_count": 22,
   "id": "5ef89e17-53d7-4906-a1cc-33c79688f16b",
   "metadata": {},
   "outputs": [
    {
     "data": {
      "text/plain": [
       "dict"
      ]
     },
     "execution_count": 22,
     "metadata": {},
     "output_type": "execute_result"
    }
   ],
   "source": [
    "type(f)"
   ]
  },
  {
   "cell_type": "code",
   "execution_count": null,
   "id": "74821231-b2d2-41f3-af5b-cc882a80ce79",
   "metadata": {},
   "outputs": [],
   "source": []
  }
 ],
 "metadata": {
  "kernelspec": {
   "display_name": "Python 3 (ipykernel)",
   "language": "python",
   "name": "python3"
  },
  "language_info": {
   "codemirror_mode": {
    "name": "ipython",
    "version": 3
   },
   "file_extension": ".py",
   "mimetype": "text/x-python",
   "name": "python",
   "nbconvert_exporter": "python",
   "pygments_lexer": "ipython3",
   "version": "3.13.3"
  }
 },
 "nbformat": 4,
 "nbformat_minor": 5
}
