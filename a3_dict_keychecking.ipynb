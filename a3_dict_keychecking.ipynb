{
 "cells": [
  {
   "cell_type": "code",
   "execution_count": 1,
   "id": "aa2c4c9f-b94b-423f-ba12-acd72a68cd5c",
   "metadata": {},
   "outputs": [],
   "source": [
    "#*Problem**: Write a program that takes a dictionary and a key as input and checks if the key exists in the dictionary. If it does, print its value; otherwise, print \"Key not found.\" and create the key with its value. Precisely, Check if a Key exists in  dictioanry, if it doesnt then create a key and assign its value.Add commentMore actions\n",
    "\n",
    "#**Hint**: Membership checking\n",
    "\n",
    "#**Example Input**: `{\"apple\": 1, \"banana\": 2, \"orange\": 3}`, key: `\"banana\"`\n",
    "\n",
    "#**Apply these ->**: Dictionary key access, `in` operator, conditionals.\n"
   ]
  },
  {
   "cell_type": "code",
   "execution_count": 29,
   "id": "ee1c5730-ab9b-442f-a4a1-cab4a0d16e92",
   "metadata": {},
   "outputs": [
    {
     "name": "stdin",
     "output_type": "stream",
     "text": [
      "Enter father's name:  Jaffer\n",
      "Enter a mother's name:  Asma\n",
      "Enter son's name:  Ayman\n",
      "Enter daughter's name:  Zoya\n"
     ]
    }
   ],
   "source": [
    "d={}\n",
    "father=input(\"Enter father's name: \")\n",
    "mother=input(\"Enter a mother's name: \")\n",
    "son=input(\"Enter son's name: \")\n",
    "daughter=input(\"Enter daughter's name: \")\n",
    "d[\"father\"]=father\n",
    "d[\"mother\"]=mother\n",
    "d[\"son\"]=son\n",
    "d[\"daughter\"]=daughter\n"
   ]
  },
  {
   "cell_type": "code",
   "execution_count": 30,
   "id": "2bcdf0f9-1364-4710-b15d-2057e94f16b5",
   "metadata": {},
   "outputs": [
    {
     "data": {
      "text/plain": [
       "{'father': 'Jaffer', 'mother': 'Asma', 'son': 'Ayman', 'daughter': 'Zoya'}"
      ]
     },
     "execution_count": 30,
     "metadata": {},
     "output_type": "execute_result"
    }
   ],
   "source": [
    "d"
   ]
  },
  {
   "cell_type": "code",
   "execution_count": 67,
   "id": "ef4f6ca1-503f-4137-bccd-d278856e0e2a",
   "metadata": {},
   "outputs": [
    {
     "name": "stdin",
     "output_type": "stream",
     "text": [
      "Enter a key to check abc\n"
     ]
    }
   ],
   "source": [
    "k=input(\"Enter a key to check\") "
   ]
  },
  {
   "cell_type": "code",
   "execution_count": 68,
   "id": "ba74f8ca-6c1b-4118-9de7-f6c71a5ff9ca",
   "metadata": {},
   "outputs": [
    {
     "name": "stdout",
     "output_type": "stream",
     "text": [
      "Key not exists\n"
     ]
    },
    {
     "name": "stdin",
     "output_type": "stream",
     "text": [
      "Enter a new value to this key 123\n"
     ]
    },
    {
     "data": {
      "text/plain": [
       "{'father': 'Jaffer',\n",
       " 'mother': 'Asma',\n",
       " 'son': 'Ayman',\n",
       " 'daughter': 'Zoya',\n",
       " 'k': 'Shaik',\n",
       " 'Home minister': 'Shaik',\n",
       " 'Surname': 'Shaik',\n",
       " 'last name': 'Mohammad',\n",
       " 'python': 'Sreedhar',\n",
       " 'abc': '123'}"
      ]
     },
     "execution_count": 68,
     "metadata": {},
     "output_type": "execute_result"
    }
   ],
   "source": [
    "if k in d:\n",
    "    print(\"Key exists and its value is \",d[k]) #if key exists,its associated value is displayed.\n",
    "else:\n",
    "    print(\"Key not exists\") #everytime we check membership,if key not exists a new key and its associated value is added.\n",
    "    newkey=input(\"Enter a new value to this key\") \n",
    "    d[k]=newkey\n",
    "d"
   ]
  },
  {
   "cell_type": "code",
   "execution_count": 69,
   "id": "bc8822c4-2e2b-486e-a184-e19638a666a7",
   "metadata": {},
   "outputs": [],
   "source": [
    "allkeys=[*d] #gives list of keys"
   ]
  },
  {
   "cell_type": "code",
   "execution_count": 70,
   "id": "a498b190-a160-4f2c-b00b-240b378bc6ed",
   "metadata": {},
   "outputs": [
    {
     "data": {
      "text/plain": [
       "['father',\n",
       " 'mother',\n",
       " 'son',\n",
       " 'daughter',\n",
       " 'k',\n",
       " 'Home minister',\n",
       " 'Surname',\n",
       " 'last name',\n",
       " 'python',\n",
       " 'abc']"
      ]
     },
     "execution_count": 70,
     "metadata": {},
     "output_type": "execute_result"
    }
   ],
   "source": [
    "allkeys"
   ]
  },
  {
   "cell_type": "code",
   "execution_count": 71,
   "id": "4db5175e-4f6f-4b8a-a2b3-96ebc8d91503",
   "metadata": {},
   "outputs": [],
   "source": [
    "allval=[*d.values()] #gives list of values"
   ]
  },
  {
   "cell_type": "code",
   "execution_count": 72,
   "id": "d20d05e1-2b07-4cb6-978d-8c2c8a8bb8fa",
   "metadata": {},
   "outputs": [
    {
     "data": {
      "text/plain": [
       "['Jaffer',\n",
       " 'Asma',\n",
       " 'Ayman',\n",
       " 'Zoya',\n",
       " 'Shaik',\n",
       " 'Shaik',\n",
       " 'Shaik',\n",
       " 'Mohammad',\n",
       " 'Sreedhar',\n",
       " '123']"
      ]
     },
     "execution_count": 72,
     "metadata": {},
     "output_type": "execute_result"
    }
   ],
   "source": [
    "allval"
   ]
  },
  {
   "cell_type": "code",
   "execution_count": 73,
   "id": "99639e20-d7ca-4413-ab4a-2fc9f627eb48",
   "metadata": {},
   "outputs": [
    {
     "data": {
      "text/plain": [
       "dict_keys(['father', 'mother', 'son', 'daughter', 'k', 'Home minister', 'Surname', 'last name', 'python', 'abc'])"
      ]
     },
     "execution_count": 73,
     "metadata": {},
     "output_type": "execute_result"
    }
   ],
   "source": [
    "d.keys()"
   ]
  },
  {
   "cell_type": "code",
   "execution_count": 74,
   "id": "edfdaa22-493c-4e37-a9a2-d56374084512",
   "metadata": {},
   "outputs": [
    {
     "data": {
      "text/plain": [
       "dict_values(['Jaffer', 'Asma', 'Ayman', 'Zoya', 'Shaik', 'Shaik', 'Shaik', 'Mohammad', 'Sreedhar', '123'])"
      ]
     },
     "execution_count": 74,
     "metadata": {},
     "output_type": "execute_result"
    }
   ],
   "source": [
    "d.values()"
   ]
  },
  {
   "cell_type": "code",
   "execution_count": null,
   "id": "dea72f63-c022-487a-8da5-64772e69cba1",
   "metadata": {},
   "outputs": [],
   "source": []
  }
 ],
 "metadata": {
  "kernelspec": {
   "display_name": "Python 3 (ipykernel)",
   "language": "python",
   "name": "python3"
  },
  "language_info": {
   "codemirror_mode": {
    "name": "ipython",
    "version": 3
   },
   "file_extension": ".py",
   "mimetype": "text/x-python",
   "name": "python",
   "nbconvert_exporter": "python",
   "pygments_lexer": "ipython3",
   "version": "3.13.3"
  }
 },
 "nbformat": 4,
 "nbformat_minor": 5
}
