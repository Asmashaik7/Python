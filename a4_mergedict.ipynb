{
 "cells": [
  {
   "cell_type": "code",
   "execution_count": 1,
   "id": "0ca9344c-1c0e-4a6f-81a2-38ca58dc7a06",
   "metadata": {},
   "outputs": [],
   "source": [
    "#**Merge Two Dictionaries**Add commentMore actions\n",
    "#**Problem**: Write a function that takes two dictionaries and merges them into a single dictionary. If a key exists in both dictionaries, keep the value from the second dictionary. For example, `{\"a\": 1, \"b\": 2}` and `{\"b\": 3, \"c\": 4}` should return `{\"a\": 1, \"b\": 3, \"c\": 4}`.\n",
    "\n",
    "#**Hint**: Use a loop or the `update()` method.\n",
    "\n",
    "#**Apply these ->**: Dictionary merging, `update()`, loops."
   ]
  },
  {
   "cell_type": "code",
   "execution_count": 3,
   "id": "87387877-df33-4b62-a484-10ea90e342eb",
   "metadata": {},
   "outputs": [
    {
     "data": {
      "text/plain": [
       "{'a': 1, 'b': 3, 'c': 4}"
      ]
     },
     "execution_count": 3,
     "metadata": {},
     "output_type": "execute_result"
    }
   ],
   "source": [
    "dict1={\"a\": 1, \"b\": 2}#using update keyword\n",
    "dict2={\"b\": 3, \"c\": 4}\n",
    "dict1.update(dict2)\n",
    "dict1"
   ]
  },
  {
   "cell_type": "code",
   "execution_count": 91,
   "id": "25e89bfd-bcf5-466d-b2d2-ae56a113bc6c",
   "metadata": {},
   "outputs": [
    {
     "data": {
      "text/plain": [
       "{'first': 'Asma', 'second': 'mohammad', 'last': 'xyz'}"
      ]
     },
     "execution_count": 91,
     "metadata": {},
     "output_type": "execute_result"
    }
   ],
   "source": [
    "def mergedict(dict3,dict4): #function\n",
    "    dict3.update(dict4)\n",
    "    return dict3\n",
    "mergedict({\"a\": 1, \"b\": 2},{\"b\": 3, \"c\": 4})#here it merge both dicts into first.If a key exists in both dictionaries, keep the value from the second dictionary\n",
    "mergedict({\"first\": \"Asma\",\"second\":\"shaik\"},{\"second\":\"mohammad\",\"last\":\"xyz\"})"
   ]
  },
  {
   "cell_type": "code",
   "execution_count": 86,
   "id": "34476754-cbd1-4d1f-8235-f2526d72e76a",
   "metadata": {},
   "outputs": [
    {
     "name": "stdout",
     "output_type": "stream",
     "text": [
      "merged in dict1:  {'a': 1, 'b': 3, 'd': 20, 'e': 20, 'c': 4, 'f': 30}\n",
      "dict2:  {'b': 3, 'c': 4, 'd': 20, 'f': 30}\n"
     ]
    }
   ],
   "source": [
    "dict1={\"a\": 1, \"b\": 2,\"d\":10,\"e\":20} #using for loop\n",
    "dict2={\"b\": 3, \"c\": 4,\"d\":20,\"f\":30}\n",
    "for key,value in dict2.items():\n",
    "    dict1[key]=value   \n",
    "print(\"merged in dict1: \",dict1)\n",
    "print(\"dict2: \",dict2)\n",
    "\n"
   ]
  },
  {
   "cell_type": "code",
   "execution_count": 69,
   "id": "d9b70be1-a9ae-43d5-9384-b3b6c1224bfd",
   "metadata": {},
   "outputs": [
    {
     "data": {
      "text/plain": [
       "<function dict.copy()>"
      ]
     },
     "execution_count": 69,
     "metadata": {},
     "output_type": "execute_result"
    }
   ],
   "source": [
    "first={}\n",
    "sec={'z':900}\n",
    "sec2=sec.copy\n",
    "sec2"
   ]
  }
 ],
 "metadata": {
  "kernelspec": {
   "display_name": "Python 3 (ipykernel)",
   "language": "python",
   "name": "python3"
  },
  "language_info": {
   "codemirror_mode": {
    "name": "ipython",
    "version": 3
   },
   "file_extension": ".py",
   "mimetype": "text/x-python",
   "name": "python",
   "nbconvert_exporter": "python",
   "pygments_lexer": "ipython3",
   "version": "3.13.3"
  }
 },
 "nbformat": 4,
 "nbformat_minor": 5
}
