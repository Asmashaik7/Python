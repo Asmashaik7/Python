{
 "cells": [
  {
   "cell_type": "code",
   "execution_count": 1,
   "id": "25259f68-9eb9-4301-a6d0-667fd1a60870",
   "metadata": {},
   "outputs": [],
   "source": [
    "#Assignment-a5_dictkey_tracking\n",
    "#Find the Key with Maximum Value\n",
    "#Problem: Write a function that takes a dictionary with numeric values and returns the key associated with the maximum value. For example, {\"apple\": 5, \"banana\": 2, \"orange\": 7} should return \"orange\".\n",
    "\n",
    "#Hint: Iterate through the dictionary and track the key with the highest value. Use items() method and try to iterate between keys and lists, see if you can use an if condition to find key based on value.\n",
    "\n",
    "#Apply these ->: for loop, if-else, items() method."
   ]
  },
  {
   "cell_type": "code",
   "execution_count": 74,
   "id": "4670b384-703c-413f-9df4-3bd347e02827",
   "metadata": {},
   "outputs": [
    {
     "name": "stdout",
     "output_type": "stream",
     "text": [
      "maxvalue: 20\n",
      "maxkey: e\n"
     ]
    }
   ],
   "source": [
    " #using for loop\n",
    "dict={\"a\": 1, \"b\": 2,\"d\":10,\"e\":20}\n",
    "k=[*dict]\n",
    "v=[*dict.values()]\n",
    "maxvalue=max(v)\n",
    "print(\"maxvalue:\",maxvalue)\n",
    "\n",
    "def funct1(dict1):\n",
    "    for key,value in dict1.items():\n",
    "        if value==maxvalue:\n",
    "            return(key)\n",
    "maxkey=funct1(dict)\n",
    "print(\"maxkey:\",maxkey)"
   ]
  },
  {
   "cell_type": "code",
   "execution_count": null,
   "id": "1765feb2-1c92-4b4e-9e49-c499116b22b4",
   "metadata": {},
   "outputs": [],
   "source": []
  },
  {
   "cell_type": "code",
   "execution_count": null,
   "id": "727b7918-57ca-477c-a072-d77aa00d76b3",
   "metadata": {},
   "outputs": [],
   "source": []
  }
 ],
 "metadata": {
  "kernelspec": {
   "display_name": "Python 3 (ipykernel)",
   "language": "python",
   "name": "python3"
  },
  "language_info": {
   "codemirror_mode": {
    "name": "ipython",
    "version": 3
   },
   "file_extension": ".py",
   "mimetype": "text/x-python",
   "name": "python",
   "nbconvert_exporter": "python",
   "pygments_lexer": "ipython3",
   "version": "3.13.3"
  }
 },
 "nbformat": 4,
 "nbformat_minor": 5
}
