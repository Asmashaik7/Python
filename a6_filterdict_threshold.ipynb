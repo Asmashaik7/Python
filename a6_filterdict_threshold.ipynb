{
 "cells": [
  {
   "cell_type": "code",
   "execution_count": 1,
   "id": "b72f3053-3835-46e0-9524-351c02e1c9a9",
   "metadata": {},
   "outputs": [],
   "source": [
    "#6. Filter Dictionary by Value\n",
    "#Problem: Write a function that takes a dictionary and a threshold value, and returns a new dictionary containing only key-value pairs where the value is greater than the threshold.\n",
    "#For example, {\"a\": 10, \"b\": 5, \"c\": 15} with threshold 7 should return {\"a\": 10, \"c\": 15}.\n",
    "\n",
    "#Apply these ->: Dictionary iteration, conditionals, dictionary comprehension (optional).\n",
    "\n"
   ]
  },
  {
   "cell_type": "code",
   "execution_count": 7,
   "id": "b591922f-0963-4531-a2b3-df6f921feae1",
   "metadata": {},
   "outputs": [
    {
     "data": {
      "text/plain": [
       "{'a': 10, 'c': 15}"
      ]
     },
     "execution_count": 7,
     "metadata": {},
     "output_type": "execute_result"
    }
   ],
   "source": [
    "dict1= {\"a\": 10, \"b\": 5, \"c\": 15}\n",
    "t=7\n",
    "def funct1(dict3,threshold):\n",
    "    dict2={}# new dict to save kv pairs whose values are greater than threshold \n",
    "    for key,value in dict3.items():\n",
    "        if value>threshold:\n",
    "            dict2[key]=value#assigning new kv pairs into new dictionary\n",
    "    return(dict2)# return indentation is important else getting errors\n",
    "funct1(dict1,t)\n",
    "        "
   ]
  },
  {
   "cell_type": "code",
   "execution_count": null,
   "id": "8d802a58-80d2-4a82-baaa-b3817e844d0d",
   "metadata": {},
   "outputs": [],
   "source": []
  }
 ],
 "metadata": {
  "kernelspec": {
   "display_name": "Python 3 (ipykernel)",
   "language": "python",
   "name": "python3"
  },
  "language_info": {
   "codemirror_mode": {
    "name": "ipython",
    "version": 3
   },
   "file_extension": ".py",
   "mimetype": "text/x-python",
   "name": "python",
   "nbconvert_exporter": "python",
   "pygments_lexer": "ipython3",
   "version": "3.13.3"
  }
 },
 "nbformat": 4,
 "nbformat_minor": 5
}
