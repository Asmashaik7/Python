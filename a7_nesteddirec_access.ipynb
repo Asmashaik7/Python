{
 "cells": [
  {
   "cell_type": "code",
   "execution_count": 1,
   "id": "e52ff4f9-5e82-4c67-8b9e-7a8ffae49133",
   "metadata": {},
   "outputs": [],
   "source": [
    "#7. Nested Dictionary Access\n",
    "#Problem: Write a program to create a nested dictionary representing 3 students, with each student having a name and a dictionary of subjects with grades (e.g., {\"math\": 90, \"science\": 85}). \n",
    "#Prompt the user for a student name and subject, then print the corresponding grade or an error message if not found.\n",
    "\n",
    "#Hint: Create a Dicntionary with the Student name as Key, create a sub-dictionary for every student that has marks, grades, contact-details of the students.\n",
    "#Apply these ->: Nested dictionaries, key access : get(), input()"
   ]
  },
  {
   "cell_type": "code",
   "execution_count": 3,
   "id": "6b782c10-fd2b-47d8-b10a-3842dfc0f977",
   "metadata": {},
   "outputs": [],
   "source": [
    "students={\"Asma\":{\"marks\":{\"maths\":45,\"science\":55,\"social\":65},\"grade\":\"pass\",\"contact\":{\"phone\":8099819393,\"address\":\"kgm\",\"landmark\":\"post office\"}}\n",
    ",\"Sreedhar\":{\"marks\":{\"maths\":100,\"science\":90,\"social\":100},\"grade\":\"distinction\",\"contact\":{\"phone\":123456,\"address\":\"hyd\",\"landmark\":\"madhapur\"}}\n",
    ",\"Suresh\":{\"marks\":{\"maths\":99,\"science\":80,\"social\":34},\"grade\":\"fail\",\"contact\":{\"phone\":738644,\"address\":\"sec\",\"landmark\":\"dd colony\"}}}"
   ]
  },
  {
   "cell_type": "code",
   "execution_count": 4,
   "id": "eaef5d1b-a110-4ca6-bc71-ec868134eb80",
   "metadata": {},
   "outputs": [
    {
     "data": {
      "text/plain": [
       "{'Asma': {'marks': {'maths': 45, 'science': 55, 'social': 65},\n",
       "  'grade': 'pass',\n",
       "  'contact': {'phone': 8099819393,\n",
       "   'address': 'kgm',\n",
       "   'landmark': 'post office'}},\n",
       " 'Sreedhar': {'marks': {'maths': 100, 'science': 90, 'social': 100},\n",
       "  'grade': 'distinction',\n",
       "  'contact': {'phone': 123456, 'address': 'hyd', 'landmark': 'madhapur'}},\n",
       " 'Suresh': {'marks': {'maths': 99, 'science': 80, 'social': 34},\n",
       "  'grade': 'fail',\n",
       "  'contact': {'phone': 738644, 'address': 'sec', 'landmark': 'dd colony'}}}"
      ]
     },
     "execution_count": 4,
     "metadata": {},
     "output_type": "execute_result"
    }
   ],
   "source": [
    "students"
   ]
  },
  {
   "cell_type": "code",
   "execution_count": 5,
   "id": "83af584a-e86b-47fb-83b7-a60f712815b0",
   "metadata": {},
   "outputs": [
    {
     "data": {
      "text/plain": [
       "dict_keys(['Asma', 'Sreedhar', 'Suresh'])"
      ]
     },
     "execution_count": 5,
     "metadata": {},
     "output_type": "execute_result"
    }
   ],
   "source": [
    "students.keys()"
   ]
  },
  {
   "cell_type": "code",
   "execution_count": 11,
   "id": "91d2c98a-3246-4f81-8f82-a08927af48db",
   "metadata": {},
   "outputs": [
    {
     "data": {
      "text/plain": [
       "45"
      ]
     },
     "execution_count": 11,
     "metadata": {},
     "output_type": "execute_result"
    }
   ],
   "source": [
    "students['Asma']['marks']['maths']\n"
   ]
  },
  {
   "cell_type": "code",
   "execution_count": 9,
   "id": "56547775-02de-4879-871c-cda0fcd691c5",
   "metadata": {},
   "outputs": [
    {
     "name": "stdout",
     "output_type": "stream",
     "text": [
      "Asma's maths mark: 45\n"
     ]
    }
   ],
   "source": [
    "maths_marks = students.get(\"Asma\", {}).get(\"marks\", {}).get(\"maths\",{})\n",
    "print(\"Asma's maths mark:\", maths_marks)"
   ]
  },
  {
   "cell_type": "code",
   "execution_count": 64,
   "id": "b6654202-7f24-474b-af63-1fdf1b43b326",
   "metadata": {},
   "outputs": [
    {
     "name": "stdin",
     "output_type": "stream",
     "text": [
      "Enter student name:  asma\n",
      "Enter subject:  soc\n"
     ]
    },
    {
     "name": "stdout",
     "output_type": "stream",
     "text": [
      "Student Name: Asma\n",
      "Subject: Not in list\n",
      "Grade: pass\n"
     ]
    }
   ],
   "source": [
    "name = input(\"Enter student name: \").strip().capitalize()\n",
    "student = students.get(name,\"Not found in list\")\n",
    "if student:\n",
    "    sub = input(\"Enter subject: \").strip().lower()\n",
    "    sub_marks = student.get(\"marks\",\"check spellings properly\")\n",
    "    subject=sub_marks.get(sub,\"Not in list\")\n",
    "    grade = student.get(\"grade\")\n",
    "    print(\"Student Name:\", name)\n",
    "    print(\"Subject:\", subject)\n",
    "    print(\"Grade:\", grade)"
   ]
  },
  {
   "cell_type": "code",
   "execution_count": 25,
   "id": "9a410fb0-656a-4fb1-9f46-b0deccd1de11",
   "metadata": {},
   "outputs": [
    {
     "name": "stdin",
     "output_type": "stream",
     "text": [
      "Enter student name:  asma\n",
      "Enter subject:  maths\n"
     ]
    },
    {
     "name": "stdout",
     "output_type": "stream",
     "text": [
      "Asma and maths\n",
      "student name:  Asma\n",
      "grade:  pass\n"
     ]
    }
   ],
   "source": [
    "name=input(\"Enter student name: \").capitalize()\n",
    "sub=input(\"Enter subject: \").lower()\n",
    "print(name, \"and\", sub)\n",
    "if name not in students:\n",
    "    print(\"student not in list\")\n",
    "else:\n",
    "    if sub in students[name]['marks']:\n",
    "        print(\"student name: \",name)\n",
    "        print(\"grade: \",students[name].get('grade'))\n",
    "    else:\n",
    "        print(\"subject not in list\")\n",
    "    \n"
   ]
  },
  {
   "cell_type": "code",
   "execution_count": 29,
   "id": "54f5196e-d4a4-4ff2-aca1-34dd9ac7e745",
   "metadata": {},
   "outputs": [
    {
     "name": "stdin",
     "output_type": "stream",
     "text": [
      "Enter student name:  asmaa\n"
     ]
    },
    {
     "name": "stdout",
     "output_type": "stream",
     "text": [
      "student not in list\n"
     ]
    }
   ],
   "source": [
    "name=input(\"Enter student name: \").capitalize()\n",
    "if name not in students:\n",
    "    print(\"student not in list\")\n",
    "else:\n",
    "    sub=input(\"Enter subject: \").lower()\n",
    "    print(name, \"and\", sub)\n",
    "    if sub in students[name]['marks']:\n",
    "        print(\"student name: \",name)\n",
    "        print(\"grade: \",students[name].get('grade'))\n",
    "    else:\n",
    "        print(\"subject not in list\")"
   ]
  },
  {
   "cell_type": "code",
   "execution_count": 30,
   "id": "774565c4-fbc8-4141-8dbc-5d9ad12a078a",
   "metadata": {},
   "outputs": [
    {
     "name": "stdin",
     "output_type": "stream",
     "text": [
      "Enter student name:  asma\n",
      "Enter subject:  math\n"
     ]
    },
    {
     "name": "stdout",
     "output_type": "stream",
     "text": [
      "Asma and math\n",
      "subject not in list\n"
     ]
    }
   ],
   "source": [
    "name=input(\"Enter student name: \").capitalize()\n",
    "if name not in students:\n",
    "    print(\"student not in list\")\n",
    "else:\n",
    "    sub=input(\"Enter subject: \").lower()\n",
    "    print(name, \"and\", sub)\n",
    "    if sub in students[name]['marks']:\n",
    "        print(\"student name: \",name)\n",
    "        print(\"grade: \",students[name].get('grade'))\n",
    "    else:\n",
    "        print(\"subject not in list\")"
   ]
  },
  {
   "cell_type": "code",
   "execution_count": 31,
   "id": "411c7c24-7749-4cb9-b674-dd9648e382c5",
   "metadata": {},
   "outputs": [
    {
     "name": "stdin",
     "output_type": "stream",
     "text": [
      "Enter student name:  sreedhar\n",
      "Enter subject:  maths\n"
     ]
    },
    {
     "name": "stdout",
     "output_type": "stream",
     "text": [
      "Sreedhar and maths\n",
      "student name:  Sreedhar\n",
      "grade:  distinction\n"
     ]
    }
   ],
   "source": [
    "name=input(\"Enter student name: \").capitalize()\n",
    "if name not in students:\n",
    "    print(\"student not in list\")\n",
    "else:\n",
    "    sub=input(\"Enter subject: \").lower()\n",
    "    print(name, \"and\", sub)\n",
    "    if sub in students[name]['marks']:\n",
    "        print(\"student name: \",name)\n",
    "        print(\"grade: \",students[name].get('grade'))\n",
    "    else:\n",
    "        print(\"subject not in list\")"
   ]
  },
  {
   "cell_type": "code",
   "execution_count": 45,
   "id": "fc3b7a6e-7d05-4e53-9528-e8fac7197a6f",
   "metadata": {},
   "outputs": [
    {
     "name": "stdin",
     "output_type": "stream",
     "text": [
      "Enter student name:  asma\n",
      "Enter subject:  asma\n"
     ]
    },
    {
     "name": "stdout",
     "output_type": "stream",
     "text": [
      "Asma and asma\n",
      "Subject 'asma' not found for Asma.\n"
     ]
    }
   ],
   "source": [
    "name = input(\"Enter student name: \").strip().capitalize()\n",
    "sub = input(\"Enter subject: \").strip().lower()\n",
    "\n",
    "print(name, \"and\", sub)\n",
    "\n",
    "# Safely get student dictionary\n",
    "student = students.get(name)\n",
    "\n",
    "if student:\n",
    "    marks = student.get(\"marks\", {})\n",
    "    grade = student.get(\"grade\", \"Grade not found\")\n",
    "    \n",
    "    # Safely get subject marks\n",
    "    subject_marks = marks.get(sub)\n",
    "    \n",
    "    if subject_marks is not None:\n",
    "        print(\"Student Name:\", name)\n",
    "        print(\"Subject:\", sub)\n",
    "        print(\"Marks:\", subject_marks)\n",
    "        print(\"Grade:\", grade)\n",
    "    else:\n",
    "        print(f\"Subject '{sub}' not found for {name}.\")\n",
    "else:\n",
    "    print(f\"Student '{name}' not found.\")"
   ]
  },
  {
   "cell_type": "code",
   "execution_count": null,
   "id": "1e94b5e5-1321-49e1-aec3-609fd1c29dc6",
   "metadata": {},
   "outputs": [],
   "source": []
  }
 ],
 "metadata": {
  "kernelspec": {
   "display_name": "Python 3 (ipykernel)",
   "language": "python",
   "name": "python3"
  },
  "language_info": {
   "codemirror_mode": {
    "name": "ipython",
    "version": 3
   },
   "file_extension": ".py",
   "mimetype": "text/x-python",
   "name": "python",
   "nbconvert_exporter": "python",
   "pygments_lexer": "ipython3",
   "version": "3.13.3"
  }
 },
 "nbformat": 4,
 "nbformat_minor": 5
}
