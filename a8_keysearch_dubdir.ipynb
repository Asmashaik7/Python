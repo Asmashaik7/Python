{
 "cells": [
  {
   "cell_type": "code",
   "execution_count": 1,
   "id": "1c955ad7-55b6-46bb-8ff5-bdb8c02518e5",
   "metadata": {},
   "outputs": [],
   "source": [
    "#Python Functions\n",
    "\n",
    "### 1. **Search-Find**\n",
    "#**Problem**: Write a function that takes a dictionary and a Key-name as arguments, returns the key-value pair as dictionary if exists or returns the error message 'Key doesnt not exist as shown below.\n",
    "##function : search(dictioanry,keyName)"
   ]
  },
  {
   "cell_type": "code",
   "execution_count": null,
   "id": "c7129aaf-b3b6-4e1b-9c42-2f9f73d44482",
   "metadata": {},
   "outputs": [],
   "source": [
    "#Case(1) Input >>> search(sample,'b')Add commentMore actions\n",
    "#Output >>> {'b':2}\n",
    "\n",
    "#Case(2) Input >>> search(sample,'i')\n",
    "#Output >>> {'i':'KeyNotFound'}"
   ]
  },
  {
   "cell_type": "code",
   "execution_count": null,
   "id": "a50f5232-c2e2-44b6-9bf5-80323e8ab925",
   "metadata": {},
   "outputs": [],
   "source": [
    "#**Hint**: see if you find a key in the Dictionary and create a dubdictionary based on key and value being searched.Add commentMore actions\n",
    "\n",
    "#**Apply these ->**: function, dict.get()"
   ]
  },
  {
   "cell_type": "code",
   "execution_count": 2,
   "id": "125ad21f-533f-496c-8e0e-645e27896518",
   "metadata": {},
   "outputs": [],
   "source": [
    "dict1 = {\n",
    "    'a':1,\n",
    "    'b':2,\n",
    "    'c':3,\n",
    "    'd':4\n",
    "}"
   ]
  },
  {
   "cell_type": "code",
   "execution_count": 33,
   "id": "1f39f8fc-7446-4461-add5-558ea08b2b41",
   "metadata": {},
   "outputs": [
    {
     "name": "stdin",
     "output_type": "stream",
     "text": [
      "Enter any key from dictionary e\n"
     ]
    },
    {
     "data": {
      "text/plain": [
       "{'e': 'KeyNotFound'}"
      ]
     },
     "execution_count": 33,
     "metadata": {},
     "output_type": "execute_result"
    }
   ],
   "source": [
    "#Case(1) Input >>> search(sample,'b')Add commentMore actions\n",
    "#Output >>> {'b':2}\n",
    "dict1= {\"a\": 10, \"b\": 2, \"c\": 3, \"d\":4}\n",
    "k=input(\"Enter any key from dictionary\")\n",
    "def search(dict3,keyname):\n",
    "    dict2={}# new dict to save kv pairs\n",
    "    for key,value in dict3.items():\n",
    "        if keyname in dict3:\n",
    "            dict2[keyname]=value#assigning new kv pairs into new dictionary\n",
    "        else:\n",
    "            dict2[keyname]=\"KeyNotFound\" #assigning a value \"KeyNotFound\" to that keyname\n",
    "    return(dict2)\n",
    "search(dict1,k)"
   ]
  },
  {
   "cell_type": "code",
   "execution_count": null,
   "id": "48fca5b9-f493-46d6-b337-27d0631ca8bb",
   "metadata": {},
   "outputs": [],
   "source": []
  }
 ],
 "metadata": {
  "kernelspec": {
   "display_name": "Python 3 (ipykernel)",
   "language": "python",
   "name": "python3"
  },
  "language_info": {
   "codemirror_mode": {
    "name": "ipython",
    "version": 3
   },
   "file_extension": ".py",
   "mimetype": "text/x-python",
   "name": "python",
   "nbconvert_exporter": "python",
   "pygments_lexer": "ipython3",
   "version": "3.13.3"
  }
 },
 "nbformat": 4,
 "nbformat_minor": 5
}
