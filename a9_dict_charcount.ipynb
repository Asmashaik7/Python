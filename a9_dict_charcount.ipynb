{
 "cells": [
  {
   "cell_type": "code",
   "execution_count": 1,
   "id": "1e87599c-5d3d-4501-851e-4e2f6adb2b2c",
   "metadata": {},
   "outputs": [],
   "source": [
    "### 2. **word-counter**Add commentMore actions\n",
    "#**Problem**: Write a function that takes a Text and a String, returns a dictionary of the String and count of number of times the string has been repeated in the Text.\n",
    "\n",
    "#sampleText = 'This is a beautiful day'\n",
    "\n",
    "#search_string = 'a'"
   ]
  },
  {
   "cell_type": "code",
   "execution_count": 3,
   "id": "d3b655dd-1b6d-4a7e-9c46-09b948ab78ba",
   "metadata": {},
   "outputs": [],
   "source": [
    "#searchtext(sampleText,search_string)Add commentMore actions\n",
    "#{\n",
    "#    'a':3\n",
    "#}\n"
   ]
  },
  {
   "cell_type": "code",
   "execution_count": 20,
   "id": "5cb59de4-5577-4f22-9afa-0107e2aea857",
   "metadata": {},
   "outputs": [
    {
     "data": {
      "text/plain": [
       "({'y': 4}, 4)"
      ]
     },
     "execution_count": 20,
     "metadata": {},
     "output_type": "execute_result"
    }
   ],
   "source": [
    "dict1={}\n",
    "sampletext='aThis is a beautiful day'\n",
    "search_string = 'a'\n",
    "\n",
    "def searchtext(text,str1):\n",
    "    charcount=0\n",
    "    for each in text:\n",
    "        if each==str1:\n",
    "            charcount+=1\n",
    "    dict1[each]=charcount\n",
    "    return dict1,charcount\n",
    "    \n",
    "searchtext(sampletext,search_string)"
   ]
  },
  {
   "cell_type": "code",
   "execution_count": null,
   "id": "5242c6a8-d15f-4f93-9f14-41bb2329965d",
   "metadata": {},
   "outputs": [],
   "source": []
  }
 ],
 "metadata": {
  "kernelspec": {
   "display_name": "Python 3 (ipykernel)",
   "language": "python",
   "name": "python3"
  },
  "language_info": {
   "codemirror_mode": {
    "name": "ipython",
    "version": 3
   },
   "file_extension": ".py",
   "mimetype": "text/x-python",
   "name": "python",
   "nbconvert_exporter": "python",
   "pygments_lexer": "ipython3",
   "version": "3.13.3"
  }
 },
 "nbformat": 4,
 "nbformat_minor": 5
}
