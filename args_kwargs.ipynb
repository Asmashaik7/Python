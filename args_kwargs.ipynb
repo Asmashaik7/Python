{
 "cells": [
  {
   "cell_type": "code",
   "execution_count": null,
   "id": "3f6b5f92-636f-4b8f-8f4e-e8af709ef5d4",
   "metadata": {},
   "outputs": [],
   "source": [
    "*args-list/tuple -- *kwargs-dictionary"
   ]
  },
  {
   "cell_type": "code",
   "execution_count": null,
   "id": "3a188e31-0993-4cb4-8f7f-506961567659",
   "metadata": {},
   "outputs": [],
   "source": [
    "#wap for sum of 2 nums"
   ]
  },
  {
   "cell_type": "code",
   "execution_count": 1,
   "id": "e2d58040-ec76-4ce4-87bc-f3a5f0c3494d",
   "metadata": {},
   "outputs": [
    {
     "data": {
      "text/plain": [
       "9"
      ]
     },
     "execution_count": 1,
     "metadata": {},
     "output_type": "execute_result"
    }
   ],
   "source": [
    "def summ(*args):\n",
    "    total=0\n",
    "    for num in args:\n",
    "        total=total+num\n",
    "    return total# indentaion right\n",
    "summ(4,5)"
   ]
  },
  {
   "cell_type": "code",
   "execution_count": null,
   "id": "34c1ae9a-c2c9-43f6-9af1-fc43ff835357",
   "metadata": {},
   "outputs": [],
   "source": [
    "#wap for sum of 3 nums"
   ]
  },
  {
   "cell_type": "code",
   "execution_count": 1,
   "id": "01f80b81-ba47-4222-bdfa-bac96035d65e",
   "metadata": {},
   "outputs": [
    {
     "data": {
      "text/plain": [
       "15"
      ]
     },
     "execution_count": 1,
     "metadata": {},
     "output_type": "execute_result"
    }
   ],
   "source": [
    "def summ(*args):\n",
    "    total=0\n",
    "    for num in args:\n",
    "        total=total+num\n",
    "    return total\n",
    "summ(4,5,6)"
   ]
  },
  {
   "cell_type": "code",
   "execution_count": 2,
   "id": "f8daf323-548b-4fcd-b31d-3985af5937ab",
   "metadata": {},
   "outputs": [],
   "source": [
    "#wap for sum of 6 nums or more"
   ]
  },
  {
   "cell_type": "code",
   "execution_count": 4,
   "id": "6fd02a7b-3514-45eb-9a2a-5598e4520cd2",
   "metadata": {},
   "outputs": [
    {
     "data": {
      "text/plain": [
       "334"
      ]
     },
     "execution_count": 4,
     "metadata": {},
     "output_type": "execute_result"
    }
   ],
   "source": [
    "def summ(*args):\n",
    "    total=0\n",
    "    for num in args:\n",
    "        total=total+num\n",
    "    return total\n",
    "summ(4,5,6,34,56,78,45,100,1,2,3)"
   ]
  },
  {
   "cell_type": "code",
   "execution_count": null,
   "id": "87e7d8aa-417c-4694-99ce-e4d28e683b76",
   "metadata": {},
   "outputs": [],
   "source": [
    "#if v give more numbers in args, give *args, it will process data without error"
   ]
  }
 ],
 "metadata": {
  "kernelspec": {
   "display_name": "Python 3 (ipykernel)",
   "language": "python",
   "name": "python3"
  },
  "language_info": {
   "codemirror_mode": {
    "name": "ipython",
    "version": 3
   },
   "file_extension": ".py",
   "mimetype": "text/x-python",
   "name": "python",
   "nbconvert_exporter": "python",
   "pygments_lexer": "ipython3",
   "version": "3.13.3"
  }
 },
 "nbformat": 4,
 "nbformat_minor": 5
}
