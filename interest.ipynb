{
 "cells": [
  {
   "cell_type": "code",
   "execution_count": 1,
   "id": "8b559f37-8a65-4063-806e-c558db4537d8",
   "metadata": {},
   "outputs": [],
   "source": [
    "#write a function to calculate the interest on loan"
   ]
  },
  {
   "cell_type": "code",
   "execution_count": 3,
   "id": "97600758-ceb9-449d-a1c1-be25ff031add",
   "metadata": {},
   "outputs": [
    {
     "name": "stdout",
     "output_type": "stream",
     "text": [
      "hdfc amount: 4000.0\n",
      "sbi amount: 15000.0\n",
      "idbi amount: 24500.0\n",
      "age: 25\n"
     ]
    }
   ],
   "source": [
    "def interest(principle,time,rate):\n",
    "    amount=(principle*time*rate)/100\n",
    "    return amount\n",
    "hdfc=interest(10000,5,8)\n",
    "print('hdfc amount:',hdfc)\n",
    "sbi=interest(50000,5,6)\n",
    "print('sbi amount:',sbi)\n",
    "idbi=interest(70000,5,7)\n",
    "print('idbi amount:',idbi)\n",
    "def age(current_year,birth_year):\n",
    "    age=current_year-birth_year\n",
    "    return age\n",
    "age1=age(birth_year=2000,current_year=2025)\n",
    "print('age:',age1)\n"
   ]
  },
  {
   "cell_type": "code",
   "execution_count": null,
   "id": "4b8db4ee-7d3f-485a-a3bb-44aa25a58913",
   "metadata": {},
   "outputs": [],
   "source": []
  }
 ],
 "metadata": {
  "kernelspec": {
   "display_name": "Python 3 (ipykernel)",
   "language": "python",
   "name": "python3"
  },
  "language_info": {
   "codemirror_mode": {
    "name": "ipython",
    "version": 3
   },
   "file_extension": ".py",
   "mimetype": "text/x-python",
   "name": "python",
   "nbconvert_exporter": "python",
   "pygments_lexer": "ipython3",
   "version": "3.13.3"
  }
 },
 "nbformat": 4,
 "nbformat_minor": 5
}
