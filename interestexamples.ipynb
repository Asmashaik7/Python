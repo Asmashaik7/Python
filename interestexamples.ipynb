{
 "cells": [
  {
   "cell_type": "code",
   "execution_count": 1,
   "id": "8b559f37-8a65-4063-806e-c558db4537d8",
   "metadata": {},
   "outputs": [],
   "source": [
    "#write a function to calculate the interest on loan"
   ]
  },
  {
   "cell_type": "code",
   "execution_count": 6,
   "id": "97600758-ceb9-449d-a1c1-be25ff031add",
   "metadata": {},
   "outputs": [
    {
     "name": "stdout",
     "output_type": "stream",
     "text": [
      "hdfc amount: 4250.0\n",
      "sbi amount: 15000.0\n",
      "idbi amount: 24500.0\n",
      "age: 25\n"
     ]
    }
   ],
   "source": [
    "def interest(principle,time,rate):\n",
    "    amount=(principle*time*rate)/100\n",
    "    return amount\n",
    "hdfc=interest(10000,5,8.5)\n",
    "print('hdfc amount:',hdfc)\n",
    "sbi=interest(50000,5,6)\n",
    "print('sbi amount:',sbi)\n",
    "idbi=interest(70000,5,7)\n",
    "print('idbi amount:',idbi)\n",
    "def age(current_year,birth_year):\n",
    "    age=current_year-birth_year\n",
    "    return age\n",
    "age1=age(birth_year=2000,current_year=2025)\n",
    "print('age:',age1)\n"
   ]
  },
  {
   "cell_type": "code",
   "execution_count": 4,
   "id": "4b8db4ee-7d3f-485a-a3bb-44aa25a58913",
   "metadata": {},
   "outputs": [],
   "source": [
    "#write a function to calculate interest on loan\n",
    "#what if we make changes in the rate of interest"
   ]
  },
  {
   "cell_type": "code",
   "execution_count": 11,
   "id": "4cb23c4d-f5fd-4750-b5c9-eb284a23c72f",
   "metadata": {},
   "outputs": [
    {
     "name": "stdout",
     "output_type": "stream",
     "text": [
      "hdfc amount: 4000.0\n",
      "sbi amount: 20000.0\n",
      "idbi amount: 28000.0\n"
     ]
    }
   ],
   "source": [
    "def interest1(principle,time):\n",
    "    amount=(principle*time*8)/100\n",
    "    return amount\n",
    "hdfc=interest1(10000,5)\n",
    "print('hdfc amount:',hdfc)\n",
    "sbi=interest1(50000,5)\n",
    "print('sbi amount:',sbi)\n",
    "idbi=interest1(70000,5)\n",
    "print('idbi amount:',idbi)\n"
   ]
  },
  {
   "cell_type": "code",
   "execution_count": 12,
   "id": "8fc2d998-32b5-410a-a660-a47bd70fcc9f",
   "metadata": {},
   "outputs": [
    {
     "name": "stdout",
     "output_type": "stream",
     "text": [
      "hdfc amount: 4000.0\n",
      "sbi amount: 20000.0\n",
      "idbi amount: 28000.0\n"
     ]
    }
   ],
   "source": [
    "def interest1(principle,time,rate=8):\n",
    "    amount=(principle*time*rate)/100\n",
    "    return amount\n",
    "hdfc=interest1(10000,5)\n",
    "print('hdfc amount:',hdfc)\n",
    "sbi=interest1(50000,5)\n",
    "print('sbi amount:',sbi)\n",
    "\n",
    "idbi=interest1(70000,5)\n",
    "print('idbi amount:',idbi)"
   ]
  },
  {
   "cell_type": "code",
   "execution_count": 14,
   "id": "8fd8afa4-6b38-4d09-b79a-6582d5fd864a",
   "metadata": {},
   "outputs": [
    {
     "name": "stdout",
     "output_type": "stream",
     "text": [
      "hdfc amount: 4000.0\n",
      "sbi amount: 25000.0\n",
      "idbi amount: 28000.0\n"
     ]
    }
   ],
   "source": [
    "def interest1(principle,time,rate=8):\n",
    "    amount=(principle*time*rate)/100\n",
    "    return amount\n",
    "hdfc=interest1(10000,5)\n",
    "print('hdfc amount:',hdfc)\n",
    "sbi=interest1(50000,5,10)# new sbi rate-10%\n",
    "print('sbi amount:',sbi)\n",
    "\n",
    "idbi=interest1(70000,5)\n",
    "print('idbi amount:',idbi)"
   ]
  },
  {
   "cell_type": "code",
   "execution_count": 17,
   "id": "71f3c866-794e-4036-97e4-173a6706d7f5",
   "metadata": {},
   "outputs": [
    {
     "name": "stdout",
     "output_type": "stream",
     "text": [
      "sbi amount: 25000.0\n"
     ]
    }
   ],
   "source": [
    "def interest1(principle,time,rate=10):\n",
    "    amount=(principle*time*rate)/100\n",
    "    return amount\n",
    "hdfc=interest1(10000,5)\n",
    "hdfc\n",
    "sbi=interest1(time=5,principle=50000)# here we can define values in args even in swapped positions \n",
    "print('sbi amount:',sbi)"
   ]
  },
  {
   "cell_type": "code",
   "execution_count": null,
   "id": "417e4391-87af-45f1-a8e5-ece6b7dc33c9",
   "metadata": {},
   "outputs": [],
   "source": []
  }
 ],
 "metadata": {
  "kernelspec": {
   "display_name": "Python 3 (ipykernel)",
   "language": "python",
   "name": "python3"
  },
  "language_info": {
   "codemirror_mode": {
    "name": "ipython",
    "version": 3
   },
   "file_extension": ".py",
   "mimetype": "text/x-python",
   "name": "python",
   "nbconvert_exporter": "python",
   "pygments_lexer": "ipython3",
   "version": "3.13.3"
  }
 },
 "nbformat": 4,
 "nbformat_minor": 5
}
