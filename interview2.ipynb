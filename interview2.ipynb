{
 "cells": [
  {
   "cell_type": "code",
   "execution_count": 7,
   "id": "118628ac-bf00-4461-a60a-c992d5a1be34",
   "metadata": {},
   "outputs": [
    {
     "data": {
      "text/plain": [
       "{'name': 'DANISH',\n",
       " 'gender': 'M',\n",
       " 'eduaction': 'Mca',\n",
       " 'contact': 99894629,\n",
       " 'age': 12}"
      ]
     },
     "execution_count": 7,
     "metadata": {},
     "output_type": "execute_result"
    }
   ],
   "source": [
    "def interview2(name,yob,city,edu,gender,contact):\n",
    "    details={}\n",
    "    current_year = 2025\n",
    "\n",
    "    #transforamtion\n",
    "    details['name']=name.upper()\n",
    "    details['gender']=gender[0].upper()\n",
    "    details['eduaction']=edu.capitalize()\n",
    "    details['contact']=+91+int(contact)\n",
    "    details['age']=current_year-int(yob)        \n",
    "    return details\n",
    "    \n",
    "interview2('sri',2010,'wgl','bsc','male',1234567)\n",
    "interview2('asma',2011,'kgm','bsc','female',456738)\n",
    "interview2('manha',2012,'bdcr kgm','mba','female',4534538)\n",
    "interview2('danish',2013,'hyd','mca','male',99894538)\n",
    "\n"
   ]
  },
  {
   "cell_type": "code",
   "execution_count": 8,
   "id": "59f11aff-c498-4c1e-850d-93d3363b2cd2",
   "metadata": {},
   "outputs": [
    {
     "data": {
      "text/plain": [
       "{'name': 'DANISH',\n",
       " 'gender': 'M',\n",
       " 'eduaction': 'Mca',\n",
       " 'contact': 99894629,\n",
       " 'age': 12}"
      ]
     },
     "execution_count": 8,
     "metadata": {},
     "output_type": "execute_result"
    }
   ],
   "source": [
    "def interview2(name,yob,city,edu,gender,contact):\n",
    "    details=dict()\n",
    "    current_year = 2025\n",
    "\n",
    "    #transforamtion\n",
    "    details['name']=name.upper()\n",
    "    details['gender']=gender[0].upper()\n",
    "    details['eduaction']=edu.capitalize()\n",
    "    details['contact']=+91+int(contact)\n",
    "    details['age']=current_year-int(yob)        \n",
    "    return details\n",
    "    \n",
    "interview2('sri',2010,'wgl','bsc','male',1234567)\n",
    "interview2('asma',2011,'kgm','bsc','female',456738)\n",
    "interview2('manha',2012,'bdcr kgm','mba','female',4534538)\n",
    "interview2('danish',2013,'hyd','mca','male',99894538)"
   ]
  },
  {
   "cell_type": "code",
   "execution_count": 9,
   "id": "9a0ec84e-771a-4422-8212-5ae87373a8de",
   "metadata": {},
   "outputs": [
    {
     "name": "stdout",
     "output_type": "stream",
     "text": [
      "details are : {'name': 'SRI', 'gender': 'M', 'eduaction': 'Bsc', 'contact': 1234658, 'age': 15}\n"
     ]
    }
   ],
   "source": [
    "\n",
    "def interview2(name,yob,city,edu,gender,contact):\n",
    "    details={}\n",
    "    current_year = 2025\n",
    "    #transforamtion\n",
    "    details['name']=name.upper()\n",
    "    details['gender']=gender[0].upper()\n",
    "    details['eduaction']=edu.capitalize()\n",
    "    details['contact']=+91+int(contact)\n",
    "    details['age']=current_year-int(yob)\n",
    "    return details  \n",
    "details=interview2('sri',2010,'wgl','bsc','male',1234567)\n",
    "print(\"details are :\",details)\n"
   ]
  },
  {
   "cell_type": "code",
   "execution_count": null,
   "id": "d5c11f98-d224-4c34-8834-0676ba1e1e90",
   "metadata": {},
   "outputs": [],
   "source": []
  }
 ],
 "metadata": {
  "kernelspec": {
   "display_name": "Python 3 (ipykernel)",
   "language": "python",
   "name": "python3"
  },
  "language_info": {
   "codemirror_mode": {
    "name": "ipython",
    "version": 3
   },
   "file_extension": ".py",
   "mimetype": "text/x-python",
   "name": "python",
   "nbconvert_exporter": "python",
   "pygments_lexer": "ipython3",
   "version": "3.13.3"
  }
 },
 "nbformat": 4,
 "nbformat_minor": 5
}
