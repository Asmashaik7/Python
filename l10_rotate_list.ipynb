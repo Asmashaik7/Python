{
 "cells": [
  {
   "cell_type": "code",
   "execution_count": 1,
   "id": "8c470e41-c841-48e7-acd0-282605620593",
   "metadata": {},
   "outputs": [],
   "source": [
    "#10. Rotate a List\n",
    "#Problem: Write a function that rotates a list to the left by n positions. \n",
    "#For example, for [1, 2, 3, 4, 5] and n=2, the result should be [3, 4, 5, 1, 2]. Handle cases where n is larger than the list length.\n",
    "\n",
    "#Hint: Use slicing or modulo arithmetic to handle rotations efficiently.\n",
    "\n",
    "#Apply these ->: Slicing, modulo operator, list manipulation."
   ]
  },
  {
   "cell_type": "code",
   "execution_count": 9,
   "id": "088af27f-078f-468b-8c16-8bd597c3be96",
   "metadata": {},
   "outputs": [
    {
     "name": "stdout",
     "output_type": "stream",
     "text": [
      "length: 5\n",
      "x: 1\n"
     ]
    }
   ],
   "source": [
    "list1=[1, 2, 3, 4, 5]\n",
    "length=len(list1)\n",
    "print(\"length:\",length)\n",
    "n=2\n",
    "x=length%2\n",
    "print(\"x:\",x)  "
   ]
  },
  {
   "cell_type": "code",
   "execution_count": 37,
   "id": "0c057d70-6f2a-4fb8-bbfe-a251bf731076",
   "metadata": {},
   "outputs": [
    {
     "name": "stdout",
     "output_type": "stream",
     "text": [
      "new n: 2\n",
      "[3, 4, 5, 1, 2]\n"
     ]
    }
   ],
   "source": [
    "def rotate(list2, n):\n",
    "    n = n % len(list2)# handle cases where n > len(list2)\n",
    "    print(\"new n:\",n) \n",
    "    lst=list2[n:] + list2[:n] #adding sliced lists \n",
    "    return lst\n",
    "\n",
    "list1 = [1, 2, 3, 4, 5]\n",
    "rotated_list = rotate(list1, 2)\n",
    "print(rotated_list)"
   ]
  },
  {
   "cell_type": "code",
   "execution_count": 18,
   "id": "5fa6590d-3ad1-469c-9049-5edf505c180e",
   "metadata": {},
   "outputs": [
    {
     "data": {
      "text/plain": [
       "[3, 4, 5]"
      ]
     },
     "execution_count": 18,
     "metadata": {},
     "output_type": "execute_result"
    }
   ],
   "source": [
    "list1[n:] #starting from index n, here index n=2"
   ]
  },
  {
   "cell_type": "code",
   "execution_count": 19,
   "id": "cb793dc0-854b-4c9b-a8de-f961acb17466",
   "metadata": {},
   "outputs": [
    {
     "data": {
      "text/plain": [
       "[1, 2]"
      ]
     },
     "execution_count": 19,
     "metadata": {},
     "output_type": "execute_result"
    }
   ],
   "source": [
    "list1[:n] #ending till index 2, excludes index2"
   ]
  },
  {
   "cell_type": "code",
   "execution_count": null,
   "id": "b31bf25e-bf25-4e8d-9d30-80cdcb1b0833",
   "metadata": {},
   "outputs": [],
   "source": []
  }
 ],
 "metadata": {
  "kernelspec": {
   "display_name": "Python 3 (ipykernel)",
   "language": "python",
   "name": "python3"
  },
  "language_info": {
   "codemirror_mode": {
    "name": "ipython",
    "version": 3
   },
   "file_extension": ".py",
   "mimetype": "text/x-python",
   "name": "python",
   "nbconvert_exporter": "python",
   "pygments_lexer": "ipython3",
   "version": "3.13.3"
  }
 },
 "nbformat": 4,
 "nbformat_minor": 5
}
