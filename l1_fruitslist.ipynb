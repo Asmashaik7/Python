{
 "cells": [
  {
   "cell_type": "code",
   "execution_count": 1,
   "id": "13410e7b-148d-4457-86e2-2b0d9016e584",
   "metadata": {},
   "outputs": [],
   "source": [
    "#1. **Create and Modify a List**More actions\n",
    "#**Problem**: Write a Python program to create a list of 5 favorite fruits, then:\n",
    "#- Add a new fruit to the end of the list.\n",
    "#- Insert a fruit at the second position.\n",
    "#- Remove one fruit by its value.\n",
    "#- Print the final list.\n",
    "\n",
    "#**Apply these ->** : List creation, `append()`, `insert()`, `remove()`, basic list operations.\"\"\""
   ]
  },
  {
   "cell_type": "code",
   "execution_count": 18,
   "id": "ef1133cb-3b4c-42bd-8afe-ae1e9a6463a6",
   "metadata": {},
   "outputs": [],
   "source": [
    "fruits=['grapes','apple','mango','cherry','banana']"
   ]
  },
  {
   "cell_type": "code",
   "execution_count": 19,
   "id": "cca3ab22-e7a1-46fe-881f-66a7d62b3b30",
   "metadata": {},
   "outputs": [],
   "source": [
    "fruits.append('strawberry')"
   ]
  },
  {
   "cell_type": "code",
   "execution_count": 20,
   "id": "81f61965-fc83-4d26-a4eb-b469718b8ebd",
   "metadata": {},
   "outputs": [
    {
     "data": {
      "text/plain": [
       "['grapes', 'apple', 'mango', 'cherry', 'banana', 'strawberry']"
      ]
     },
     "execution_count": 20,
     "metadata": {},
     "output_type": "execute_result"
    }
   ],
   "source": [
    "fruits"
   ]
  },
  {
   "cell_type": "code",
   "execution_count": 21,
   "id": "f6c36a0c-27d6-4214-a39b-dff3f7b8ff7c",
   "metadata": {},
   "outputs": [],
   "source": [
    "fruits[1]='blueberry' #inserting a fruit in second position"
   ]
  },
  {
   "cell_type": "code",
   "execution_count": 22,
   "id": "7169a22f-833f-40f2-bbac-c4dbed72826f",
   "metadata": {},
   "outputs": [
    {
     "data": {
      "text/plain": [
       "['grapes', 'blueberry', 'mango', 'cherry', 'banana', 'strawberry']"
      ]
     },
     "execution_count": 22,
     "metadata": {},
     "output_type": "execute_result"
    }
   ],
   "source": [
    "fruits"
   ]
  },
  {
   "cell_type": "code",
   "execution_count": 23,
   "id": "d6719f2c-b262-4ad7-b320-af46850a58f7",
   "metadata": {},
   "outputs": [],
   "source": [
    "fruits.remove(fruits[4]) #I want to remove banana which is in index[4]"
   ]
  },
  {
   "cell_type": "code",
   "execution_count": 25,
   "id": "e7552a90-f8c0-4a89-a1b6-39272e30e358",
   "metadata": {},
   "outputs": [
    {
     "data": {
      "text/plain": [
       "['grapes', 'blueberry', 'mango', 'cherry', 'strawberry']"
      ]
     },
     "execution_count": 25,
     "metadata": {},
     "output_type": "execute_result"
    }
   ],
   "source": [
    "fruits #final list"
   ]
  },
  {
   "cell_type": "code",
   "execution_count": 26,
   "id": "902ad79c-50f0-4e96-9f46-42f5502fe047",
   "metadata": {},
   "outputs": [],
   "source": [
    "fruits.insert(1,'pomegranate')#inserting a fruit in second position using insert()"
   ]
  },
  {
   "cell_type": "code",
   "execution_count": 27,
   "id": "d06e5b3b-48dd-44f0-95ee-9f31cbfff79e",
   "metadata": {},
   "outputs": [
    {
     "data": {
      "text/plain": [
       "['grapes', 'pomegranate', 'blueberry', 'mango', 'cherry', 'strawberry']"
      ]
     },
     "execution_count": 27,
     "metadata": {},
     "output_type": "execute_result"
    }
   ],
   "source": [
    "fruits"
   ]
  },
  {
   "cell_type": "code",
   "execution_count": null,
   "id": "4d771135-875e-4571-bf11-c97547d850c8",
   "metadata": {},
   "outputs": [],
   "source": []
  }
 ],
 "metadata": {
  "kernelspec": {
   "display_name": "Python 3 (ipykernel)",
   "language": "python",
   "name": "python3"
  },
  "language_info": {
   "codemirror_mode": {
    "name": "ipython",
    "version": 3
   },
   "file_extension": ".py",
   "mimetype": "text/x-python",
   "name": "python",
   "nbconvert_exporter": "python",
   "pygments_lexer": "ipython3",
   "version": "3.13.3"
  }
 },
 "nbformat": 4,
 "nbformat_minor": 5
}
