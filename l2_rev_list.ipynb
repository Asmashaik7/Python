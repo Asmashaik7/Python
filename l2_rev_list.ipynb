{
 "cells": [
  {
   "cell_type": "code",
   "execution_count": 13,
   "id": "ddb8a985-5091-4960-af80-1191d2a47c0d",
   "metadata": {},
   "outputs": [],
   "source": [
    "### 2. **Reverse a List**More actions\n",
    "#**Problem**: Write a Python function that takes a list of numbers as input and returns the list in reverse order without using the built-in `reverse()` method or slicing (`[::-1]`).\n",
    "\n",
    "#**Hint**: Use a loop to create a new list by iterating from the end to the start.\n",
    "\n",
    "#**Apply these ->**: Loops, indexing, creating a new list."
   ]
  },
  {
   "cell_type": "code",
   "execution_count": 14,
   "id": "5df818f7-1acd-4037-9570-206197e7a109",
   "metadata": {},
   "outputs": [
    {
     "name": "stdout",
     "output_type": "stream",
     "text": [
      "Original List: [1, 2, 3, 4, 5, 6, 7, 8, 9, 10]\n",
      "Reversed List: [10, 9, 8, 7, 6, 5, 4, 3, 2, 1]\n"
     ]
    }
   ],
   "source": [
    "#using for loops\n",
    "def revfun_list(list2):\n",
    "    reversed_list = []\n",
    "    length = len(list2) #lenght of list is lenght\n",
    "    \n",
    "    for i in range(length - 1, -1, -1):  # this loops from end to first\n",
    "        reversed_list.append(list2[i])\n",
    "    \n",
    "    return reversed_list\n",
    "\n",
    "list1 = [1, 2, 3, 4, 5,6,7,8,9,10]\n",
    "reverse_list = revfun_list(list1)\n",
    "\n",
    "print(\"Original List:\", list1)\n",
    "print(\"Reversed List:\",reverse_list)"
   ]
  },
  {
   "cell_type": "code",
   "execution_count": 15,
   "id": "e3f974f4-e881-4879-94c0-418438867cec",
   "metadata": {},
   "outputs": [
    {
     "name": "stdout",
     "output_type": "stream",
     "text": [
      "original_list [1, 2, 3, 4, 5, 6, 7, 8, 9, 10]\n",
      "Reversed List: [10, 9, 8, 7, 6, 5, 4, 3, 2, 1]\n"
     ]
    }
   ],
   "source": [
    "#using pop() and while\n",
    "def revfun(lst):\n",
    "    r_list = []\n",
    "    while lst:          # runs until lst is empty\n",
    "        r_list.append(lst.pop()) #append, pop element one by one to r_list in while loop\n",
    "    return r_list\n",
    "    \n",
    "rev=revfun(lst1)\n",
    "lst1 = [1,2,3,4,5,6,7,8,9,10]\n",
    "\n",
    "print(\"original_list\",lst1)\n",
    "print(\"Reversed List:\",rev)"
   ]
  },
  {
   "cell_type": "code",
   "execution_count": null,
   "id": "caeb965c-5511-4692-a8b8-0d639c8dafb0",
   "metadata": {},
   "outputs": [],
   "source": []
  }
 ],
 "metadata": {
  "kernelspec": {
   "display_name": "Python 3 (ipykernel)",
   "language": "python",
   "name": "python3"
  },
  "language_info": {
   "codemirror_mode": {
    "name": "ipython",
    "version": 3
   },
   "file_extension": ".py",
   "mimetype": "text/x-python",
   "name": "python",
   "nbconvert_exporter": "python",
   "pygments_lexer": "ipython3",
   "version": "3.13.3"
  }
 },
 "nbformat": 4,
 "nbformat_minor": 5
}
