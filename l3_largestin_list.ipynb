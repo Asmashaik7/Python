{
 "cells": [
  {
   "cell_type": "code",
   "execution_count": 1,
   "id": "38caccf7-9106-404d-9eba-0aad42f3229b",
   "metadata": {},
   "outputs": [],
   "source": [
    "### 3. **Find the Largest Number**More actions\n",
    "#**Problem**: Write a program that takes a list of numbers (e.g., `[4, 2, 9, 7, 5]`) and finds the largest number in the list without using the `max()` function.\n",
    "\n",
    "#**Hint**: Initialize a variable with the first element and compare it with each element in the list.\n",
    "\n",
    "#**Apply these ->**: Iteration, comparison operators."
   ]
  },
  {
   "cell_type": "code",
   "execution_count": 17,
   "id": "277c4266-a059-48a0-bbbf-7a8f2d561ea8",
   "metadata": {},
   "outputs": [
    {
     "name": "stdout",
     "output_type": "stream",
     "text": [
      "largest number is: 200\n"
     ]
    }
   ],
   "source": [
    "list1=[4, 2,100, 9, 7, 5,30,200]\n",
    "largest=list1[0]#assigned first index to largest\n",
    "\n",
    "for each in list1: #in a loop comparision takes place\n",
    "    if largest<each:\n",
    "        largest=each\n",
    "    \n",
    "print(\"largest number is:\",largest)       "
   ]
  },
  {
   "cell_type": "code",
   "execution_count": null,
   "id": "9236c530-e110-4a95-bbe6-ab97c8ea1f85",
   "metadata": {},
   "outputs": [],
   "source": []
  }
 ],
 "metadata": {
  "kernelspec": {
   "display_name": "Python 3 (ipykernel)",
   "language": "python",
   "name": "python3"
  },
  "language_info": {
   "codemirror_mode": {
    "name": "ipython",
    "version": 3
   },
   "file_extension": ".py",
   "mimetype": "text/x-python",
   "name": "python",
   "nbconvert_exporter": "python",
   "pygments_lexer": "ipython3",
   "version": "3.13.3"
  }
 },
 "nbformat": 4,
 "nbformat_minor": 5
}
