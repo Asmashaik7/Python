{
 "cells": [
  {
   "cell_type": "code",
   "execution_count": 1,
   "id": "a8ca4ac3-6581-4395-9b79-7197d8932d0f",
   "metadata": {},
   "outputs": [],
   "source": [
    "### 4. **Count Occurrences**More actions\n",
    "#**Problem**: Write a function that takes a list and an element as input and returns how many times that element appears in the list.\n",
    "# For example, for `[\"apple\", \"banana\", \"apple\", \"orange\"]` and `\"apple\"`, return `2`.\n",
    "\n",
    "#**Apply these ->**: Loops, conditionals, counting elements."
   ]
  },
  {
   "cell_type": "code",
   "execution_count": 17,
   "id": "fed368d1-f5d2-4cc1-8b10-e0b15bc3f898",
   "metadata": {},
   "outputs": [
    {
     "name": "stdout",
     "output_type": "stream",
     "text": [
      "Element apple is  2  number of times in a list\n"
     ]
    },
    {
     "data": {
      "text/plain": [
       "2"
      ]
     },
     "execution_count": 17,
     "metadata": {},
     "output_type": "execute_result"
    }
   ],
   "source": [
    "fruits=[\"apple\", \"banana\", \"apple\", \"orange\",\"asma\",\"shaik\"]\n",
    "def fruitsfun(list1,ele):\n",
    "    count=0\n",
    "    for each in list1:\n",
    "        if ele not in list1:\n",
    "            print(\"Element not in list\")\n",
    "        else:\n",
    "            if ele==each:\n",
    "                count+=1\n",
    "    print(\"Element\",ele,\"is \",count,\" number of times in a list\")\n",
    "    return(count)\n",
    "\n",
    "fruitsfun(fruits,\"apple\")\n",
    "        \n"
   ]
  },
  {
   "cell_type": "code",
   "execution_count": null,
   "id": "b2674b3f-6d9e-423b-9c02-adc5eaad6733",
   "metadata": {},
   "outputs": [],
   "source": []
  },
  {
   "cell_type": "code",
   "execution_count": null,
   "id": "a9ba1e5e-6eb6-41da-9f80-3ee724144e3d",
   "metadata": {},
   "outputs": [],
   "source": []
  }
 ],
 "metadata": {
  "kernelspec": {
   "display_name": "Python 3 (ipykernel)",
   "language": "python",
   "name": "python3"
  },
  "language_info": {
   "codemirror_mode": {
    "name": "ipython",
    "version": 3
   },
   "file_extension": ".py",
   "mimetype": "text/x-python",
   "name": "python",
   "nbconvert_exporter": "python",
   "pygments_lexer": "ipython3",
   "version": "3.13.3"
  }
 },
 "nbformat": 4,
 "nbformat_minor": 5
}
