{
 "cells": [
  {
   "cell_type": "code",
   "execution_count": 1,
   "id": "d25ccad1-fa50-4496-a377-394c3cf21f3f",
   "metadata": {},
   "outputs": [],
   "source": [
    "#5. Remove Duplicates\n",
    "#Problem: Write a program to remove duplicates from a list while preserving the order of the first occurrence of each element.\n",
    "#For example, [1, 3, 3, 4, 2, 1] should become [1, 3, 4, 2].\n",
    "\n",
    "#Hint: Use a loop and a new list, or consider using a set carefully to maintain order.\n",
    "\n",
    "#Apply these ->: Loops, sets (optional), list manipulation."
   ]
  },
  {
   "cell_type": "code",
   "execution_count": 7,
   "id": "3c28b44a-8ce4-46d0-971f-3a989c012114",
   "metadata": {},
   "outputs": [],
   "source": [
    "list1=[1, 3, 3, 4, 2, 1]"
   ]
  },
  {
   "cell_type": "code",
   "execution_count": 11,
   "id": "2737905a-0099-456e-8e15-92673892c6c4",
   "metadata": {},
   "outputs": [
    {
     "data": {
      "text/plain": [
       "[1, 3, 3, 4, 2, 1]"
      ]
     },
     "execution_count": 11,
     "metadata": {},
     "output_type": "execute_result"
    }
   ],
   "source": [
    "list2=list1.copy()\n",
    "list2"
   ]
  },
  {
   "cell_type": "code",
   "execution_count": 12,
   "id": "a530a4f0-fe21-4684-bbc5-4d32479b0c19",
   "metadata": {},
   "outputs": [
    {
     "data": {
      "text/plain": [
       "{1, 2, 3, 4}"
      ]
     },
     "execution_count": 12,
     "metadata": {},
     "output_type": "execute_result"
    }
   ],
   "source": [
    "set(list1).intersection(set(list2))#set is an unordered data structure"
   ]
  },
  {
   "cell_type": "code",
   "execution_count": 18,
   "id": "6192c4de-033f-453e-a1c3-2a63dceb6eab",
   "metadata": {},
   "outputs": [],
   "source": [
    "list1=[1, 3, 3, 4, 2, 1]#list into set\n",
    "set1=set(list1)"
   ]
  },
  {
   "cell_type": "code",
   "execution_count": 19,
   "id": "dd135dac-0d55-436f-8872-e14e5cd0ea2c",
   "metadata": {},
   "outputs": [
    {
     "data": {
      "text/plain": [
       "{1, 2, 3, 4}"
      ]
     },
     "execution_count": 19,
     "metadata": {},
     "output_type": "execute_result"
    }
   ],
   "source": [
    "set1"
   ]
  },
  {
   "cell_type": "code",
   "execution_count": 20,
   "id": "a94312d8-d836-4b9e-b353-13cff677038f",
   "metadata": {},
   "outputs": [
    {
     "data": {
      "text/plain": [
       "{1, 2, 3, 4}"
      ]
     },
     "execution_count": 20,
     "metadata": {},
     "output_type": "execute_result"
    }
   ],
   "source": [
    "set(list1).union(set(list2))"
   ]
  },
  {
   "cell_type": "code",
   "execution_count": 22,
   "id": "85e41dfe-2a76-4ab7-bd7f-aac8aa6255e4",
   "metadata": {},
   "outputs": [],
   "source": [
    "#By calling dict.fromkeys(lst), we can remove duplicates and maintain the order, which is then converted into a set."
   ]
  },
  {
   "cell_type": "code",
   "execution_count": 28,
   "id": "dd4719ea-6263-47b8-8a12-efee0c399208",
   "metadata": {},
   "outputs": [],
   "source": [
    "list10=[1, 3, 3, 4, 2,5,2,9,4, 1]"
   ]
  },
  {
   "cell_type": "code",
   "execution_count": 32,
   "id": "0218e513-1db0-4566-a233-a2d7371fe6f6",
   "metadata": {},
   "outputs": [],
   "source": [
    "set=(dict.fromkeys(list10))"
   ]
  },
  {
   "cell_type": "code",
   "execution_count": 33,
   "id": "79055023-1332-484a-94ca-55b08f72266c",
   "metadata": {},
   "outputs": [
    {
     "data": {
      "text/plain": [
       "{1: None, 3: None, 4: None, 2: None, 5: None, 9: None}"
      ]
     },
     "execution_count": 33,
     "metadata": {},
     "output_type": "execute_result"
    }
   ],
   "source": [
    "set"
   ]
  },
  {
   "cell_type": "code",
   "execution_count": 35,
   "id": "3db4e465-a70f-4f3d-9c8b-bbd2dbcb3b94",
   "metadata": {},
   "outputs": [
    {
     "data": {
      "text/plain": [
       "dict"
      ]
     },
     "execution_count": 35,
     "metadata": {},
     "output_type": "execute_result"
    }
   ],
   "source": [
    "type(dict.fromkeys(list10))"
   ]
  },
  {
   "cell_type": "code",
   "execution_count": 56,
   "id": "57ead1c5-701a-4088-830a-9166604c62be",
   "metadata": {},
   "outputs": [
    {
     "name": "stdout",
     "output_type": "stream",
     "text": [
      "uni_dict <class 'dict'>\n",
      "list10 <class 'list'>\n",
      "unique_list: {1: None, 3: None, 4: None, 2: None, 5: None, 9: None}\n"
     ]
    }
   ],
   "source": [
    "def orderedset(lst):\n",
    "    uni_dict=(dict.fromkeys(lst))#we can remove duplicates and maintain the order, which is then converted into a set.\n",
    "    print(\"uni_dict\",type(uni_dict)) \n",
    "    return uni_dict #dict, we need list here, thats y getting outout as dict\n",
    "  \n",
    "list10=[1, 3, 3, 4, 2,5,2,9,4, 1]\n",
    "uni_lst=orderedset(list10)\n",
    "\n",
    "print(\"list10\",type(list10))\n",
    "print(\"unique_list:\",uni_lst)\n"
   ]
  },
  {
   "cell_type": "code",
   "execution_count": 62,
   "id": "d3df5547-efe4-49ee-9de7-af6381404fa5",
   "metadata": {},
   "outputs": [
    {
     "name": "stdout",
     "output_type": "stream",
     "text": [
      "uni_dict <class 'dict'>\n",
      "list10 <class 'list'>\n",
      "unique_list: [1, 3, 4, 2, 5, 9]\n"
     ]
    }
   ],
   "source": [
    "# using dict.fromkeys(list) method\n",
    "def orderedset(lst):\n",
    "    \n",
    "    uni_dict=(dict.fromkeys(lst)) #we can remove duplicates and maintain the order, which is then converted into a set.\n",
    "    print(\"uni_dict\",type(uni_dict)) \n",
    "    return list(uni_dict)  #simply uni_dict is returning dictionary , we need list here, thats y list(uni_dict)\n",
    "    \n",
    "list10=[1, 3, 3, 4, 2,5,2,9,4, 1]\n",
    "uni_lst=orderedset(list10)\n",
    "\n",
    "print(\"list10\",type(list10))\n",
    "print(\"unique_list:\",uni_lst)\n"
   ]
  },
  {
   "cell_type": "code",
   "execution_count": 65,
   "id": "0e91aec1-f9b1-4e95-a0f5-7bf19678059a",
   "metadata": {},
   "outputs": [
    {
     "name": "stdout",
     "output_type": "stream",
     "text": [
      "list8_unique: [1, 3, 4, 2, 5, 9]\n"
     ]
    }
   ],
   "source": [
    "# Use a loop and a new list\n",
    "list7=[1, 3, 3, 4, 2,5,2,9,4, 1]\n",
    "list8=[]\n",
    "for each in list7:\n",
    "    if each not in list8:\n",
    "        list8.append(each)\n",
    "print(\"list8_unique:\",list8)"
   ]
  },
  {
   "cell_type": "code",
   "execution_count": null,
   "id": "5eb7c749-70b0-4b08-b3ce-9d08b31ae98c",
   "metadata": {},
   "outputs": [],
   "source": []
  }
 ],
 "metadata": {
  "kernelspec": {
   "display_name": "Python 3 (ipykernel)",
   "language": "python",
   "name": "python3"
  },
  "language_info": {
   "codemirror_mode": {
    "name": "ipython",
    "version": 3
   },
   "file_extension": ".py",
   "mimetype": "text/x-python",
   "name": "python",
   "nbconvert_exporter": "python",
   "pygments_lexer": "ipython3",
   "version": "3.13.3"
  }
 },
 "nbformat": 4,
 "nbformat_minor": 5
}
