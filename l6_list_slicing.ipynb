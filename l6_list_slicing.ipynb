{
 "cells": [
  {
   "cell_type": "code",
   "execution_count": 1,
   "id": "3cc6d7c5-f09f-402b-997b-3f97f72c9652",
   "metadata": {},
   "outputs": [],
   "source": [
    "#6. List Slicing Practice\n",
    "#Problem: Given a list of 10 numbers, write a program to:\n",
    "\n",
    "#Extract the first 3 elements.\n",
    "#Extract the last 4 elements.\n",
    "#Extract every second element.\n",
    "#Print all three results.\n",
    "#Example Input: [1, 2, 3, 4, 5, 6, 7, 8, 9, 10]\n",
    "\n",
    "#Apply these ->: List slicing, indexing."
   ]
  },
  {
   "cell_type": "code",
   "execution_count": 13,
   "id": "f107347f-aa67-4b22-83c7-f9fd11a6b7e0",
   "metadata": {},
   "outputs": [
    {
     "name": "stdout",
     "output_type": "stream",
     "text": [
      "[1, 2, 3]\n"
     ]
    }
   ],
   "source": [
    "a=[1, 2, 3, 4, 5, 6, 7, 8, 9, 10]  #Extract the first 3 elements.\n",
    "a\n",
    "b = a[:3]\n",
    "print(b)"
   ]
  },
  {
   "cell_type": "code",
   "execution_count": 16,
   "id": "acd53fc6-a5d7-4004-b791-161d8e195572",
   "metadata": {},
   "outputs": [
    {
     "name": "stdout",
     "output_type": "stream",
     "text": [
      "[7, 8, 9, 10]\n"
     ]
    }
   ],
   "source": [
    "#Extract the last 4 elements.\n",
    "b=a[6:]\n",
    "print(b)"
   ]
  },
  {
   "cell_type": "code",
   "execution_count": 19,
   "id": "5cc79d53-2524-451a-b597-f27775fd5760",
   "metadata": {},
   "outputs": [
    {
     "name": "stdout",
     "output_type": "stream",
     "text": [
      "[1, 3, 5, 7, 9]\n"
     ]
    }
   ],
   "source": [
    "#Extract every second element.\n",
    "b=a[::2] #start from the beginning it gives.\n",
    "print(b)"
   ]
  },
  {
   "cell_type": "code",
   "execution_count": 21,
   "id": "7f2cf770-f0c6-4fb8-b31b-8930437469e4",
   "metadata": {},
   "outputs": [
    {
     "name": "stdout",
     "output_type": "stream",
     "text": [
      "the first 3 elements:  [1, 2, 3]\n",
      "the last 4 elements:  [7, 8, 9, 10]\n",
      "every second element:  [1, 3, 5, 7, 9]\n"
     ]
    }
   ],
   "source": [
    "#Print all three results.\n",
    "a=[1, 2, 3, 4, 5, 6, 7, 8, 9, 10] \n",
    "b = a[:3]\n",
    "print(\"the first 3 elements: \",b)\n",
    "c=a[6:]\n",
    "print(\"the last 4 elements: \",c)\n",
    "d=a[::2]\n",
    "print(\"every second element: \",d)"
   ]
  },
  {
   "cell_type": "code",
   "execution_count": null,
   "id": "226748c1-9c28-4293-ae1f-3a64bb25a0d5",
   "metadata": {},
   "outputs": [],
   "source": []
  }
 ],
 "metadata": {
  "kernelspec": {
   "display_name": "Python 3 (ipykernel)",
   "language": "python",
   "name": "python3"
  },
  "language_info": {
   "codemirror_mode": {
    "name": "ipython",
    "version": 3
   },
   "file_extension": ".py",
   "mimetype": "text/x-python",
   "name": "python",
   "nbconvert_exporter": "python",
   "pygments_lexer": "ipython3",
   "version": "3.13.3"
  }
 },
 "nbformat": 4,
 "nbformat_minor": 5
}
