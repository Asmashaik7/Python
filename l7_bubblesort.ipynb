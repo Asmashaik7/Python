{
 "cells": [
  {
   "cell_type": "code",
   "execution_count": 1,
   "id": "b747ec90-09a4-45ce-92fb-cdeb03cf1093",
   "metadata": {},
   "outputs": [],
   "source": [
    "#7. Sort a List Without sort()\n",
    "#Problem: Write a function to sort a list of numbers in ascending order without using the built-in sort() or sorted() functions.\n",
    "# Use a simple algorithm like bubble sort.\n",
    "\n",
    "#Hint: Compare adjacent elements and swap them if they are in the wrong order, repeating until no swaps are needed.\n",
    "\n",
    "#Apply these ->: Nested loops, swapping elements, basic sorting logic."
   ]
  },
  {
   "cell_type": "code",
   "execution_count": 2,
   "id": "d6cc98bd-70d3-4d63-b3c1-3d46c3f93202",
   "metadata": {},
   "outputs": [],
   "source": [
    "# What is bubble sort?\n",
    "# Just like the movement of air bubbles in the water that rise up to the surface, each element of the array move to the end in each iteration. \n",
    "#Therefore, it is called a bubble sort."
   ]
  },
  {
   "cell_type": "code",
   "execution_count": 28,
   "id": "352b9f9c-d84f-40d5-af18-dabfe32d7e47",
   "metadata": {},
   "outputs": [
    {
     "name": "stdout",
     "output_type": "stream",
     "text": [
      "lenght of list 9\n",
      "[-5, 1, 5, 7, 30, 34, 45, 66, 70]\n"
     ]
    }
   ],
   "source": [
    "list1=[34,5,45,1,70,-5,30,7,66]\n",
    "length_lst=len(list1)\n",
    "\n",
    "print(\"lenght of list\",length_lst)\n",
    "\n",
    "def bubblesort(list2):\n",
    "    for i in range(0,length_lst): #iteration throughout the list to get each list element\n",
    "        \n",
    "        for j in range(0,length_lst-1): #loop to compare list elements\n",
    "            \n",
    "            if list2[j]> list2[j+1]: #here swapping elements using a temp variable\n",
    "                temp=list2[j]\n",
    "                list2[j]=list2[j+1]\n",
    "                list2[j+1]=temp\n",
    "    return(list2)\n",
    "    \n",
    "ascending_order= bubblesort(list1)\n",
    "print(ascending_order)"
   ]
  },
  {
   "cell_type": "code",
   "execution_count": null,
   "id": "724975bf-b3c1-42f6-a277-7ab50ea1414a",
   "metadata": {},
   "outputs": [],
   "source": []
  }
 ],
 "metadata": {
  "kernelspec": {
   "display_name": "Python 3 (ipykernel)",
   "language": "python",
   "name": "python3"
  },
  "language_info": {
   "codemirror_mode": {
    "name": "ipython",
    "version": 3
   },
   "file_extension": ".py",
   "mimetype": "text/x-python",
   "name": "python",
   "nbconvert_exporter": "python",
   "pygments_lexer": "ipython3",
   "version": "3.13.3"
  }
 },
 "nbformat": 4,
 "nbformat_minor": 5
}
