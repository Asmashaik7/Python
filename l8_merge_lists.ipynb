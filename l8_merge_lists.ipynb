{
 "cells": [
  {
   "cell_type": "code",
   "execution_count": 1,
   "id": "3da4b098-fe17-4999-b446-7dbe609205a1",
   "metadata": {},
   "outputs": [],
   "source": [
    "#8. Merge Two Lists\n",
    "#Problem: Write a function that takes two lists and merges them into a single list, alternating elements.\n",
    "#For example, [1, 2, 3] and [\"a\", \"b\", \"c\"] should become [1, \"a\", 2, \"b\", 3, \"c\"]. Handle cases where lists have different lengths.\n",
    "\n",
    "#Hint: Use a loop with indexing and check the length of both lists.\n",
    "\n",
    "#Apply these ->: Loops, conditionals, list concatenation."
   ]
  },
  {
   "cell_type": "code",
   "execution_count": 9,
   "id": "fe4c7906-aa21-40a2-9616-f9382a7b0eac",
   "metadata": {},
   "outputs": [
    {
     "name": "stdout",
     "output_type": "stream",
     "text": [
      "num_len : 3\n",
      "letters_len: 3\n"
     ]
    },
    {
     "data": {
      "text/plain": [
       "str"
      ]
     },
     "execution_count": 9,
     "metadata": {},
     "output_type": "execute_result"
    }
   ],
   "source": [
    "num=[1, 2, 3]\n",
    "letters=[\"a\", \"b\", \"c\"]\n",
    "num_len=len(num)\n",
    "letters_len=(len(letters))\n",
    "\n",
    "print(\"num_len :\",num_len)\n",
    "print(\"letters_len:\",letters_len)\n",
    "\n",
    "type(num_len)#int\n",
    "type(letters_len)#int\n",
    "type(\"a\")#str"
   ]
  },
  {
   "cell_type": "code",
   "execution_count": 11,
   "id": "a980f6f7-0362-40da-b38f-985550c54dfd",
   "metadata": {},
   "outputs": [
    {
     "data": {
      "text/plain": [
       "[1, 2, 3, 'a', 'b', 'c']"
      ]
     },
     "execution_count": 11,
     "metadata": {},
     "output_type": "execute_result"
    }
   ],
   "source": [
    "list1=num+letters # using +\n",
    "list1"
   ]
  },
  {
   "cell_type": "code",
   "execution_count": 12,
   "id": "49dd47f9-9558-4930-af96-cdd4ff8b6211",
   "metadata": {},
   "outputs": [
    {
     "data": {
      "text/plain": [
       "(1, 2, 3, 'a', 'b', 'c')"
      ]
     },
     "execution_count": 12,
     "metadata": {},
     "output_type": "execute_result"
    }
   ],
   "source": [
    "list2=(*num,*letters) #Use the unpacking operator to merge the lists\n",
    "list2"
   ]
  },
  {
   "cell_type": "code",
   "execution_count": 16,
   "id": "26b61b23-beb2-49c7-be04-3cfbd77b7c2b",
   "metadata": {},
   "outputs": [
    {
     "data": {
      "text/plain": [
       "[1, 2, 3, 'a', 'b', 'c', 'a', 'b', 'c']"
      ]
     },
     "execution_count": 16,
     "metadata": {},
     "output_type": "execute_result"
    }
   ],
   "source": [
    "for each in letters: #using append\n",
    "    num.append(each)\n",
    "num"
   ]
  },
  {
   "cell_type": "code",
   "execution_count": 15,
   "id": "e52ce51e-d28e-422f-a554-f39669d746d7",
   "metadata": {},
   "outputs": [
    {
     "name": "stdout",
     "output_type": "stream",
     "text": [
      "[1, 'a', 2, 'b', 3, 'c']\n"
     ]
    }
   ],
   "source": [
    "list_concat=[] #new list to concatinate 2 lists\n",
    "\n",
    "for each in range(0,num_len):\n",
    "    list_concat.append(num[each]) #just append num list and later letters list in a loop..\n",
    "    list_concat.append(letters[each])\n",
    "    \n",
    "print(list_concat)\n",
    "    "
   ]
  },
  {
   "cell_type": "code",
   "execution_count": 19,
   "id": "66bcf611-8275-4cb9-bc13-e68255a5484b",
   "metadata": {},
   "outputs": [
    {
     "name": "stdout",
     "output_type": "stream",
     "text": [
      "[1, 'a', 2, 'b', 3, 'c']\n"
     ]
    }
   ],
   "source": [
    "#write a function that takes two lists and merges them into a single list, alternating elements.\n",
    "def concat_list(num1,letters1):\n",
    "    \n",
    "    num_len=len(num1)\n",
    "    list_concat=[]\n",
    "    \n",
    "    for each in range(0,num_len):\n",
    "        list_concat.append(num1[each]) #just append num list and later letters list in a loop..\n",
    "        list_concat.append(letters1[each])\n",
    "    return(list_concat)\n",
    "    \n",
    "num=[1, 2, 3]\n",
    "letters=[\"a\", \"b\", \"c\"]\n",
    "a=concat_list(num,letters)\n",
    "print(a)    "
   ]
  },
  {
   "cell_type": "code",
   "execution_count": null,
   "id": "ce558b55-2d74-4911-b3bb-868cef3ee3e2",
   "metadata": {},
   "outputs": [],
   "source": []
  }
 ],
 "metadata": {
  "kernelspec": {
   "display_name": "Python 3 (ipykernel)",
   "language": "python",
   "name": "python3"
  },
  "language_info": {
   "codemirror_mode": {
    "name": "ipython",
    "version": 3
   },
   "file_extension": ".py",
   "mimetype": "text/x-python",
   "name": "python",
   "nbconvert_exporter": "python",
   "pygments_lexer": "ipython3",
   "version": "3.13.3"
  }
 },
 "nbformat": 4,
 "nbformat_minor": 5
}
