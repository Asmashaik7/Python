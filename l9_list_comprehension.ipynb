{
 "cells": [
  {
   "cell_type": "code",
   "execution_count": 1,
   "id": "f67d4482-f22c-47f0-b5a2-963b3e1e2211",
   "metadata": {},
   "outputs": [],
   "source": [
    "#List Comprehension\n",
    "#Problem: Write a program that uses list comprehension to:\n",
    "\n",
    "#Create a list of squares of numbers from 1 to 10.\n",
    "#Create a list of even numbers from an input list (e.g., [1, 2, 3, 4, 5, 6]).\n",
    "#Create a list of strings from a list of numbers, appending \"th\" to each (e.g., [1, 2, 3] becomes [\"1th\", \"2th\", \"3th\"]).\n",
    "#Apply these ->: List comprehension, string formatting.\n",
    "\n"
   ]
  },
  {
   "cell_type": "code",
   "execution_count": 3,
   "id": "c31953fe-97e5-419f-bb55-776280c24728",
   "metadata": {},
   "outputs": [
    {
     "data": {
      "text/plain": [
       "[1, 4, 9, 16, 25, 36, 49, 64, 81, 100]"
      ]
     },
     "execution_count": 3,
     "metadata": {},
     "output_type": "execute_result"
    }
   ],
   "source": [
    "#Create a list of squares of numbers from 1 to 10.\n",
    "list1=[1,2,3,4,5,6,7,8,9,10] ###newlist = [expression for item in iterable if condition == True]\n",
    "newlist=[i*i for i in list1]\n",
    "newlist"
   ]
  },
  {
   "cell_type": "code",
   "execution_count": 5,
   "id": "005d5d46-3e8b-4ad8-8d59-d4dbc9a9038e",
   "metadata": {},
   "outputs": [
    {
     "data": {
      "text/plain": [
       "[2, 4, 6]"
      ]
     },
     "execution_count": 5,
     "metadata": {},
     "output_type": "execute_result"
    }
   ],
   "source": [
    "#Create a list of even numbers from an input list (e.g., [1, 2, 3, 4, 5, 6]).\n",
    "list2=[1, 2, 3, 4, 5, 6]\n",
    "newlist1=[i for i in list2 if i%2==0]\n",
    "newlist1"
   ]
  },
  {
   "cell_type": "code",
   "execution_count": 12,
   "id": "f80cd357-7a2d-4c4b-9c1e-e4f1ba528965",
   "metadata": {},
   "outputs": [
    {
     "data": {
      "text/plain": [
       "['1th', '2th', '3th']"
      ]
     },
     "execution_count": 12,
     "metadata": {},
     "output_type": "execute_result"
    }
   ],
   "source": [
    "#Create a list of strings from a list of numbers, appending \"th\" to each (e.g., [1, 2, 3] becomes [\"1th\", \"2th\", \"3th\"]).\n",
    "list3=[1,2,3]\n",
    "liststr=[str(each)+'th' for each in list3] #as list has numbers, those ot be converted into strings then conact with 'th' string\n",
    "liststr"
   ]
  },
  {
   "cell_type": "code",
   "execution_count": null,
   "id": "05f82507-0907-4bbe-9ae5-5eda924d7730",
   "metadata": {},
   "outputs": [],
   "source": []
  }
 ],
 "metadata": {
  "kernelspec": {
   "display_name": "Python 3 (ipykernel)",
   "language": "python",
   "name": "python3"
  },
  "language_info": {
   "codemirror_mode": {
    "name": "ipython",
    "version": 3
   },
   "file_extension": ".py",
   "mimetype": "text/x-python",
   "name": "python",
   "nbconvert_exporter": "python",
   "pygments_lexer": "ipython3",
   "version": "3.13.3"
  }
 },
 "nbformat": 4,
 "nbformat_minor": 5
}
