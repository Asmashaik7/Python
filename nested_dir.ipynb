{
 "cells": [
  {
   "cell_type": "code",
   "execution_count": 1,
   "id": "70415918-1ede-4fed-9f32-1d50e2dd5dd1",
   "metadata": {},
   "outputs": [],
   "source": [
    "#assign grade\n",
    "#0-50-fail, 51-70-pass, 71-100-disinction"
   ]
  },
  {
   "cell_type": "code",
   "execution_count": 1,
   "id": "526063b8-1bf2-4a91-8d14-a3c1c4383357",
   "metadata": {},
   "outputs": [
    {
     "data": {
      "text/plain": [
       "{'marks': {'maths': 60, 'science': 70, 'social': 80},\n",
       " 'total': 210,\n",
       " 'avg': 70.0,\n",
       " 'grade': 'pass'}"
      ]
     },
     "execution_count": 1,
     "metadata": {},
     "output_type": "execute_result"
    }
   ],
   "source": [
    "def avg(maths,science,social):\n",
    "    details={}\n",
    "    details['marks']={}\n",
    "    total=maths+science+social\n",
    "    avg=total/3\n",
    "    grade=''\n",
    "    if avg>0 and avg<=50:\n",
    "        grade='fail'\n",
    "    elif avg>=51 and avg<=70:\n",
    "        grade='pass'\n",
    "    elif avg>=71 and avg<=100:\n",
    "        grade='distinction'\n",
    "    else:\n",
    "        print(\"cant compute your grade\")\n",
    "#when there is a r'ship between variables, we should dub them all\n",
    "    details['marks']['maths']=maths\n",
    "    details['marks']['science']=science\n",
    "    details['marks']['social']=social\n",
    "    details['total']=total\n",
    "    details['avg']=avg\n",
    "    details['grade']=grade\n",
    "    return details\n",
    "avg(60,70,80)\n",
    "\n",
    "    "
   ]
  },
  {
   "cell_type": "code",
   "execution_count": 2,
   "id": "962723ae-c94d-46ea-8d0c-9cba11031918",
   "metadata": {},
   "outputs": [
    {
     "data": {
      "text/plain": [
       "{'marks': {'maths': 60, 'science': 7, 'social': 8},\n",
       " 'total': 75,\n",
       " 'avg': 25.0,\n",
       " 'grade': 'fail'}"
      ]
     },
     "execution_count": 2,
     "metadata": {},
     "output_type": "execute_result"
    }
   ],
   "source": [
    "def avg(maths,science,social):\n",
    "    details={}\n",
    "    details['marks']={}\n",
    "    total=maths+science+social\n",
    "    avg=total/3\n",
    "    grade=''\n",
    "    if avg>0 and avg<=50:\n",
    "        grade='fail'\n",
    "    elif avg>=51 and avg<=70:\n",
    "        grade='pass'\n",
    "    elif avg>=71 and avg<=100:\n",
    "        grade='distinction'\n",
    "    else:\n",
    "        print(\"cant compute your grade\")\n",
    "#when there is a r'ship between variables, we should dub them all\n",
    "    details['marks']['maths']=maths\n",
    "    details['marks']['science']=science\n",
    "    details['marks']['social']=social\n",
    "    details['total']=total\n",
    "    details['avg']=avg\n",
    "    details['grade']=grade\n",
    "    return details\n",
    "avg(60,7,8)\n",
    "\n",
    "    "
   ]
  },
  {
   "cell_type": "code",
   "execution_count": 5,
   "id": "6065c5c0-4748-4809-b588-2e6f552fafea",
   "metadata": {},
   "outputs": [
    {
     "data": {
      "text/plain": [
       "{'list': []}"
      ]
     },
     "execution_count": 5,
     "metadata": {},
     "output_type": "execute_result"
    }
   ],
   "source": [
    "d={}\n",
    "d['list']=list() #list is a str here\n",
    "d"
   ]
  },
  {
   "cell_type": "code",
   "execution_count": 6,
   "id": "1e54876b-310b-4dd0-98d8-39bb28ff9e5e",
   "metadata": {},
   "outputs": [
    {
     "data": {
      "text/plain": [
       "{'list': [], 'diction': {}}"
      ]
     },
     "execution_count": 6,
     "metadata": {},
     "output_type": "execute_result"
    }
   ],
   "source": [
    "d['diction']={} #this is a dictionary\n",
    "d"
   ]
  },
  {
   "cell_type": "code",
   "execution_count": 8,
   "id": "29f70f6a-479c-4d8b-a569-e0e0c59d05f0",
   "metadata": {},
   "outputs": [
    {
     "data": {
      "text/plain": [
       "{'city': {'id': 1253184,\n",
       "  'name': 'Vijayawada',\n",
       "  'coord': {'lon': 80.6167, 'lat': 16.5167},\n",
       "  'country': 'IN',\n",
       "  'population': 874587,\n",
       "  'timezone': 19800}}"
      ]
     },
     "execution_count": 8,
     "metadata": {},
     "output_type": "execute_result"
    }
   ],
   "source": [
    "s={\n",
    "...   \"city\": {\n",
    "...     \"id\": 1253184,\n",
    "...     \"name\": \"Vijayawada\",\n",
    "...     \"coord\": {\n",
    "...       \"lon\": 80.6167,\n",
    "...       \"lat\": 16.5167\n",
    "...     },\n",
    "...     \"country\": \"IN\",\n",
    "...     \"population\": 874587,\n",
    "    \"timezone\": 19800\n",
    "  }}\n",
    "s"
   ]
  },
  {
   "cell_type": "code",
   "execution_count": 9,
   "id": "967c7f36-4271-441e-b9f9-f7f42105ecef",
   "metadata": {},
   "outputs": [
    {
     "data": {
      "text/plain": [
       "{'id': 1253184,\n",
       " 'name': 'Vijayawada',\n",
       " 'coord': {'lon': 80.6167, 'lat': 16.5167},\n",
       " 'country': 'IN',\n",
       " 'population': 874587,\n",
       " 'timezone': 19800}"
      ]
     },
     "execution_count": 9,
     "metadata": {},
     "output_type": "execute_result"
    }
   ],
   "source": [
    "s['city']"
   ]
  },
  {
   "cell_type": "code",
   "execution_count": 10,
   "id": "2a3cb59d-5bb7-403d-87a6-d58d518daaa8",
   "metadata": {},
   "outputs": [
    {
     "data": {
      "text/plain": [
       "{'lon': 80.6167, 'lat': 16.5167}"
      ]
     },
     "execution_count": 10,
     "metadata": {},
     "output_type": "execute_result"
    }
   ],
   "source": [
    "s['city']['coord']"
   ]
  },
  {
   "cell_type": "code",
   "execution_count": 11,
   "id": "3fc58e78-839b-45c2-8ca6-6be21ba0d1f9",
   "metadata": {},
   "outputs": [
    {
     "data": {
      "text/plain": [
       "{'city': {'id': 1253184,\n",
       "  'name': 'Vijayawada',\n",
       "  'coord': {'lon': 80.6167, 'lat': 16.5167},\n",
       "  'country': 'IN',\n",
       "  'population': 874587,\n",
       "  'timezone': 19800}}"
      ]
     },
     "execution_count": 11,
     "metadata": {},
     "output_type": "execute_result"
    }
   ],
   "source": [
    "s"
   ]
  },
  {
   "cell_type": "code",
   "execution_count": 12,
   "id": "83d0d0a8-0f94-4a27-8253-5ab654134f10",
   "metadata": {},
   "outputs": [
    {
     "name": "stdout",
     "output_type": "stream",
     "text": [
      "{'city': {'coord': {'lat': 16.5167, 'lon': 80.6167},\n",
      "          'country': 'IN',\n",
      "          'id': 1253184,\n",
      "          'name': 'Vijayawada',\n",
      "          'population': 874587,\n",
      "          'timezone': 19800}}\n"
     ]
    }
   ],
   "source": [
    "import pprint\n",
    "pprint.pprint(s)"
   ]
  },
  {
   "cell_type": "code",
   "execution_count": 13,
   "id": "0a6d26bf-75ad-4299-8b7d-1ed08ea89f35",
   "metadata": {},
   "outputs": [
    {
     "data": {
      "text/plain": [
       "dict"
      ]
     },
     "execution_count": 13,
     "metadata": {},
     "output_type": "execute_result"
    }
   ],
   "source": [
    "type(s)"
   ]
  },
  {
   "cell_type": "code",
   "execution_count": 14,
   "id": "f36675ff-aae3-424a-9a64-8415362184ab",
   "metadata": {},
   "outputs": [
    {
     "data": {
      "text/plain": [
       "dict"
      ]
     },
     "execution_count": 14,
     "metadata": {},
     "output_type": "execute_result"
    }
   ],
   "source": [
    "type(s['city'])"
   ]
  },
  {
   "cell_type": "code",
   "execution_count": 15,
   "id": "e2562673-22bb-49db-96d6-340a25068365",
   "metadata": {},
   "outputs": [
    {
     "data": {
      "text/plain": [
       "dict"
      ]
     },
     "execution_count": 15,
     "metadata": {},
     "output_type": "execute_result"
    }
   ],
   "source": [
    "type(s['city']['coord'])"
   ]
  },
  {
   "cell_type": "code",
   "execution_count": 16,
   "id": "fa475567-d6df-40e5-b9d5-ca463cb3bdca",
   "metadata": {},
   "outputs": [
    {
     "data": {
      "text/plain": [
       "1253184"
      ]
     },
     "execution_count": 16,
     "metadata": {},
     "output_type": "execute_result"
    }
   ],
   "source": [
    "s['city'].get('id')"
   ]
  },
  {
   "cell_type": "code",
   "execution_count": 17,
   "id": "f1cae908-e12c-4330-bc09-14e17d27284d",
   "metadata": {},
   "outputs": [
    {
     "data": {
      "text/plain": [
       "'IN'"
      ]
     },
     "execution_count": 17,
     "metadata": {},
     "output_type": "execute_result"
    }
   ],
   "source": [
    "s['city'].get('country')"
   ]
  },
  {
   "cell_type": "code",
   "execution_count": 19,
   "id": "15f2f79c-6e5e-4893-83cd-43585b75eb6b",
   "metadata": {},
   "outputs": [
    {
     "data": {
      "text/plain": [
       "'Vijayawada'"
      ]
     },
     "execution_count": 19,
     "metadata": {},
     "output_type": "execute_result"
    }
   ],
   "source": [
    "s['city'].get('name')"
   ]
  },
  {
   "cell_type": "code",
   "execution_count": 20,
   "id": "2f4604f4-5c51-4fc3-9db5-540728aa85f7",
   "metadata": {},
   "outputs": [
    {
     "data": {
      "text/plain": [
       "{'city': {'id': 1253184,\n",
       "  'name': 'Vijayawada',\n",
       "  'coord': {'lon': 80.6167, 'lat': 16.5167},\n",
       "  'country': 'IN',\n",
       "  'population': 874587,\n",
       "  'timezone': 19800}}"
      ]
     },
     "execution_count": 20,
     "metadata": {},
     "output_type": "execute_result"
    }
   ],
   "source": [
    "s"
   ]
  },
  {
   "cell_type": "code",
   "execution_count": 21,
   "id": "9b340ba2-6b7a-4d13-b078-694a6fe78f1e",
   "metadata": {},
   "outputs": [
    {
     "ename": "TypeError",
     "evalue": "'module' object is not callable. Did you mean: 'pprint.pprint(...)'?",
     "output_type": "error",
     "traceback": [
      "\u001b[31m---------------------------------------------------------------------------\u001b[39m",
      "\u001b[31mTypeError\u001b[39m                                 Traceback (most recent call last)",
      "\u001b[36mCell\u001b[39m\u001b[36m \u001b[39m\u001b[32mIn[21]\u001b[39m\u001b[32m, line 1\u001b[39m\n\u001b[32m----> \u001b[39m\u001b[32m1\u001b[39m \u001b[43mpprint\u001b[49m\u001b[43m(\u001b[49m\u001b[43ms\u001b[49m\u001b[43m)\u001b[49m\n",
      "\u001b[31mTypeError\u001b[39m: 'module' object is not callable. Did you mean: 'pprint.pprint(...)'?"
     ]
    }
   ],
   "source": [
    "pprint(s)"
   ]
  },
  {
   "cell_type": "code",
   "execution_count": 22,
   "id": "0936df3c-e36f-4984-aabb-e32c9ef26a66",
   "metadata": {},
   "outputs": [
    {
     "name": "stdout",
     "output_type": "stream",
     "text": [
      "{'city': {'coord': {'lat': 16.5167, 'lon': 80.6167},\n",
      "          'country': 'IN',\n",
      "          'id': 1253184,\n",
      "          'name': 'Vijayawada',\n",
      "          'population': 874587,\n",
      "          'timezone': 19800}}\n"
     ]
    }
   ],
   "source": [
    "pprint.pprint(s)"
   ]
  },
  {
   "cell_type": "code",
   "execution_count": 24,
   "id": "88a5f3d8-799e-457e-9d6b-fc7f1a06505a",
   "metadata": {},
   "outputs": [
    {
     "ename": "KeyError",
     "evalue": "'coord'",
     "output_type": "error",
     "traceback": [
      "\u001b[31m---------------------------------------------------------------------------\u001b[39m",
      "\u001b[31mKeyError\u001b[39m                                  Traceback (most recent call last)",
      "\u001b[36mCell\u001b[39m\u001b[36m \u001b[39m\u001b[32mIn[24]\u001b[39m\u001b[32m, line 1\u001b[39m\n\u001b[32m----> \u001b[39m\u001b[32m1\u001b[39m \u001b[43ms\u001b[49m\u001b[43m[\u001b[49m\u001b[33;43m'\u001b[39;49m\u001b[33;43mcoord\u001b[39;49m\u001b[33;43m'\u001b[39;49m\u001b[43m]\u001b[49m.get(\u001b[33m'\u001b[39m\u001b[33mlat\u001b[39m\u001b[33m'\u001b[39m)\n",
      "\u001b[31mKeyError\u001b[39m: 'coord'"
     ]
    }
   ],
   "source": [
    "s['coord'].get('lat')"
   ]
  },
  {
   "cell_type": "code",
   "execution_count": 25,
   "id": "c2d6616c-d7f8-458f-b72f-47243d5426b3",
   "metadata": {},
   "outputs": [
    {
     "data": {
      "text/plain": [
       "16.5167"
      ]
     },
     "execution_count": 25,
     "metadata": {},
     "output_type": "execute_result"
    }
   ],
   "source": [
    "s['city']['coord'].get('lat')"
   ]
  },
  {
   "cell_type": "code",
   "execution_count": 26,
   "id": "7fbc9683-7f52-4faa-be45-1912f2c95af8",
   "metadata": {},
   "outputs": [
    {
     "ename": "KeyError",
     "evalue": "'coord'",
     "output_type": "error",
     "traceback": [
      "\u001b[31m---------------------------------------------------------------------------\u001b[39m",
      "\u001b[31mKeyError\u001b[39m                                  Traceback (most recent call last)",
      "\u001b[36mCell\u001b[39m\u001b[36m \u001b[39m\u001b[32mIn[26]\u001b[39m\u001b[32m, line 1\u001b[39m\n\u001b[32m----> \u001b[39m\u001b[32m1\u001b[39m \u001b[43ms\u001b[49m\u001b[43m[\u001b[49m\u001b[33;43m'\u001b[39;49m\u001b[33;43mcoord\u001b[39;49m\u001b[33;43m'\u001b[39;49m\u001b[43m]\u001b[49m\n",
      "\u001b[31mKeyError\u001b[39m: 'coord'"
     ]
    }
   ],
   "source": [
    "s['coord']"
   ]
  },
  {
   "cell_type": "code",
   "execution_count": 27,
   "id": "b794a606-3fa6-4597-91c4-3e963d35417f",
   "metadata": {},
   "outputs": [
    {
     "data": {
      "text/plain": [
       "{'lon': 80.6167, 'lat': 16.5167}"
      ]
     },
     "execution_count": 27,
     "metadata": {},
     "output_type": "execute_result"
    }
   ],
   "source": [
    "s['city']['coord']"
   ]
  },
  {
   "cell_type": "code",
   "execution_count": 29,
   "id": "e2df91de-b7ee-40f1-898f-c1b0afad2288",
   "metadata": {},
   "outputs": [
    {
     "data": {
      "text/plain": [
       "{'lon': 80.6167, 'lat': 16.5167}"
      ]
     },
     "execution_count": 29,
     "metadata": {},
     "output_type": "execute_result"
    }
   ],
   "source": [
    "s['city'].get('coord')"
   ]
  },
  {
   "cell_type": "code",
   "execution_count": 31,
   "id": "f8c2d505-5311-4c9a-be07-776608f2731f",
   "metadata": {},
   "outputs": [],
   "source": [
    "s['city'].get('lat')"
   ]
  },
  {
   "cell_type": "code",
   "execution_count": 32,
   "id": "408a3b97-0e3d-4b31-bb79-f3756d40f81c",
   "metadata": {},
   "outputs": [
    {
     "data": {
      "text/plain": [
       "16.5167"
      ]
     },
     "execution_count": 32,
     "metadata": {},
     "output_type": "execute_result"
    }
   ],
   "source": [
    "s['city']['coord'].get('lat')"
   ]
  },
  {
   "cell_type": "code",
   "execution_count": 33,
   "id": "d2b11ede-44c8-456c-b0ce-4a9b8ef39034",
   "metadata": {},
   "outputs": [
    {
     "data": {
      "text/plain": [
       "dict_keys(['city'])"
      ]
     },
     "execution_count": 33,
     "metadata": {},
     "output_type": "execute_result"
    }
   ],
   "source": [
    "s.keys()"
   ]
  },
  {
   "cell_type": "code",
   "execution_count": 34,
   "id": "b609a336-791a-41a7-be12-0070cba5fd59",
   "metadata": {},
   "outputs": [
    {
     "data": {
      "text/plain": [
       "dict_values([{'id': 1253184, 'name': 'Vijayawada', 'coord': {'lon': 80.6167, 'lat': 16.5167}, 'country': 'IN', 'population': 874587, 'timezone': 19800}])"
      ]
     },
     "execution_count": 34,
     "metadata": {},
     "output_type": "execute_result"
    }
   ],
   "source": [
    "s.values()"
   ]
  },
  {
   "cell_type": "code",
   "execution_count": 35,
   "id": "12727a99-3775-4db4-9f1b-ced2fe2b39c5",
   "metadata": {},
   "outputs": [],
   "source": [
    "#weather report nested dir\n",
    "weather_details={}"
   ]
  },
  {
   "cell_type": "code",
   "execution_count": 9,
   "id": "f55c06b5-d2c0-4996-8713-b649c67ae3cd",
   "metadata": {},
   "outputs": [],
   "source": [
    "weather_details={\n",
    "      \"dt\": 1748241000,\n",
    "      \"sunrise\": 1748217881,\n",
    "      \"sunset\": 1748264687,\n",
    "      \"temp\": {\n",
    "        \"day\": 30.94,\n",
    "        \"min\": 26.74,\n",
    "        \"max\": 32.53,\n",
    "        \"night\": 28.33,\n",
    "        \"eve\": 27,\n",
    "        \"morn\": 28.03\n",
    "      },\n",
    "      \"feels_like\": {\n",
    "        \"day\": 37.14,\n",
    "        \"night\": 31.47,\n",
    "        \"eve\": 27.8,\n",
    "        \"morn\": 31.28\n",
    "      },\n",
    "      \"pressure\": 1002,\n",
    "      \"humidity\": 69,\n",
    "      \"weather\": [\n",
    "        {\n",
    "          \"id\": 501,\n",
    "          \"main\": \"Rain\",\n",
    "          \"description\": \"moderate rain\",\n",
    "          \"icon\": \"10d\"\n",
    "        }\n",
    "      ],\n",
    "      \"speed\": 4.9,\n",
    "      \"deg\": 234,\n",
    "      \"gust\": 9.83,\n",
    "      \"clouds\": 62,\n",
    "      \"pop\": 1,\n",
    "      \"rain\": 1.65\n",
    "    }\n"
   ]
  },
  {
   "cell_type": "code",
   "execution_count": 38,
   "id": "e3abbf51-9b48-46cb-9e05-e23dd2c7ce87",
   "metadata": {},
   "outputs": [
    {
     "data": {
      "text/plain": [
       "{'dt': 1748241000,\n",
       " 'sunrise': 1748217881,\n",
       " 'sunset': 1748264687,\n",
       " 'temp': {'day': 30.94,\n",
       "  'min': 26.74,\n",
       "  'max': 32.53,\n",
       "  'night': 28.33,\n",
       "  'eve': 27,\n",
       "  'morn': 28.03},\n",
       " 'feels_like': {'day': 37.14, 'night': 31.47, 'eve': 27.8, 'morn': 31.28},\n",
       " 'pressure': 1002,\n",
       " 'humidity': 69,\n",
       " 'weather': [{'id': 501,\n",
       "   'main': 'Rain',\n",
       "   'description': 'moderate rain',\n",
       "   'icon': '10d'}],\n",
       " 'speed': 4.9,\n",
       " 'deg': 234,\n",
       " 'gust': 9.83,\n",
       " 'clouds': 62,\n",
       " 'pop': 1,\n",
       " 'rain': 1.65}"
      ]
     },
     "execution_count": 38,
     "metadata": {},
     "output_type": "execute_result"
    }
   ],
   "source": [
    "weather_details"
   ]
  },
  {
   "cell_type": "code",
   "execution_count": 14,
   "id": "c7447a82-8203-4cf1-aa13-1a6c5d6e20cb",
   "metadata": {},
   "outputs": [
    {
     "data": {
      "text/plain": [
       "str"
      ]
     },
     "execution_count": 14,
     "metadata": {},
     "output_type": "execute_result"
    }
   ],
   "source": [
    "type('{weather_details}')"
   ]
  },
  {
   "cell_type": "code",
   "execution_count": 10,
   "id": "97fc30e3-489e-4cfd-b82c-9bd1ca8b3862",
   "metadata": {},
   "outputs": [
    {
     "data": {
      "text/plain": [
       "str"
      ]
     },
     "execution_count": 10,
     "metadata": {},
     "output_type": "execute_result"
    }
   ],
   "source": [
    "type('weather')"
   ]
  },
  {
   "cell_type": "code",
   "execution_count": 13,
   "id": "9cd0ca04-3034-411b-aeba-35f803df910b",
   "metadata": {},
   "outputs": [
    {
     "data": {
      "text/plain": [
       "list"
      ]
     },
     "execution_count": 13,
     "metadata": {},
     "output_type": "execute_result"
    }
   ],
   "source": [
    "type(['weather'])"
   ]
  },
  {
   "cell_type": "code",
   "execution_count": 39,
   "id": "4caed0a2-fb2e-4e1a-9edc-1e298304ee93",
   "metadata": {},
   "outputs": [
    {
     "data": {
      "text/plain": [
       "{'day': 30.94,\n",
       " 'min': 26.74,\n",
       " 'max': 32.53,\n",
       " 'night': 28.33,\n",
       " 'eve': 27,\n",
       " 'morn': 28.03}"
      ]
     },
     "execution_count": 39,
     "metadata": {},
     "output_type": "execute_result"
    }
   ],
   "source": [
    "weather_details['temp']"
   ]
  },
  {
   "cell_type": "code",
   "execution_count": null,
   "id": "d261e834-42da-43ca-bceb-0ab968bea3e4",
   "metadata": {},
   "outputs": [],
   "source": []
  },
  {
   "cell_type": "code",
   "execution_count": 2,
   "id": "e23ac826-7a7f-4320-9376-0cb1301cf3bb",
   "metadata": {},
   "outputs": [
    {
     "data": {
      "text/plain": [
       "str"
      ]
     },
     "execution_count": 2,
     "metadata": {},
     "output_type": "execute_result"
    }
   ],
   "source": [
    "type('weather_details')"
   ]
  },
  {
   "cell_type": "code",
   "execution_count": 40,
   "id": "6bd1d1df-007b-43b8-bc6e-76996eae0e7f",
   "metadata": {},
   "outputs": [
    {
     "data": {
      "text/plain": [
       "30.94"
      ]
     },
     "execution_count": 40,
     "metadata": {},
     "output_type": "execute_result"
    }
   ],
   "source": [
    "weather_details['temp'].get('day')"
   ]
  },
  {
   "cell_type": "code",
   "execution_count": 4,
   "id": "b867deb6-7ed6-4379-aca9-3d34e6be2083",
   "metadata": {},
   "outputs": [
    {
     "ename": "NameError",
     "evalue": "name 'weather' is not defined",
     "output_type": "error",
     "traceback": [
      "\u001b[31m---------------------------------------------------------------------------\u001b[39m",
      "\u001b[31mNameError\u001b[39m                                 Traceback (most recent call last)",
      "\u001b[36mCell\u001b[39m\u001b[36m \u001b[39m\u001b[32mIn[4]\u001b[39m\u001b[32m, line 1\u001b[39m\n\u001b[32m----> \u001b[39m\u001b[32m1\u001b[39m \u001b[43mweather\u001b[49m[\u001b[32m0\u001b[39m].get(\u001b[33m'\u001b[39m\u001b[33mdescription\u001b[39m\u001b[33m'\u001b[39m)\n",
      "\u001b[31mNameError\u001b[39m: name 'weather' is not defined"
     ]
    }
   ],
   "source": [
    "weather[0].get('description')"
   ]
  },
  {
   "cell_type": "code",
   "execution_count": 41,
   "id": "4bd45e64-39b4-431b-9876-44e51e0dff78",
   "metadata": {},
   "outputs": [
    {
     "data": {
      "text/plain": [
       "dict_keys(['dt', 'sunrise', 'sunset', 'temp', 'feels_like', 'pressure', 'humidity', 'weather', 'speed', 'deg', 'gust', 'clouds', 'pop', 'rain'])"
      ]
     },
     "execution_count": 41,
     "metadata": {},
     "output_type": "execute_result"
    }
   ],
   "source": [
    "weather_details.keys()"
   ]
  },
  {
   "cell_type": "code",
   "execution_count": 42,
   "id": "228ac0f3-58aa-4f75-8ec2-18da160082c0",
   "metadata": {},
   "outputs": [
    {
     "data": {
      "text/plain": [
       "dict_values([1748241000, 1748217881, 1748264687, {'day': 30.94, 'min': 26.74, 'max': 32.53, 'night': 28.33, 'eve': 27, 'morn': 28.03}, {'day': 37.14, 'night': 31.47, 'eve': 27.8, 'morn': 31.28}, 1002, 69, [{'id': 501, 'main': 'Rain', 'description': 'moderate rain', 'icon': '10d'}], 4.9, 234, 9.83, 62, 1, 1.65])"
      ]
     },
     "execution_count": 42,
     "metadata": {},
     "output_type": "execute_result"
    }
   ],
   "source": [
    "weather_details.values()"
   ]
  },
  {
   "cell_type": "code",
   "execution_count": 23,
   "id": "970b0680-e2c3-4b9c-b73d-75469f017ff6",
   "metadata": {},
   "outputs": [
    {
     "data": {
      "text/plain": [
       "27.8"
      ]
     },
     "execution_count": 23,
     "metadata": {},
     "output_type": "execute_result"
    }
   ],
   "source": [
    "weather_details['feels_like'].get('eve')"
   ]
  },
  {
   "cell_type": "code",
   "execution_count": 47,
   "id": "8215d6b2-5050-42c8-b395-a3b405662f09",
   "metadata": {},
   "outputs": [
    {
     "ename": "AttributeError",
     "evalue": "'list' object has no attribute 'get'",
     "output_type": "error",
     "traceback": [
      "\u001b[31m---------------------------------------------------------------------------\u001b[39m",
      "\u001b[31mAttributeError\u001b[39m                            Traceback (most recent call last)",
      "\u001b[36mCell\u001b[39m\u001b[36m \u001b[39m\u001b[32mIn[47]\u001b[39m\u001b[32m, line 1\u001b[39m\n\u001b[32m----> \u001b[39m\u001b[32m1\u001b[39m \u001b[43mweather_details\u001b[49m\u001b[43m[\u001b[49m\u001b[33;43m'\u001b[39;49m\u001b[33;43mweather\u001b[39;49m\u001b[33;43m'\u001b[39;49m\u001b[43m]\u001b[49m\u001b[43m.\u001b[49m\u001b[43mget\u001b[49m(\u001b[33m'\u001b[39m\u001b[33mdescription\u001b[39m\u001b[33m'\u001b[39m)\n",
      "\u001b[31mAttributeError\u001b[39m: 'list' object has no attribute 'get'"
     ]
    }
   ],
   "source": [
    "weather_details['weather'].get('description')"
   ]
  },
  {
   "cell_type": "code",
   "execution_count": null,
   "id": "0828ef73-4a23-4923-a295-62ee77d494e0",
   "metadata": {},
   "outputs": [],
   "source": [
    "### weather is a list[], so get() is not used to retrive values"
   ]
  },
  {
   "cell_type": "code",
   "execution_count": 50,
   "id": "ab65c939-95ba-41b3-9b0e-ea0769044b07",
   "metadata": {},
   "outputs": [
    {
     "ename": "IndexError",
     "evalue": "list index out of range",
     "output_type": "error",
     "traceback": [
      "\u001b[31m---------------------------------------------------------------------------\u001b[39m",
      "\u001b[31mIndexError\u001b[39m                                Traceback (most recent call last)",
      "\u001b[36mCell\u001b[39m\u001b[36m \u001b[39m\u001b[32mIn[50]\u001b[39m\u001b[32m, line 1\u001b[39m\n\u001b[32m----> \u001b[39m\u001b[32m1\u001b[39m \u001b[43mweather_details\u001b[49m\u001b[43m[\u001b[49m\u001b[33;43m'\u001b[39;49m\u001b[33;43mweather\u001b[39;49m\u001b[33;43m'\u001b[39;49m\u001b[43m]\u001b[49m\u001b[43m[\u001b[49m\u001b[32;43m1\u001b[39;49m\u001b[43m]\u001b[49m\n",
      "\u001b[31mIndexError\u001b[39m: list index out of range"
     ]
    }
   ],
   "source": [
    "weather_details['weather'][1]"
   ]
  },
  {
   "cell_type": "code",
   "execution_count": 21,
   "id": "d758dd20-1be4-47f8-8246-e19ea9de9d35",
   "metadata": {},
   "outputs": [
    {
     "data": {
      "text/plain": [
       "list"
      ]
     },
     "execution_count": 21,
     "metadata": {},
     "output_type": "execute_result"
    }
   ],
   "source": [
    "type(weather_details['weather'])"
   ]
  },
  {
   "cell_type": "code",
   "execution_count": 22,
   "id": "84e6208c-5111-43e9-909e-b9febae8051e",
   "metadata": {},
   "outputs": [
    {
     "data": {
      "text/plain": [
       "dict"
      ]
     },
     "execution_count": 22,
     "metadata": {},
     "output_type": "execute_result"
    }
   ],
   "source": [
    "type(weather_details)"
   ]
  },
  {
   "cell_type": "code",
   "execution_count": 51,
   "id": "ba509e98-7e4b-4169-973e-77c1041ce822",
   "metadata": {},
   "outputs": [
    {
     "data": {
      "text/plain": [
       "[{'id': 501, 'main': 'Rain', 'description': 'moderate rain', 'icon': '10d'}]"
      ]
     },
     "execution_count": 51,
     "metadata": {},
     "output_type": "execute_result"
    }
   ],
   "source": [
    "weather_details['weather']"
   ]
  },
  {
   "cell_type": "code",
   "execution_count": 20,
   "id": "19d93ba5-fa17-44d7-b184-02cbedff7ac9",
   "metadata": {},
   "outputs": [
    {
     "data": {
      "text/plain": [
       "'moderate rain'"
      ]
     },
     "execution_count": 20,
     "metadata": {},
     "output_type": "execute_result"
    }
   ],
   "source": [
    "weather_details['weather'][0].get('description')"
   ]
  },
  {
   "cell_type": "code",
   "execution_count": 53,
   "id": "0d5bf301-bb00-4aa3-aadf-4cc3080a7d69",
   "metadata": {},
   "outputs": [
    {
     "data": {
      "text/plain": [
       "{'id': 501, 'main': 'Rain', 'description': 'moderate rain', 'icon': '10d'}"
      ]
     },
     "execution_count": 53,
     "metadata": {},
     "output_type": "execute_result"
    }
   ],
   "source": [
    "weather_details['weather'][0]"
   ]
  },
  {
   "cell_type": "code",
   "execution_count": 7,
   "id": "7c46be05-0973-4c48-a262-a76e9572112c",
   "metadata": {},
   "outputs": [
    {
     "ename": "NameError",
     "evalue": "name 'weather_details' is not defined",
     "output_type": "error",
     "traceback": [
      "\u001b[31m---------------------------------------------------------------------------\u001b[39m",
      "\u001b[31mNameError\u001b[39m                                 Traceback (most recent call last)",
      "\u001b[36mCell\u001b[39m\u001b[36m \u001b[39m\u001b[32mIn[7]\u001b[39m\u001b[32m, line 1\u001b[39m\n\u001b[32m----> \u001b[39m\u001b[32m1\u001b[39m \u001b[43mweather_details\u001b[49m[\u001b[33m'\u001b[39m\u001b[33mweather\u001b[39m\u001b[33m'\u001b[39m][\u001b[32m0\u001b[39m].get(\u001b[33m'\u001b[39m\u001b[33mdescription\u001b[39m\u001b[33m'\u001b[39m)\n",
      "\u001b[31mNameError\u001b[39m: name 'weather_details' is not defined"
     ]
    }
   ],
   "source": [
    "weather_details['weather'][0].get('description')"
   ]
  },
  {
   "cell_type": "code",
   "execution_count": 8,
   "id": "b9e02184-17a6-4f61-92d2-810fb4dbde07",
   "metadata": {},
   "outputs": [
    {
     "ename": "NameError",
     "evalue": "name 'weather_details' is not defined",
     "output_type": "error",
     "traceback": [
      "\u001b[31m---------------------------------------------------------------------------\u001b[39m",
      "\u001b[31mNameError\u001b[39m                                 Traceback (most recent call last)",
      "\u001b[36mCell\u001b[39m\u001b[36m \u001b[39m\u001b[32mIn[8]\u001b[39m\u001b[32m, line 1\u001b[39m\n\u001b[32m----> \u001b[39m\u001b[32m1\u001b[39m \u001b[43mweather_details\u001b[49m\n",
      "\u001b[31mNameError\u001b[39m: name 'weather_details' is not defined"
     ]
    }
   ],
   "source": [
    "weather_details"
   ]
  },
  {
   "cell_type": "code",
   "execution_count": 16,
   "id": "aadc9372-5996-46da-8a32-0a0b900fb508",
   "metadata": {},
   "outputs": [
    {
     "data": {
      "text/plain": [
       "{'dt': 1748241000,\n",
       " 'sunrise': 1748217881,\n",
       " 'sunset': 1748264687,\n",
       " 'temp': {'day': 30.94,\n",
       "  'min': 26.74,\n",
       "  'max': 32.53,\n",
       "  'night': 28.33,\n",
       "  'eve': 27,\n",
       "  'morn': 28.03},\n",
       " 'feels_like': {'day': 37.14, 'night': 31.47, 'eve': 27.8, 'morn': 31.28},\n",
       " 'pressure': 1002,\n",
       " 'humidity': 69,\n",
       " 'weather': [{'id': 501,\n",
       "   'main': 'Rain',\n",
       "   'description': 'moderate rain',\n",
       "   'icon': '10d'}],\n",
       " 'speed': 4.9,\n",
       " 'deg': 234,\n",
       " 'gust': 9.83,\n",
       " 'clouds': 62,\n",
       " 'pop': 1,\n",
       " 'rain': 1.65}"
      ]
     },
     "execution_count": 16,
     "metadata": {},
     "output_type": "execute_result"
    }
   ],
   "source": [
    "weather_details"
   ]
  },
  {
   "cell_type": "code",
   "execution_count": 17,
   "id": "a2971d98-38fd-49e8-be91-ce4e10fb46a0",
   "metadata": {},
   "outputs": [
    {
     "data": {
      "text/plain": [
       "dict"
      ]
     },
     "execution_count": 17,
     "metadata": {},
     "output_type": "execute_result"
    }
   ],
   "source": [
    "type(weather_details)"
   ]
  },
  {
   "cell_type": "code",
   "execution_count": 19,
   "id": "c6f8d1e1-96dc-4f51-86e3-24d49cb80d98",
   "metadata": {},
   "outputs": [
    {
     "ename": "NameError",
     "evalue": "name 'weather' is not defined",
     "output_type": "error",
     "traceback": [
      "\u001b[31m---------------------------------------------------------------------------\u001b[39m",
      "\u001b[31mNameError\u001b[39m                                 Traceback (most recent call last)",
      "\u001b[36mCell\u001b[39m\u001b[36m \u001b[39m\u001b[32mIn[19]\u001b[39m\u001b[32m, line 1\u001b[39m\n\u001b[32m----> \u001b[39m\u001b[32m1\u001b[39m \u001b[38;5;28mtype\u001b[39m(weather_details[\u001b[43mweather\u001b[49m])\n",
      "\u001b[31mNameError\u001b[39m: name 'weather' is not defined"
     ]
    }
   ],
   "source": [
    "type(weather_details[weather])"
   ]
  },
  {
   "cell_type": "code",
   "execution_count": null,
   "id": "ed2224a9-8dbc-4ba6-afaa-bb3aec098873",
   "metadata": {},
   "outputs": [],
   "source": []
  }
 ],
 "metadata": {
  "kernelspec": {
   "display_name": "Python 3 (ipykernel)",
   "language": "python",
   "name": "python3"
  },
  "language_info": {
   "codemirror_mode": {
    "name": "ipython",
    "version": 3
   },
   "file_extension": ".py",
   "mimetype": "text/x-python",
   "name": "python",
   "nbconvert_exporter": "python",
   "pygments_lexer": "ipython3",
   "version": "3.13.3"
  }
 },
 "nbformat": 4,
 "nbformat_minor": 5
}
