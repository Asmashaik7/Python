{
 "cells": [
  {
   "cell_type": "code",
   "execution_count": 1,
   "id": "667c17a0-a74c-4050-810a-7214b602a269",
   "metadata": {},
   "outputs": [],
   "source": [
    "#count no of occurances of 'S', 'R','I','s'\n",
    "#divide entire data into letters\n",
    "#how many letters are there whic r not above"
   ]
  },
  {
   "cell_type": "code",
   "execution_count": 4,
   "id": "0cdae37e-9999-4f22-8186-fc08a4be6901",
   "metadata": {},
   "outputs": [
    {
     "name": "stdout",
     "output_type": "stream",
     "text": [
      "['t', 'h', 'i', 's', ' ', 'i', 's', ' ', 'b', 'e', 'a', 'u', 't', 'i', 'f', 'u', 'l', ' ', 'l', 'i', 'f', 'e', ',', ' ', 'h', 'i', 'i', 'i', ' ', 't', 'h', 'e', 'r', 'e', ',', ' ', 'I', 'm', ' ', 'a', 's', 'm', 'a', ' ', 's', 'h', 'a', 'i', 'k', '.', ' ', 'h', 'o', 'w', ' ', 'a', 'r', 'e', ' ', 'y', 'o', 'u']\n"
     ]
    }
   ],
   "source": [
    "text=print(list(\"this is beautiful life, hiii there, Im asma shaik. how are you\"))"
   ]
  },
  {
   "cell_type": "code",
   "execution_count": 5,
   "id": "2cd40c36-ddf0-44a1-9331-67ce0eedf0d0",
   "metadata": {},
   "outputs": [
    {
     "ename": "AttributeError",
     "evalue": "'NoneType' object has no attribute 'split'",
     "output_type": "error",
     "traceback": [
      "\u001b[31m---------------------------------------------------------------------------\u001b[39m",
      "\u001b[31mAttributeError\u001b[39m                            Traceback (most recent call last)",
      "\u001b[36mCell\u001b[39m\u001b[36m \u001b[39m\u001b[32mIn[5]\u001b[39m\u001b[32m, line 1\u001b[39m\n\u001b[32m----> \u001b[39m\u001b[32m1\u001b[39m \u001b[43mtext\u001b[49m\u001b[43m.\u001b[49m\u001b[43msplit\u001b[49m(\u001b[33m'\u001b[39m\u001b[38;5;130;01m\\n\u001b[39;00m\u001b[33m'\u001b[39m)\n",
      "\u001b[31mAttributeError\u001b[39m: 'NoneType' object has no attribute 'split'"
     ]
    }
   ],
   "source": [
    "text.split('\\n')"
   ]
  },
  {
   "cell_type": "code",
   "execution_count": 6,
   "id": "1061584a-7db0-49e5-b6dc-0aff8d51a394",
   "metadata": {},
   "outputs": [
    {
     "data": {
      "text/plain": [
       "list['apple']"
      ]
     },
     "execution_count": 6,
     "metadata": {},
     "output_type": "execute_result"
    }
   ],
   "source": [
    "list['apple']"
   ]
  },
  {
   "cell_type": "code",
   "execution_count": 7,
   "id": "edcfe872-cfdb-4034-a0a6-9488b6fa1163",
   "metadata": {},
   "outputs": [
    {
     "ename": "AttributeError",
     "evalue": "'NoneType' object has no attribute 'split'",
     "output_type": "error",
     "traceback": [
      "\u001b[31m---------------------------------------------------------------------------\u001b[39m",
      "\u001b[31mAttributeError\u001b[39m                            Traceback (most recent call last)",
      "\u001b[36mCell\u001b[39m\u001b[36m \u001b[39m\u001b[32mIn[7]\u001b[39m\u001b[32m, line 1\u001b[39m\n\u001b[32m----> \u001b[39m\u001b[32m1\u001b[39m \u001b[43mtext\u001b[49m\u001b[43m.\u001b[49m\u001b[43msplit\u001b[49m(\u001b[33m'\u001b[39m\u001b[38;5;130;01m\\n\u001b[39;00m\u001b[33m'\u001b[39m)\n",
      "\u001b[31mAttributeError\u001b[39m: 'NoneType' object has no attribute 'split'"
     ]
    }
   ],
   "source": [
    "text.split('\\n')"
   ]
  },
  {
   "cell_type": "code",
   "execution_count": 8,
   "id": "21b0f39f-e583-45a6-93c5-4807add35e68",
   "metadata": {},
   "outputs": [],
   "source": [
    "import requests"
   ]
  },
  {
   "cell_type": "code",
   "execution_count": 9,
   "id": "fdae44c1-53f2-46ca-867c-23015908a4e4",
   "metadata": {},
   "outputs": [],
   "source": [
    "url=\"http://raw.githubusercontent.com/srisreedhar/DataSets/refs/heads/master/animal_sleeptime_ggplot2.csv\""
   ]
  },
  {
   "cell_type": "code",
   "execution_count": 10,
   "id": "6c3eadf4-5848-47de-afef-a6f284ab6e68",
   "metadata": {},
   "outputs": [],
   "source": [
    "resp=requests.get(url)"
   ]
  },
  {
   "cell_type": "code",
   "execution_count": 11,
   "id": "bf45e345-f06f-414e-a7bf-141081b6f7cd",
   "metadata": {},
   "outputs": [
    {
     "data": {
      "text/plain": [
       "<Response [200]>"
      ]
     },
     "execution_count": 11,
     "metadata": {},
     "output_type": "execute_result"
    }
   ],
   "source": [
    "resp"
   ]
  },
  {
   "cell_type": "code",
   "execution_count": 12,
   "id": "cc83f006-72fa-4113-a9a4-2ca1a754a8e1",
   "metadata": {},
   "outputs": [],
   "source": [
    "txt=resp.text"
   ]
  },
  {
   "cell_type": "code",
   "execution_count": 13,
   "id": "d39d39c0-94d6-4da8-93f1-f75eb1857c6f",
   "metadata": {},
   "outputs": [
    {
     "data": {
      "text/plain": [
       "'name,genus,vore,order,conservation,sleep_total,sleep_rem,sleep_cycle,awake,brainwt,bodywt\\nCheetah,Acinonyx,carni,Carnivora,lc,12.1,NA,NA,11.9,NA,50\\nOwl monkey,Aotus,omni,Primates,NA,17,1.8,NA,7,0.0155,0.48\\nMountain beaver,Aplodontia,herbi,Rodentia,nt,14.4,2.4,NA,9.6,NA,1.35\\nGreater short-tailed shrew,Blarina,omni,Soricomorpha,lc,14.9,2.3,0.133333333,9.1,0.00029,0.019\\nCow,Bos,herbi,Artiodactyla,domesticated,4,0.7,0.666666667,20,0.423,600\\nThree-toed sloth,Bradypus,herbi,Pilosa,NA,14.4,2.2,0.766666667,9.6,NA,3.85\\nNorthern fur seal,Callorhinus,carni,Carnivora,vu,8.7,1.4,0.383333333,15.3,NA,20.49\\nVesper mouse,Calomys,NA,Rodentia,NA,7,NA,NA,17,NA,0.045\\nDog,Canis,carni,Carnivora,domesticated,10.1,2.9,0.333333333,13.9,0.07,14\\nRoe deer,Capreolus,herbi,Artiodactyla,lc,3,NA,NA,21,0.0982,14.8\\nGoat,Capri,herbi,Artiodactyla,lc,5.3,0.6,NA,18.7,0.115,33.5\\nGuinea pig,Cavis,herbi,Rodentia,domesticated,9.4,0.8,0.216666667,14.6,0.0055,0.728\\nGrivet,Cercopithecus,omni,Primates,lc,10,0.7,NA,14,NA,4.75\\nChinchilla,Chinchilla,herbi,Rodentia,domesticated,12.5,1.5,0.116666667,11.5,0.0064,0.42\\nStar-nosed mole,Condylura,omni,Soricomorpha,lc,10.3,2.2,NA,13.7,0.001,0.06\\nAfrican giant pouched rat,Cricetomys,omni,Rodentia,NA,8.3,2,NA,15.7,0.0066,1\\nLesser short-tailed shrew,Cryptotis,omni,Soricomorpha,lc,9.1,1.4,0.15,14.9,0.00014,0.005\\nLong-nosed armadillo,Dasypus,carni,Cingulata,lc,17.4,3.1,0.383333333,6.6,0.0108,3.5\\nTree hyrax,Dendrohyrax,herbi,Hyracoidea,lc,5.3,0.5,NA,18.7,0.0123,2.95\\nNorth American Opossum,Didelphis,omni,Didelphimorphia,lc,18,4.9,0.333333333,6,0.0063,1.7\\nAsian elephant,Elephas,herbi,Proboscidea,en,3.9,NA,NA,20.1,4.603,2547\\nBig brown bat,Eptesicus,insecti,Chiroptera,lc,19.7,3.9,0.116666667,4.3,3e-04,0.023\\nHorse,Equus,herbi,Perissodactyla,domesticated,2.9,0.6,1,21.1,0.655,521\\nDonkey,Equus,herbi,Perissodactyla,domesticated,3.1,0.4,NA,20.9,0.419,187\\nEuropean hedgehog,Erinaceus,omni,Erinaceomorpha,lc,10.1,3.5,0.283333333,13.9,0.0035,0.77\\nPatas monkey,Erythrocebus,omni,Primates,lc,10.9,1.1,NA,13.1,0.115,10\\nWestern american chipmunk,Eutamias,herbi,Rodentia,NA,14.9,NA,NA,9.1,NA,0.071\\nDomestic cat,Felis,carni,Carnivora,domesticated,12.5,3.2,0.416666667,11.5,0.0256,3.3\\nGalago,Galago,omni,Primates,NA,9.8,1.1,0.55,14.2,0.005,0.2\\nGiraffe,Giraffa,herbi,Artiodactyla,cd,1.9,0.4,NA,22.1,NA,899.995\\nPilot whale,Globicephalus,carni,Cetacea,cd,2.7,0.1,NA,21.35,NA,800\\nGray seal,Haliochoerus,carni,Carnivora,lc,6.2,1.5,NA,17.8,0.325,85\\nGray hyrax,Heterohyrax,herbi,Hyracoidea,lc,6.3,0.6,NA,17.7,0.01227,2.625\\nHuman,Homo,omni,Primates,NA,8,1.9,1.5,16,1.32,62\\nMongoose lemur,Lemur,herbi,Primates,vu,9.5,0.9,NA,14.5,NA,1.67\\nAfrican elephant,Loxodonta,herbi,Proboscidea,vu,3.3,NA,NA,20.7,5.712,6654\\nThick-tailed opposum,Lutreolina,carni,Didelphimorphia,lc,19.4,6.6,NA,4.6,NA,0.37\\nMacaque,Macaca,omni,Primates,NA,10.1,1.2,0.75,13.9,0.179,6.8\\nMongolian gerbil,Meriones,herbi,Rodentia,lc,14.2,1.9,NA,9.8,NA,0.053\\nGolden hamster,Mesocricetus,herbi,Rodentia,en,14.3,3.1,0.2,9.7,0.001,0.12\\nVole ,Microtus,herbi,Rodentia,NA,12.8,NA,NA,11.2,NA,0.035\\nHouse mouse,Mus,herbi,Rodentia,nt,12.5,1.4,0.183333333,11.5,4e-04,0.022\\nLittle brown bat,Myotis,insecti,Chiroptera,NA,19.9,2,0.2,4.1,0.00025,0.01\\nRound-tailed muskrat,Neofiber,herbi,Rodentia,nt,14.6,NA,NA,9.4,NA,0.266\\nSlow loris,Nyctibeus,carni,Primates,NA,11,NA,NA,13,0.0125,1.4\\nDegu,Octodon,herbi,Rodentia,lc,7.7,0.9,NA,16.3,NA,0.21\\nNorthern grasshopper mouse,Onychomys,carni,Rodentia,lc,14.5,NA,NA,9.5,NA,0.028\\nRabbit,Oryctolagus,herbi,Lagomorpha,domesticated,8.4,0.9,0.416666667,15.6,0.0121,2.5\\nSheep,Ovis,herbi,Artiodactyla,domesticated,3.8,0.6,NA,20.2,0.175,55.5\\nChimpanzee,Pan,omni,Primates,NA,9.7,1.4,1.416666667,14.3,0.44,52.2\\nTiger,Panthera,carni,Carnivora,en,15.8,NA,NA,8.2,NA,162.564\\nJaguar,Panthera,carni,Carnivora,nt,10.4,NA,NA,13.6,0.157,100\\nLion,Panthera,carni,Carnivora,vu,13.5,NA,NA,10.5,NA,161.499\\nBaboon,Papio,omni,Primates,NA,9.4,1,0.666666667,14.6,0.18,25.235\\nDesert hedgehog,Paraechinus,NA,Erinaceomorpha,lc,10.3,2.7,NA,13.7,0.0024,0.55\\nPotto,Perodicticus,omni,Primates,lc,11,NA,NA,13,NA,1.1\\nDeer mouse,Peromyscus,NA,Rodentia,NA,11.5,NA,NA,12.5,NA,0.021\\nPhalanger,Phalanger,NA,Diprotodontia,NA,13.7,1.8,NA,10.3,0.0114,1.62\\nCaspian seal,Phoca,carni,Carnivora,vu,3.5,0.4,NA,20.5,NA,86\\nCommon porpoise,Phocoena,carni,Cetacea,vu,5.6,NA,NA,18.45,NA,53.18\\nPotoroo,Potorous,herbi,Diprotodontia,NA,11.1,1.5,NA,12.9,NA,1.1\\nGiant armadillo,Priodontes,insecti,Cingulata,en,18.1,6.1,NA,5.9,0.081,60\\nRock hyrax,Procavia,NA,Hyracoidea,lc,5.4,0.5,NA,18.6,0.021,3.6\\nLaboratory rat,Rattus,herbi,Rodentia,lc,13,2.4,0.183333333,11,0.0019,0.32\\nAfrican striped mouse,Rhabdomys,omni,Rodentia,NA,8.7,NA,NA,15.3,NA,0.044\\nSquirrel monkey,Saimiri,omni,Primates,NA,9.6,1.4,NA,14.4,0.02,0.743\\nEastern american mole,Scalopus,insecti,Soricomorpha,lc,8.4,2.1,0.166666667,15.6,0.0012,0.075\\nCotton rat,Sigmodon,herbi,Rodentia,NA,11.3,1.1,0.15,12.7,0.00118,0.148\\nMole rat,Spalax,NA,Rodentia,NA,10.6,2.4,NA,13.4,0.003,0.122\\nArctic ground squirrel,Spermophilus,herbi,Rodentia,lc,16.6,NA,NA,7.4,0.0057,0.92\\nThirteen-lined ground squirrel,Spermophilus,herbi,Rodentia,lc,13.8,3.4,0.216666667,10.2,0.004,0.101\\nGolden-mantled ground squirrel,Spermophilus,herbi,Rodentia,lc,15.9,3,NA,8.1,NA,0.205\\nMusk shrew,Suncus,NA,Soricomorpha,NA,12.8,2,0.183333333,11.2,0.00033,0.048\\nPig,Sus,omni,Artiodactyla,domesticated,9.1,2.4,0.5,14.9,0.18,86.25\\nShort-nosed echidna,Tachyglossus,insecti,Monotremata,NA,8.6,NA,NA,15.4,0.025,4.5\\nEastern american chipmunk,Tamias,herbi,Rodentia,NA,15.8,NA,NA,8.2,NA,0.112\\nBrazilian tapir,Tapirus,herbi,Perissodactyla,vu,4.4,1,0.9,19.6,0.169,207.501\\nTenrec,Tenrec,omni,Afrosoricida,NA,15.6,2.3,NA,8.4,0.0026,0.9\\nTree shrew,Tupaia,omni,Scandentia,NA,8.9,2.6,0.233333333,15.1,0.0025,0.104\\nBottle-nosed dolphin,Tursiops,carni,Cetacea,NA,5.2,NA,NA,18.8,NA,173.33\\nGenet,Genetta,carni,Carnivora,NA,6.3,1.3,NA,17.7,0.0175,2\\nArctic fox,Vulpes,carni,Carnivora,NA,12.5,NA,NA,11.5,0.0445,3.38\\nRed fox,Vulpes,carni,Carnivora,NA,9.8,2.4,0.35,14.2,0.0504,4.23\\n'"
      ]
     },
     "execution_count": 13,
     "metadata": {},
     "output_type": "execute_result"
    }
   ],
   "source": [
    "txt"
   ]
  },
  {
   "cell_type": "code",
   "execution_count": 14,
   "id": "5e3dca60-fb93-436b-a437-a62e29277e16",
   "metadata": {},
   "outputs": [
    {
     "ename": "AttributeError",
     "evalue": "'Response' object has no attribute 'conent'",
     "output_type": "error",
     "traceback": [
      "\u001b[31m---------------------------------------------------------------------------\u001b[39m",
      "\u001b[31mAttributeError\u001b[39m                            Traceback (most recent call last)",
      "\u001b[36mCell\u001b[39m\u001b[36m \u001b[39m\u001b[32mIn[14]\u001b[39m\u001b[32m, line 1\u001b[39m\n\u001b[32m----> \u001b[39m\u001b[32m1\u001b[39m cnt=\u001b[43mresp\u001b[49m\u001b[43m.\u001b[49m\u001b[43mconent\u001b[49m\n",
      "\u001b[31mAttributeError\u001b[39m: 'Response' object has no attribute 'conent'"
     ]
    }
   ],
   "source": [
    "cnt=resp.conent"
   ]
  },
  {
   "cell_type": "code",
   "execution_count": 15,
   "id": "a77861ad-90a8-40c8-9ec4-04dbfdf6ee84",
   "metadata": {},
   "outputs": [],
   "source": [
    "cntt=resp.content"
   ]
  },
  {
   "cell_type": "code",
   "execution_count": 16,
   "id": "5c99d4bb-fde3-483c-8637-5c263202c71c",
   "metadata": {},
   "outputs": [
    {
     "data": {
      "text/plain": [
       "b'name,genus,vore,order,conservation,sleep_total,sleep_rem,sleep_cycle,awake,brainwt,bodywt\\nCheetah,Acinonyx,carni,Carnivora,lc,12.1,NA,NA,11.9,NA,50\\nOwl monkey,Aotus,omni,Primates,NA,17,1.8,NA,7,0.0155,0.48\\nMountain beaver,Aplodontia,herbi,Rodentia,nt,14.4,2.4,NA,9.6,NA,1.35\\nGreater short-tailed shrew,Blarina,omni,Soricomorpha,lc,14.9,2.3,0.133333333,9.1,0.00029,0.019\\nCow,Bos,herbi,Artiodactyla,domesticated,4,0.7,0.666666667,20,0.423,600\\nThree-toed sloth,Bradypus,herbi,Pilosa,NA,14.4,2.2,0.766666667,9.6,NA,3.85\\nNorthern fur seal,Callorhinus,carni,Carnivora,vu,8.7,1.4,0.383333333,15.3,NA,20.49\\nVesper mouse,Calomys,NA,Rodentia,NA,7,NA,NA,17,NA,0.045\\nDog,Canis,carni,Carnivora,domesticated,10.1,2.9,0.333333333,13.9,0.07,14\\nRoe deer,Capreolus,herbi,Artiodactyla,lc,3,NA,NA,21,0.0982,14.8\\nGoat,Capri,herbi,Artiodactyla,lc,5.3,0.6,NA,18.7,0.115,33.5\\nGuinea pig,Cavis,herbi,Rodentia,domesticated,9.4,0.8,0.216666667,14.6,0.0055,0.728\\nGrivet,Cercopithecus,omni,Primates,lc,10,0.7,NA,14,NA,4.75\\nChinchilla,Chinchilla,herbi,Rodentia,domesticated,12.5,1.5,0.116666667,11.5,0.0064,0.42\\nStar-nosed mole,Condylura,omni,Soricomorpha,lc,10.3,2.2,NA,13.7,0.001,0.06\\nAfrican giant pouched rat,Cricetomys,omni,Rodentia,NA,8.3,2,NA,15.7,0.0066,1\\nLesser short-tailed shrew,Cryptotis,omni,Soricomorpha,lc,9.1,1.4,0.15,14.9,0.00014,0.005\\nLong-nosed armadillo,Dasypus,carni,Cingulata,lc,17.4,3.1,0.383333333,6.6,0.0108,3.5\\nTree hyrax,Dendrohyrax,herbi,Hyracoidea,lc,5.3,0.5,NA,18.7,0.0123,2.95\\nNorth American Opossum,Didelphis,omni,Didelphimorphia,lc,18,4.9,0.333333333,6,0.0063,1.7\\nAsian elephant,Elephas,herbi,Proboscidea,en,3.9,NA,NA,20.1,4.603,2547\\nBig brown bat,Eptesicus,insecti,Chiroptera,lc,19.7,3.9,0.116666667,4.3,3e-04,0.023\\nHorse,Equus,herbi,Perissodactyla,domesticated,2.9,0.6,1,21.1,0.655,521\\nDonkey,Equus,herbi,Perissodactyla,domesticated,3.1,0.4,NA,20.9,0.419,187\\nEuropean hedgehog,Erinaceus,omni,Erinaceomorpha,lc,10.1,3.5,0.283333333,13.9,0.0035,0.77\\nPatas monkey,Erythrocebus,omni,Primates,lc,10.9,1.1,NA,13.1,0.115,10\\nWestern american chipmunk,Eutamias,herbi,Rodentia,NA,14.9,NA,NA,9.1,NA,0.071\\nDomestic cat,Felis,carni,Carnivora,domesticated,12.5,3.2,0.416666667,11.5,0.0256,3.3\\nGalago,Galago,omni,Primates,NA,9.8,1.1,0.55,14.2,0.005,0.2\\nGiraffe,Giraffa,herbi,Artiodactyla,cd,1.9,0.4,NA,22.1,NA,899.995\\nPilot whale,Globicephalus,carni,Cetacea,cd,2.7,0.1,NA,21.35,NA,800\\nGray seal,Haliochoerus,carni,Carnivora,lc,6.2,1.5,NA,17.8,0.325,85\\nGray hyrax,Heterohyrax,herbi,Hyracoidea,lc,6.3,0.6,NA,17.7,0.01227,2.625\\nHuman,Homo,omni,Primates,NA,8,1.9,1.5,16,1.32,62\\nMongoose lemur,Lemur,herbi,Primates,vu,9.5,0.9,NA,14.5,NA,1.67\\nAfrican elephant,Loxodonta,herbi,Proboscidea,vu,3.3,NA,NA,20.7,5.712,6654\\nThick-tailed opposum,Lutreolina,carni,Didelphimorphia,lc,19.4,6.6,NA,4.6,NA,0.37\\nMacaque,Macaca,omni,Primates,NA,10.1,1.2,0.75,13.9,0.179,6.8\\nMongolian gerbil,Meriones,herbi,Rodentia,lc,14.2,1.9,NA,9.8,NA,0.053\\nGolden hamster,Mesocricetus,herbi,Rodentia,en,14.3,3.1,0.2,9.7,0.001,0.12\\nVole ,Microtus,herbi,Rodentia,NA,12.8,NA,NA,11.2,NA,0.035\\nHouse mouse,Mus,herbi,Rodentia,nt,12.5,1.4,0.183333333,11.5,4e-04,0.022\\nLittle brown bat,Myotis,insecti,Chiroptera,NA,19.9,2,0.2,4.1,0.00025,0.01\\nRound-tailed muskrat,Neofiber,herbi,Rodentia,nt,14.6,NA,NA,9.4,NA,0.266\\nSlow loris,Nyctibeus,carni,Primates,NA,11,NA,NA,13,0.0125,1.4\\nDegu,Octodon,herbi,Rodentia,lc,7.7,0.9,NA,16.3,NA,0.21\\nNorthern grasshopper mouse,Onychomys,carni,Rodentia,lc,14.5,NA,NA,9.5,NA,0.028\\nRabbit,Oryctolagus,herbi,Lagomorpha,domesticated,8.4,0.9,0.416666667,15.6,0.0121,2.5\\nSheep,Ovis,herbi,Artiodactyla,domesticated,3.8,0.6,NA,20.2,0.175,55.5\\nChimpanzee,Pan,omni,Primates,NA,9.7,1.4,1.416666667,14.3,0.44,52.2\\nTiger,Panthera,carni,Carnivora,en,15.8,NA,NA,8.2,NA,162.564\\nJaguar,Panthera,carni,Carnivora,nt,10.4,NA,NA,13.6,0.157,100\\nLion,Panthera,carni,Carnivora,vu,13.5,NA,NA,10.5,NA,161.499\\nBaboon,Papio,omni,Primates,NA,9.4,1,0.666666667,14.6,0.18,25.235\\nDesert hedgehog,Paraechinus,NA,Erinaceomorpha,lc,10.3,2.7,NA,13.7,0.0024,0.55\\nPotto,Perodicticus,omni,Primates,lc,11,NA,NA,13,NA,1.1\\nDeer mouse,Peromyscus,NA,Rodentia,NA,11.5,NA,NA,12.5,NA,0.021\\nPhalanger,Phalanger,NA,Diprotodontia,NA,13.7,1.8,NA,10.3,0.0114,1.62\\nCaspian seal,Phoca,carni,Carnivora,vu,3.5,0.4,NA,20.5,NA,86\\nCommon porpoise,Phocoena,carni,Cetacea,vu,5.6,NA,NA,18.45,NA,53.18\\nPotoroo,Potorous,herbi,Diprotodontia,NA,11.1,1.5,NA,12.9,NA,1.1\\nGiant armadillo,Priodontes,insecti,Cingulata,en,18.1,6.1,NA,5.9,0.081,60\\nRock hyrax,Procavia,NA,Hyracoidea,lc,5.4,0.5,NA,18.6,0.021,3.6\\nLaboratory rat,Rattus,herbi,Rodentia,lc,13,2.4,0.183333333,11,0.0019,0.32\\nAfrican striped mouse,Rhabdomys,omni,Rodentia,NA,8.7,NA,NA,15.3,NA,0.044\\nSquirrel monkey,Saimiri,omni,Primates,NA,9.6,1.4,NA,14.4,0.02,0.743\\nEastern american mole,Scalopus,insecti,Soricomorpha,lc,8.4,2.1,0.166666667,15.6,0.0012,0.075\\nCotton rat,Sigmodon,herbi,Rodentia,NA,11.3,1.1,0.15,12.7,0.00118,0.148\\nMole rat,Spalax,NA,Rodentia,NA,10.6,2.4,NA,13.4,0.003,0.122\\nArctic ground squirrel,Spermophilus,herbi,Rodentia,lc,16.6,NA,NA,7.4,0.0057,0.92\\nThirteen-lined ground squirrel,Spermophilus,herbi,Rodentia,lc,13.8,3.4,0.216666667,10.2,0.004,0.101\\nGolden-mantled ground squirrel,Spermophilus,herbi,Rodentia,lc,15.9,3,NA,8.1,NA,0.205\\nMusk shrew,Suncus,NA,Soricomorpha,NA,12.8,2,0.183333333,11.2,0.00033,0.048\\nPig,Sus,omni,Artiodactyla,domesticated,9.1,2.4,0.5,14.9,0.18,86.25\\nShort-nosed echidna,Tachyglossus,insecti,Monotremata,NA,8.6,NA,NA,15.4,0.025,4.5\\nEastern american chipmunk,Tamias,herbi,Rodentia,NA,15.8,NA,NA,8.2,NA,0.112\\nBrazilian tapir,Tapirus,herbi,Perissodactyla,vu,4.4,1,0.9,19.6,0.169,207.501\\nTenrec,Tenrec,omni,Afrosoricida,NA,15.6,2.3,NA,8.4,0.0026,0.9\\nTree shrew,Tupaia,omni,Scandentia,NA,8.9,2.6,0.233333333,15.1,0.0025,0.104\\nBottle-nosed dolphin,Tursiops,carni,Cetacea,NA,5.2,NA,NA,18.8,NA,173.33\\nGenet,Genetta,carni,Carnivora,NA,6.3,1.3,NA,17.7,0.0175,2\\nArctic fox,Vulpes,carni,Carnivora,NA,12.5,NA,NA,11.5,0.0445,3.38\\nRed fox,Vulpes,carni,Carnivora,NA,9.8,2.4,0.35,14.2,0.0504,4.23\\n'"
      ]
     },
     "execution_count": 16,
     "metadata": {},
     "output_type": "execute_result"
    }
   ],
   "source": [
    "cntt"
   ]
  },
  {
   "cell_type": "code",
   "execution_count": 17,
   "id": "0e5841c0-33e5-4268-9a5c-4731d05852c5",
   "metadata": {},
   "outputs": [
    {
     "data": {
      "text/plain": [
       "['a', 'p', 'p', 'l', 'e']"
      ]
     },
     "execution_count": 17,
     "metadata": {},
     "output_type": "execute_result"
    }
   ],
   "source": [
    "list('apple')"
   ]
  },
  {
   "cell_type": "code",
   "execution_count": 18,
   "id": "f4d0feb7-2c67-4953-8aec-fec9b3f27301",
   "metadata": {},
   "outputs": [
    {
     "data": {
      "text/plain": [
       "['h',\n",
       " 'i',\n",
       " 'i',\n",
       " 'i',\n",
       " ' ',\n",
       " 'h',\n",
       " ' ',\n",
       " 'r',\n",
       " ' ',\n",
       " 'u',\n",
       " ',',\n",
       " ' ',\n",
       " 'h',\n",
       " 'o',\n",
       " 'w',\n",
       " ' ',\n",
       " 'd',\n",
       " 'o',\n",
       " ' ',\n",
       " 'u',\n",
       " ' ',\n",
       " 'd',\n",
       " 'o',\n",
       " ',',\n",
       " ' ',\n",
       " 'h',\n",
       " 'o',\n",
       " 'p',\n",
       " 'e',\n",
       " ' ',\n",
       " 'r',\n",
       " ' ',\n",
       " 'u',\n",
       " ' ',\n",
       " 'g',\n",
       " 'o',\n",
       " 'o',\n",
       " 'd',\n",
       " '.']"
      ]
     },
     "execution_count": 18,
     "metadata": {},
     "output_type": "execute_result"
    }
   ],
   "source": [
    "list(\"hiii h r u, how do u do, hope r u good.\")"
   ]
  },
  {
   "cell_type": "code",
   "execution_count": 19,
   "id": "fbbec91c-097b-43eb-b027-a81950c55ff5",
   "metadata": {},
   "outputs": [
    {
     "ename": "SyntaxError",
     "evalue": "unterminated string literal (detected at line 1) (1991391928.py, line 1)",
     "output_type": "error",
     "traceback": [
      "  \u001b[36mCell\u001b[39m\u001b[36m \u001b[39m\u001b[32mIn[19]\u001b[39m\u001b[32m, line 1\u001b[39m\n\u001b[31m    \u001b[39m\u001b[31mprint(list('hii h r u, hope you are good\"))\u001b[39m\n               ^\n\u001b[31mSyntaxError\u001b[39m\u001b[31m:\u001b[39m unterminated string literal (detected at line 1)\n"
     ]
    }
   ],
   "source": [
    "print(list('hii h r u, hope you are good\"))"
   ]
  },
  {
   "cell_type": "code",
   "execution_count": 20,
   "id": "ce8bc8b1-7c46-4831-a290-bb7b1bec9635",
   "metadata": {},
   "outputs": [
    {
     "ename": "TypeError",
     "evalue": "'NoneType' object is not iterable",
     "output_type": "error",
     "traceback": [
      "\u001b[31m---------------------------------------------------------------------------\u001b[39m",
      "\u001b[31mTypeError\u001b[39m                                 Traceback (most recent call last)",
      "\u001b[36mCell\u001b[39m\u001b[36m \u001b[39m\u001b[32mIn[20]\u001b[39m\u001b[32m, line 1\u001b[39m\n\u001b[32m----> \u001b[39m\u001b[32m1\u001b[39m \u001b[38;5;28mprint\u001b[39m(\u001b[38;5;28;43mlist\u001b[39;49m\u001b[43m(\u001b[49m\u001b[43mtext\u001b[49m\u001b[43m)\u001b[49m)\n",
      "\u001b[31mTypeError\u001b[39m: 'NoneType' object is not iterable"
     ]
    }
   ],
   "source": [
    "print(list(text))"
   ]
  },
  {
   "cell_type": "code",
   "execution_count": 21,
   "id": "a3364320-ef90-462c-9f2a-e37b19f8a964",
   "metadata": {},
   "outputs": [
    {
     "ename": "SyntaxError",
     "evalue": "Missing parentheses in call to 'print'. Did you mean print(...)? (880449826.py, line 1)",
     "output_type": "error",
     "traceback": [
      "  \u001b[36mCell\u001b[39m\u001b[36m \u001b[39m\u001b[32mIn[21]\u001b[39m\u001b[32m, line 1\u001b[39m\n\u001b[31m    \u001b[39m\u001b[31mprint list(text)\u001b[39m\n    ^\n\u001b[31mSyntaxError\u001b[39m\u001b[31m:\u001b[39m Missing parentheses in call to 'print'. Did you mean print(...)?\n"
     ]
    }
   ],
   "source": [
    "print list(text)"
   ]
  },
  {
   "cell_type": "code",
   "execution_count": 22,
   "id": "f643ce44-fa42-4d14-ad77-dc6a05d6e77a",
   "metadata": {},
   "outputs": [
    {
     "name": "stdout",
     "output_type": "stream",
     "text": [
      "None\n"
     ]
    }
   ],
   "source": [
    "print(text)"
   ]
  },
  {
   "cell_type": "code",
   "execution_count": 24,
   "id": "638eb364-910a-4b20-a483-053d56389383",
   "metadata": {},
   "outputs": [
    {
     "data": {
      "text/plain": [
       "['h',\n",
       " 'i',\n",
       " 'i',\n",
       " ' ',\n",
       " 'h',\n",
       " ' ',\n",
       " 'r',\n",
       " ' ',\n",
       " 'u',\n",
       " ',',\n",
       " ' ',\n",
       " 'h',\n",
       " 'o',\n",
       " 'p',\n",
       " 'e',\n",
       " ' ',\n",
       " 'y',\n",
       " 'o',\n",
       " 'u',\n",
       " ' ',\n",
       " 'a',\n",
       " 'r',\n",
       " 'e',\n",
       " ' ',\n",
       " 'g',\n",
       " 'o',\n",
       " 'o',\n",
       " 'd']"
      ]
     },
     "execution_count": 24,
     "metadata": {},
     "output_type": "execute_result"
    }
   ],
   "source": [
    "list(\"hii h r u, hope you are good\")"
   ]
  },
  {
   "cell_type": "code",
   "execution_count": 25,
   "id": "5140347b-f486-4dba-a5a4-c9368722abd9",
   "metadata": {},
   "outputs": [
    {
     "data": {
      "text/plain": [
       "['a', 'p', 'p', 'l', 'e', ' ', 'a', 'n', 't']"
      ]
     },
     "execution_count": 25,
     "metadata": {},
     "output_type": "execute_result"
    }
   ],
   "source": [
    "list(\"apple ant\")"
   ]
  },
  {
   "cell_type": "code",
   "execution_count": 26,
   "id": "c45f99be-17ed-4c19-a825-b0733a1ee090",
   "metadata": {},
   "outputs": [
    {
     "data": {
      "text/plain": [
       "['h', 'i', ' ', 'h', 'o', 'w', ' ', 'a', 'r', 'e', ' ', 'y', 'o', 'u']"
      ]
     },
     "execution_count": 26,
     "metadata": {},
     "output_type": "execute_result"
    }
   ],
   "source": [
    "list(\"hi how are you\")"
   ]
  },
  {
   "cell_type": "code",
   "execution_count": 27,
   "id": "3633c735-8a8f-4478-a03b-7c8062ede7e5",
   "metadata": {},
   "outputs": [
    {
     "data": {
      "text/plain": [
       "['h',\n",
       " 'i',\n",
       " ' ',\n",
       " 'h',\n",
       " 'o',\n",
       " 'w',\n",
       " ' ',\n",
       " 'a',\n",
       " 'r',\n",
       " 'e',\n",
       " ' ',\n",
       " 'y',\n",
       " 'o',\n",
       " 'u',\n",
       " '.',\n",
       " 'I',\n",
       " 'm',\n",
       " ' ',\n",
       " 'f',\n",
       " 'i',\n",
       " 'n',\n",
       " 'e',\n",
       " ',',\n",
       " ' ',\n",
       " 't',\n",
       " 'h',\n",
       " 'a',\n",
       " 'n',\n",
       " 'k',\n",
       " ' ',\n",
       " 'y',\n",
       " 'o',\n",
       " 'u',\n",
       " '.',\n",
       " 'T',\n",
       " 'h',\n",
       " 'i',\n",
       " 's',\n",
       " ' ',\n",
       " 'i',\n",
       " 's',\n",
       " ' ',\n",
       " 'e',\n",
       " 'v',\n",
       " 'e',\n",
       " 'n',\n",
       " ' ',\n",
       " 'c',\n",
       " 'o',\n",
       " 'n',\n",
       " 's',\n",
       " 'i',\n",
       " 'd',\n",
       " 'e',\n",
       " 'r',\n",
       " 'i',\n",
       " 'n',\n",
       " 'g',\n",
       " ' ',\n",
       " 's',\n",
       " 'p',\n",
       " 'a',\n",
       " 'c',\n",
       " 'e',\n",
       " 's',\n",
       " ' ',\n",
       " 'i',\n",
       " 'n',\n",
       " ' ',\n",
       " 't',\n",
       " 'h',\n",
       " 'e',\n",
       " ' ',\n",
       " 's',\n",
       " 'e',\n",
       " 'n',\n",
       " 't',\n",
       " 'e',\n",
       " 'n',\n",
       " 'c',\n",
       " 'e',\n",
       " ' ',\n",
       " 'a',\n",
       " 'n',\n",
       " 'd',\n",
       " ' ',\n",
       " 's',\n",
       " 'p',\n",
       " 'l',\n",
       " 'i',\n",
       " 't',\n",
       " 't',\n",
       " 'i',\n",
       " 'n',\n",
       " 'g']"
      ]
     },
     "execution_count": 27,
     "metadata": {},
     "output_type": "execute_result"
    }
   ],
   "source": [
    "list(\"hi how are you.Im fine, thank you.This is even considering spaces in the sentence and splitting\")"
   ]
  },
  {
   "cell_type": "code",
   "execution_count": 28,
   "id": "9789e84e-23c6-4333-ba0b-e1a223fc4fd0",
   "metadata": {},
   "outputs": [],
   "source": [
    "count_S=0"
   ]
  },
  {
   "cell_type": "code",
   "execution_count": 29,
   "id": "f4df8083-31b1-4612-a158-5fb09805583d",
   "metadata": {},
   "outputs": [],
   "source": [
    "count_R=0"
   ]
  },
  {
   "cell_type": "code",
   "execution_count": 30,
   "id": "cb47e7e2-23ea-44b4-bd98-d75cb13a50aa",
   "metadata": {},
   "outputs": [],
   "source": [
    "count_I=0"
   ]
  },
  {
   "cell_type": "code",
   "execution_count": 44,
   "id": "71473af6-1c8b-47c8-a9c2-90440d761f20",
   "metadata": {},
   "outputs": [],
   "source": [
    "count_s=0"
   ]
  },
  {
   "cell_type": "code",
   "execution_count": 54,
   "id": "b128fd5c-8fc5-4a76-9c54-5b2e682dbd2c",
   "metadata": {},
   "outputs": [],
   "source": [
    "#count_others=0\n",
    "#count_all=0count_S=0\n",
    "#list1=list(\"hi how are you.Im fine, thank you.This is even considering spaces in the sentence and splitting\")"
   ]
  },
  {
   "cell_type": "code",
   "execution_count": 59,
   "id": "50654bd7-563a-4825-b564-d8ab1b6ae383",
   "metadata": {},
   "outputs": [],
   "source": [
    "for letter in list1:\n",
    "    count_all=count_all+1\n",
    "    if letter=='S':\n",
    "        count_S+=1\n",
    "    elif letter=='R':\n",
    "        count_R=count_R+1\n",
    "    elif letter=='I':\n",
    "        count_I=count_I+1\n",
    "    elif letter=='s':\n",
    "        count_s=count_s+1\n",
    "    else:\n",
    "        count_others+=1"
   ]
  },
  {
   "cell_type": "code",
   "execution_count": 60,
   "id": "3a3d372f-82ee-4444-86bf-bf2aecd4645c",
   "metadata": {},
   "outputs": [
    {
     "name": "stdout",
     "output_type": "stream",
     "text": [
      "S letters = 40 \n",
      "R letters = 58 \n",
      "I letters = 2 \n",
      "s letters = 308 \n",
      "Other letters = 174\n"
     ]
    }
   ],
   "source": [
    "print(\"S letters =\",count_S,\"\\n\" \"R letters =\",count_R,\"\\n\" \"I letters =\",count_I,\"\\n\" \"s letters =\",count_s,\"\\n\" \"Other letters =\",count_others)"
   ]
  },
  {
   "cell_type": "code",
   "execution_count": 61,
   "id": "114fcf38-87e7-4dd2-992f-e1dc5527e05d",
   "metadata": {},
   "outputs": [
    {
     "data": {
      "text/plain": [
       "'name,genus,vore,order,conservation,sleep_total,sleep_rem,sleep_cycle,awake,brainwt,bodywt\\nCheetah,Acinonyx,carni,Carnivora,lc,12.1,NA,NA,11.9,NA,50\\nOwl monkey,Aotus,omni,Primates,NA,17,1.8,NA,7,0.0155,0.48\\nMountain beaver,Aplodontia,herbi,Rodentia,nt,14.4,2.4,NA,9.6,NA,1.35\\nGreater short-tailed shrew,Blarina,omni,Soricomorpha,lc,14.9,2.3,0.133333333,9.1,0.00029,0.019\\nCow,Bos,herbi,Artiodactyla,domesticated,4,0.7,0.666666667,20,0.423,600\\nThree-toed sloth,Bradypus,herbi,Pilosa,NA,14.4,2.2,0.766666667,9.6,NA,3.85\\nNorthern fur seal,Callorhinus,carni,Carnivora,vu,8.7,1.4,0.383333333,15.3,NA,20.49\\nVesper mouse,Calomys,NA,Rodentia,NA,7,NA,NA,17,NA,0.045\\nDog,Canis,carni,Carnivora,domesticated,10.1,2.9,0.333333333,13.9,0.07,14\\nRoe deer,Capreolus,herbi,Artiodactyla,lc,3,NA,NA,21,0.0982,14.8\\nGoat,Capri,herbi,Artiodactyla,lc,5.3,0.6,NA,18.7,0.115,33.5\\nGuinea pig,Cavis,herbi,Rodentia,domesticated,9.4,0.8,0.216666667,14.6,0.0055,0.728\\nGrivet,Cercopithecus,omni,Primates,lc,10,0.7,NA,14,NA,4.75\\nChinchilla,Chinchilla,herbi,Rodentia,domesticated,12.5,1.5,0.116666667,11.5,0.0064,0.42\\nStar-nosed mole,Condylura,omni,Soricomorpha,lc,10.3,2.2,NA,13.7,0.001,0.06\\nAfrican giant pouched rat,Cricetomys,omni,Rodentia,NA,8.3,2,NA,15.7,0.0066,1\\nLesser short-tailed shrew,Cryptotis,omni,Soricomorpha,lc,9.1,1.4,0.15,14.9,0.00014,0.005\\nLong-nosed armadillo,Dasypus,carni,Cingulata,lc,17.4,3.1,0.383333333,6.6,0.0108,3.5\\nTree hyrax,Dendrohyrax,herbi,Hyracoidea,lc,5.3,0.5,NA,18.7,0.0123,2.95\\nNorth American Opossum,Didelphis,omni,Didelphimorphia,lc,18,4.9,0.333333333,6,0.0063,1.7\\nAsian elephant,Elephas,herbi,Proboscidea,en,3.9,NA,NA,20.1,4.603,2547\\nBig brown bat,Eptesicus,insecti,Chiroptera,lc,19.7,3.9,0.116666667,4.3,3e-04,0.023\\nHorse,Equus,herbi,Perissodactyla,domesticated,2.9,0.6,1,21.1,0.655,521\\nDonkey,Equus,herbi,Perissodactyla,domesticated,3.1,0.4,NA,20.9,0.419,187\\nEuropean hedgehog,Erinaceus,omni,Erinaceomorpha,lc,10.1,3.5,0.283333333,13.9,0.0035,0.77\\nPatas monkey,Erythrocebus,omni,Primates,lc,10.9,1.1,NA,13.1,0.115,10\\nWestern american chipmunk,Eutamias,herbi,Rodentia,NA,14.9,NA,NA,9.1,NA,0.071\\nDomestic cat,Felis,carni,Carnivora,domesticated,12.5,3.2,0.416666667,11.5,0.0256,3.3\\nGalago,Galago,omni,Primates,NA,9.8,1.1,0.55,14.2,0.005,0.2\\nGiraffe,Giraffa,herbi,Artiodactyla,cd,1.9,0.4,NA,22.1,NA,899.995\\nPilot whale,Globicephalus,carni,Cetacea,cd,2.7,0.1,NA,21.35,NA,800\\nGray seal,Haliochoerus,carni,Carnivora,lc,6.2,1.5,NA,17.8,0.325,85\\nGray hyrax,Heterohyrax,herbi,Hyracoidea,lc,6.3,0.6,NA,17.7,0.01227,2.625\\nHuman,Homo,omni,Primates,NA,8,1.9,1.5,16,1.32,62\\nMongoose lemur,Lemur,herbi,Primates,vu,9.5,0.9,NA,14.5,NA,1.67\\nAfrican elephant,Loxodonta,herbi,Proboscidea,vu,3.3,NA,NA,20.7,5.712,6654\\nThick-tailed opposum,Lutreolina,carni,Didelphimorphia,lc,19.4,6.6,NA,4.6,NA,0.37\\nMacaque,Macaca,omni,Primates,NA,10.1,1.2,0.75,13.9,0.179,6.8\\nMongolian gerbil,Meriones,herbi,Rodentia,lc,14.2,1.9,NA,9.8,NA,0.053\\nGolden hamster,Mesocricetus,herbi,Rodentia,en,14.3,3.1,0.2,9.7,0.001,0.12\\nVole ,Microtus,herbi,Rodentia,NA,12.8,NA,NA,11.2,NA,0.035\\nHouse mouse,Mus,herbi,Rodentia,nt,12.5,1.4,0.183333333,11.5,4e-04,0.022\\nLittle brown bat,Myotis,insecti,Chiroptera,NA,19.9,2,0.2,4.1,0.00025,0.01\\nRound-tailed muskrat,Neofiber,herbi,Rodentia,nt,14.6,NA,NA,9.4,NA,0.266\\nSlow loris,Nyctibeus,carni,Primates,NA,11,NA,NA,13,0.0125,1.4\\nDegu,Octodon,herbi,Rodentia,lc,7.7,0.9,NA,16.3,NA,0.21\\nNorthern grasshopper mouse,Onychomys,carni,Rodentia,lc,14.5,NA,NA,9.5,NA,0.028\\nRabbit,Oryctolagus,herbi,Lagomorpha,domesticated,8.4,0.9,0.416666667,15.6,0.0121,2.5\\nSheep,Ovis,herbi,Artiodactyla,domesticated,3.8,0.6,NA,20.2,0.175,55.5\\nChimpanzee,Pan,omni,Primates,NA,9.7,1.4,1.416666667,14.3,0.44,52.2\\nTiger,Panthera,carni,Carnivora,en,15.8,NA,NA,8.2,NA,162.564\\nJaguar,Panthera,carni,Carnivora,nt,10.4,NA,NA,13.6,0.157,100\\nLion,Panthera,carni,Carnivora,vu,13.5,NA,NA,10.5,NA,161.499\\nBaboon,Papio,omni,Primates,NA,9.4,1,0.666666667,14.6,0.18,25.235\\nDesert hedgehog,Paraechinus,NA,Erinaceomorpha,lc,10.3,2.7,NA,13.7,0.0024,0.55\\nPotto,Perodicticus,omni,Primates,lc,11,NA,NA,13,NA,1.1\\nDeer mouse,Peromyscus,NA,Rodentia,NA,11.5,NA,NA,12.5,NA,0.021\\nPhalanger,Phalanger,NA,Diprotodontia,NA,13.7,1.8,NA,10.3,0.0114,1.62\\nCaspian seal,Phoca,carni,Carnivora,vu,3.5,0.4,NA,20.5,NA,86\\nCommon porpoise,Phocoena,carni,Cetacea,vu,5.6,NA,NA,18.45,NA,53.18\\nPotoroo,Potorous,herbi,Diprotodontia,NA,11.1,1.5,NA,12.9,NA,1.1\\nGiant armadillo,Priodontes,insecti,Cingulata,en,18.1,6.1,NA,5.9,0.081,60\\nRock hyrax,Procavia,NA,Hyracoidea,lc,5.4,0.5,NA,18.6,0.021,3.6\\nLaboratory rat,Rattus,herbi,Rodentia,lc,13,2.4,0.183333333,11,0.0019,0.32\\nAfrican striped mouse,Rhabdomys,omni,Rodentia,NA,8.7,NA,NA,15.3,NA,0.044\\nSquirrel monkey,Saimiri,omni,Primates,NA,9.6,1.4,NA,14.4,0.02,0.743\\nEastern american mole,Scalopus,insecti,Soricomorpha,lc,8.4,2.1,0.166666667,15.6,0.0012,0.075\\nCotton rat,Sigmodon,herbi,Rodentia,NA,11.3,1.1,0.15,12.7,0.00118,0.148\\nMole rat,Spalax,NA,Rodentia,NA,10.6,2.4,NA,13.4,0.003,0.122\\nArctic ground squirrel,Spermophilus,herbi,Rodentia,lc,16.6,NA,NA,7.4,0.0057,0.92\\nThirteen-lined ground squirrel,Spermophilus,herbi,Rodentia,lc,13.8,3.4,0.216666667,10.2,0.004,0.101\\nGolden-mantled ground squirrel,Spermophilus,herbi,Rodentia,lc,15.9,3,NA,8.1,NA,0.205\\nMusk shrew,Suncus,NA,Soricomorpha,NA,12.8,2,0.183333333,11.2,0.00033,0.048\\nPig,Sus,omni,Artiodactyla,domesticated,9.1,2.4,0.5,14.9,0.18,86.25\\nShort-nosed echidna,Tachyglossus,insecti,Monotremata,NA,8.6,NA,NA,15.4,0.025,4.5\\nEastern american chipmunk,Tamias,herbi,Rodentia,NA,15.8,NA,NA,8.2,NA,0.112\\nBrazilian tapir,Tapirus,herbi,Perissodactyla,vu,4.4,1,0.9,19.6,0.169,207.501\\nTenrec,Tenrec,omni,Afrosoricida,NA,15.6,2.3,NA,8.4,0.0026,0.9\\nTree shrew,Tupaia,omni,Scandentia,NA,8.9,2.6,0.233333333,15.1,0.0025,0.104\\nBottle-nosed dolphin,Tursiops,carni,Cetacea,NA,5.2,NA,NA,18.8,NA,173.33\\nGenet,Genetta,carni,Carnivora,NA,6.3,1.3,NA,17.7,0.0175,2\\nArctic fox,Vulpes,carni,Carnivora,NA,12.5,NA,NA,11.5,0.0445,3.38\\nRed fox,Vulpes,carni,Carnivora,NA,9.8,2.4,0.35,14.2,0.0504,4.23\\n'"
      ]
     },
     "execution_count": 61,
     "metadata": {},
     "output_type": "execute_result"
    }
   ],
   "source": [
    "txt"
   ]
  },
  {
   "cell_type": "code",
   "execution_count": 62,
   "id": "6773ec40-0eba-4835-96ef-b052f8df8246",
   "metadata": {},
   "outputs": [
    {
     "data": {
      "text/plain": [
       "['h',\n",
       " 'i',\n",
       " ' ',\n",
       " 'h',\n",
       " 'o',\n",
       " 'w',\n",
       " ' ',\n",
       " 'a',\n",
       " 'r',\n",
       " 'e',\n",
       " ' ',\n",
       " 'y',\n",
       " 'o',\n",
       " 'u',\n",
       " '.',\n",
       " 'I',\n",
       " 'm',\n",
       " ' ',\n",
       " 'f',\n",
       " 'i',\n",
       " 'n',\n",
       " 'e',\n",
       " ',',\n",
       " ' ',\n",
       " 't',\n",
       " 'h',\n",
       " 'a',\n",
       " 'n',\n",
       " 'k',\n",
       " ' ',\n",
       " 'y',\n",
       " 'o',\n",
       " 'u',\n",
       " '.',\n",
       " 'T',\n",
       " 'h',\n",
       " 'i',\n",
       " 's',\n",
       " ' ',\n",
       " 'i',\n",
       " 's',\n",
       " ' ',\n",
       " 'e',\n",
       " 'v',\n",
       " 'e',\n",
       " 'n',\n",
       " ' ',\n",
       " 'c',\n",
       " 'o',\n",
       " 'n',\n",
       " 's',\n",
       " 'i',\n",
       " 'd',\n",
       " 'e',\n",
       " 'r',\n",
       " 'i',\n",
       " 'n',\n",
       " 'g',\n",
       " ' ',\n",
       " 's',\n",
       " 'p',\n",
       " 'a',\n",
       " 'c',\n",
       " 'e',\n",
       " 's',\n",
       " ' ',\n",
       " 'i',\n",
       " 'n',\n",
       " ' ',\n",
       " 't',\n",
       " 'h',\n",
       " 'e',\n",
       " ' ',\n",
       " 's',\n",
       " 'e',\n",
       " 'n',\n",
       " 't',\n",
       " 'e',\n",
       " 'n',\n",
       " 'c',\n",
       " 'e',\n",
       " ' ',\n",
       " 'a',\n",
       " 'n',\n",
       " 'd',\n",
       " ' ',\n",
       " 's',\n",
       " 'p',\n",
       " 'l',\n",
       " 'i',\n",
       " 't',\n",
       " 't',\n",
       " 'i',\n",
       " 'n',\n",
       " 'g']"
      ]
     },
     "execution_count": 62,
     "metadata": {},
     "output_type": "execute_result"
    }
   ],
   "source": [
    "list1"
   ]
  },
  {
   "cell_type": "code",
   "execution_count": 70,
   "id": "13554096-a58c-45f6-92a3-cb79d4f7ff71",
   "metadata": {},
   "outputs": [
    {
     "name": "stdout",
     "output_type": "stream",
     "text": [
      "S letters = 13 \n",
      "R letters = 6 \n",
      "I letters = 10 \n",
      "s letters = 19 \n",
      "Other letters = 146 \n",
      "All letters = 194\n"
     ]
    }
   ],
   "source": [
    "count_S=0\n",
    "count_R=0\n",
    "count_I=0\n",
    "count_s=0\n",
    "count_others=0\n",
    "count_all=0\n",
    "list1=list(\"\"\"This is even considering spaces in the sentence and splitting. \n",
    "SRI,SIR,Sri,sri, sir,IISSSS sissSS sharp.iceage2 Remember Rose, Sid Sick Rich Idle IDLI II shahrukh salman SREE ShahI srk sk asma.\"\"\")\n",
    "for letter in list1:\n",
    "    count_all=count_all+1\n",
    "    if letter=='S':\n",
    "        count_S+=1\n",
    "    elif letter=='R':\n",
    "        count_R=count_R+1\n",
    "    elif letter=='I':\n",
    "        count_I=count_I+1\n",
    "    elif letter=='s':\n",
    "        count_s=count_s+1\n",
    "    else:\n",
    "        count_others+=1\n",
    "print(\"S letters =\",count_S,\"\\n\" \"R letters =\",count_R,\"\\n\" \"I letters =\",count_I,\"\\n\" \"s letters =\",count_s,\"\\n\" \"Other letters =\",count_others,\"\\n\"\"All letters =\",count_all)"
   ]
  },
  {
   "cell_type": "code",
   "execution_count": 106,
   "id": "506a1243-d2a8-430f-a74e-f882972a1cb0",
   "metadata": {},
   "outputs": [
    {
     "name": "stdout",
     "output_type": "stream",
     "text": [
      "number of lines= 85 \n",
      "\n"
     ]
    },
    {
     "data": {
      "text/plain": [
       "'count_c=0\\ncount_r=0\\ncount_p=0\\ntxt1=[]\\nfor everyitem in spt:\\n    txt2.append(everyitem.lower())\\nprint(txt2)\\nfor everyitem in txt2:\\n    if everyitem==\\'carnivora\\':\\n        count_c+=1\\n    elif everyitem==\\'rodentia\\':\\n        count_r+=1\\n    elif everyitem==\\'primates\\':\\n        count_p+=1\\n\\nprint(\"Carnivora =\",count_c,\"\\n\" \"Rodentia =\",count_r,\"\\n\" \"primates=\",count_p)'"
      ]
     },
     "execution_count": 106,
     "metadata": {},
     "output_type": "execute_result"
    }
   ],
   "source": [
    "import requests\n",
    "url=\"https://raw.githubusercontent.com/srisreedhar/DataSets/refs/heads/master/animal_sleeptime_ggplot2.csv\"\n",
    "resp=requests.get(url)\n",
    "resp\n",
    "txt=resp.text\n",
    "spt=txt.split(\"\\n\")\n",
    "print(\"number of lines=\",len(spt),\"\\n\")\n",
    "txt.split(\",\")\n",
    "txt.split(\"'\")\n",
    "txt\n",
    "count_c=0\n",
    "count_r=0\n",
    "count_p=0\n",
    "txt1=[]\n",
    "for everyitem in txt:\n",
    "    txt1.append(everyitem.lower())\n",
    "print(txt2)\n",
    "for everyitem in txt2:\n",
    "    if everyitem=='carnivora':\n",
    "        count_c+=1\n",
    "    elif everyitem=='rodentia':\n",
    "        count_r+=1\n",
    "    elif everyitem=='primates':\n",
    "        count_p+=1\n",
    "\n",
    "print(\"Carnivora =\",count_c,\"\\n\" \"Rodentia =\",count_r,\"\\n\" \"primates=\",count_p)\"\"\""
   ]
  },
  {
   "cell_type": "code",
   "execution_count": 125,
   "id": "43c869a3-63ad-4286-a874-f6314fc84cf2",
   "metadata": {},
   "outputs": [
    {
     "name": "stdout",
     "output_type": "stream",
     "text": [
      "name,genus,vore,order,conservation,sleep_total,sleep_rem,sleep_cycle,awake,brainwt,bodywt\n",
      "cheetah,acinonyx,carni,carnivora,lc,12.1,na,na,11.9,na,50\n",
      "owl monkey,aotus,omni,primates,na,17,1.8,na,7,0.0155,0.48\n",
      "mountain beaver,aplodontia,herbi,rodentia,nt,14.4,2.4,na,9.6,na,1.35\n",
      "greater short-tailed shrew,blarina,omni,soricomorpha,lc,14.9,2.3,0.133333333,9.1,0.00029,0.019\n",
      "cow,bos,herbi,artiodactyla,domesticated,4,0.7,0.666666667,20,0.423,600\n",
      "three-toed sloth,bradypus,herbi,pilosa,na,14.4,2.2,0.766666667,9.6,na,3.85\n",
      "northern fur seal,callorhinus,carni,carnivora,vu,8.7,1.4,0.383333333,15.3,na,20.49\n",
      "vesper mouse,calomys,na,rodentia,na,7,na,na,17,na,0.045\n",
      "dog,canis,carni,carnivora,domesticated,10.1,2.9,0.333333333,13.9,0.07,14\n",
      "roe deer,capreolus,herbi,artiodactyla,lc,3,na,na,21,0.0982,14.8\n",
      "goat,capri,herbi,artiodactyla,lc,5.3,0.6,na,18.7,0.115,33.5\n",
      "guinea pig,cavis,herbi,rodentia,domesticated,9.4,0.8,0.216666667,14.6,0.0055,0.728\n",
      "grivet,cercopithecus,omni,primates,lc,10,0.7,na,14,na,4.75\n",
      "chinchilla,chinchilla,herbi,rodentia,domesticated,12.5,1.5,0.116666667,11.5,0.0064,0.42\n",
      "star-nosed mole,condylura,omni,soricomorpha,lc,10.3,2.2,na,13.7,0.001,0.06\n",
      "african giant pouched rat,cricetomys,omni,rodentia,na,8.3,2,na,15.7,0.0066,1\n",
      "lesser short-tailed shrew,cryptotis,omni,soricomorpha,lc,9.1,1.4,0.15,14.9,0.00014,0.005\n",
      "long-nosed armadillo,dasypus,carni,cingulata,lc,17.4,3.1,0.383333333,6.6,0.0108,3.5\n",
      "tree hyrax,dendrohyrax,herbi,hyracoidea,lc,5.3,0.5,na,18.7,0.0123,2.95\n",
      "north american opossum,didelphis,omni,didelphimorphia,lc,18,4.9,0.333333333,6,0.0063,1.7\n",
      "asian elephant,elephas,herbi,proboscidea,en,3.9,na,na,20.1,4.603,2547\n",
      "big brown bat,eptesicus,insecti,chiroptera,lc,19.7,3.9,0.116666667,4.3,3e-04,0.023\n",
      "horse,equus,herbi,perissodactyla,domesticated,2.9,0.6,1,21.1,0.655,521\n",
      "donkey,equus,herbi,perissodactyla,domesticated,3.1,0.4,na,20.9,0.419,187\n",
      "european hedgehog,erinaceus,omni,erinaceomorpha,lc,10.1,3.5,0.283333333,13.9,0.0035,0.77\n",
      "patas monkey,erythrocebus,omni,primates,lc,10.9,1.1,na,13.1,0.115,10\n",
      "western american chipmunk,eutamias,herbi,rodentia,na,14.9,na,na,9.1,na,0.071\n",
      "domestic cat,felis,carni,carnivora,domesticated,12.5,3.2,0.416666667,11.5,0.0256,3.3\n",
      "galago,galago,omni,primates,na,9.8,1.1,0.55,14.2,0.005,0.2\n",
      "giraffe,giraffa,herbi,artiodactyla,cd,1.9,0.4,na,22.1,na,899.995\n",
      "pilot whale,globicephalus,carni,cetacea,cd,2.7,0.1,na,21.35,na,800\n",
      "gray seal,haliochoerus,carni,carnivora,lc,6.2,1.5,na,17.8,0.325,85\n",
      "gray hyrax,heterohyrax,herbi,hyracoidea,lc,6.3,0.6,na,17.7,0.01227,2.625\n",
      "human,homo,omni,primates,na,8,1.9,1.5,16,1.32,62\n",
      "mongoose lemur,lemur,herbi,primates,vu,9.5,0.9,na,14.5,na,1.67\n",
      "african elephant,loxodonta,herbi,proboscidea,vu,3.3,na,na,20.7,5.712,6654\n",
      "thick-tailed opposum,lutreolina,carni,didelphimorphia,lc,19.4,6.6,na,4.6,na,0.37\n",
      "macaque,macaca,omni,primates,na,10.1,1.2,0.75,13.9,0.179,6.8\n",
      "mongolian gerbil,meriones,herbi,rodentia,lc,14.2,1.9,na,9.8,na,0.053\n",
      "golden hamster,mesocricetus,herbi,rodentia,en,14.3,3.1,0.2,9.7,0.001,0.12\n",
      "vole ,microtus,herbi,rodentia,na,12.8,na,na,11.2,na,0.035\n",
      "house mouse,mus,herbi,rodentia,nt,12.5,1.4,0.183333333,11.5,4e-04,0.022\n",
      "little brown bat,myotis,insecti,chiroptera,na,19.9,2,0.2,4.1,0.00025,0.01\n",
      "round-tailed muskrat,neofiber,herbi,rodentia,nt,14.6,na,na,9.4,na,0.266\n",
      "slow loris,nyctibeus,carni,primates,na,11,na,na,13,0.0125,1.4\n",
      "degu,octodon,herbi,rodentia,lc,7.7,0.9,na,16.3,na,0.21\n",
      "northern grasshopper mouse,onychomys,carni,rodentia,lc,14.5,na,na,9.5,na,0.028\n",
      "rabbit,oryctolagus,herbi,lagomorpha,domesticated,8.4,0.9,0.416666667,15.6,0.0121,2.5\n",
      "sheep,ovis,herbi,artiodactyla,domesticated,3.8,0.6,na,20.2,0.175,55.5\n",
      "chimpanzee,pan,omni,primates,na,9.7,1.4,1.416666667,14.3,0.44,52.2\n",
      "tiger,panthera,carni,carnivora,en,15.8,na,na,8.2,na,162.564\n",
      "jaguar,panthera,carni,carnivora,nt,10.4,na,na,13.6,0.157,100\n",
      "lion,panthera,carni,carnivora,vu,13.5,na,na,10.5,na,161.499\n",
      "baboon,papio,omni,primates,na,9.4,1,0.666666667,14.6,0.18,25.235\n",
      "desert hedgehog,paraechinus,na,erinaceomorpha,lc,10.3,2.7,na,13.7,0.0024,0.55\n",
      "potto,perodicticus,omni,primates,lc,11,na,na,13,na,1.1\n",
      "deer mouse,peromyscus,na,rodentia,na,11.5,na,na,12.5,na,0.021\n",
      "phalanger,phalanger,na,diprotodontia,na,13.7,1.8,na,10.3,0.0114,1.62\n",
      "caspian seal,phoca,carni,carnivora,vu,3.5,0.4,na,20.5,na,86\n",
      "common porpoise,phocoena,carni,cetacea,vu,5.6,na,na,18.45,na,53.18\n",
      "potoroo,potorous,herbi,diprotodontia,na,11.1,1.5,na,12.9,na,1.1\n",
      "giant armadillo,priodontes,insecti,cingulata,en,18.1,6.1,na,5.9,0.081,60\n",
      "rock hyrax,procavia,na,hyracoidea,lc,5.4,0.5,na,18.6,0.021,3.6\n",
      "laboratory rat,rattus,herbi,rodentia,lc,13,2.4,0.183333333,11,0.0019,0.32\n",
      "african striped mouse,rhabdomys,omni,rodentia,na,8.7,na,na,15.3,na,0.044\n",
      "squirrel monkey,saimiri,omni,primates,na,9.6,1.4,na,14.4,0.02,0.743\n",
      "eastern american mole,scalopus,insecti,soricomorpha,lc,8.4,2.1,0.166666667,15.6,0.0012,0.075\n",
      "cotton rat,sigmodon,herbi,rodentia,na,11.3,1.1,0.15,12.7,0.00118,0.148\n",
      "mole rat,spalax,na,rodentia,na,10.6,2.4,na,13.4,0.003,0.122\n",
      "arctic ground squirrel,spermophilus,herbi,rodentia,lc,16.6,na,na,7.4,0.0057,0.92\n",
      "thirteen-lined ground squirrel,spermophilus,herbi,rodentia,lc,13.8,3.4,0.216666667,10.2,0.004,0.101\n",
      "golden-mantled ground squirrel,spermophilus,herbi,rodentia,lc,15.9,3,na,8.1,na,0.205\n",
      "musk shrew,suncus,na,soricomorpha,na,12.8,2,0.183333333,11.2,0.00033,0.048\n",
      "pig,sus,omni,artiodactyla,domesticated,9.1,2.4,0.5,14.9,0.18,86.25\n",
      "short-nosed echidna,tachyglossus,insecti,monotremata,na,8.6,na,na,15.4,0.025,4.5\n",
      "eastern american chipmunk,tamias,herbi,rodentia,na,15.8,na,na,8.2,na,0.112\n",
      "brazilian tapir,tapirus,herbi,perissodactyla,vu,4.4,1,0.9,19.6,0.169,207.501\n",
      "tenrec,tenrec,omni,afrosoricida,na,15.6,2.3,na,8.4,0.0026,0.9\n",
      "tree shrew,tupaia,omni,scandentia,na,8.9,2.6,0.233333333,15.1,0.0025,0.104\n",
      "bottle-nosed dolphin,tursiops,carni,cetacea,na,5.2,na,na,18.8,na,173.33\n",
      "genet,genetta,carni,carnivora,na,6.3,1.3,na,17.7,0.0175,2\n",
      "arctic fox,vulpes,carni,carnivora,na,12.5,na,na,11.5,0.0445,3.38\n",
      "red fox,vulpes,carni,carnivora,na,9.8,2.4,0.35,14.2,0.0504,4.23\n",
      "\n",
      "number of lines= 5993 \n",
      "\n",
      "Carnivora = 0 \n",
      "Rodentia = 0 \n",
      "primates= 0\n"
     ]
    }
   ],
   "source": [
    "import requests\n",
    "url=\"https://raw.githubusercontent.com/srisreedhar/DataSets/refs/heads/master/animal_sleeptime_ggplot2.csv\"\n",
    "resp=requests.get(url)\n",
    "resp\n",
    "txt=resp.text\n",
    "spt=txt.split(\"\\n\")\n",
    "spt=txt.split(\"'\")\n",
    "spt=txt.split(\",\")\n",
    "spt=txt.lower()\n",
    "#spt=txt.strip(\",\")\n",
    "print(spt)\n",
    "print(\"number of lines=\",len(spt),\"\\n\")\n",
    "\n",
    "for everyitem in spt:\n",
    "    if everyitem=='carnivora':\n",
    "        count_c+=1\n",
    "    elif everyitem=='rodentia':\n",
    "        count_r+=1\n",
    "    elif everyitem=='primates':\n",
    "        count_p+=1\n",
    "\n",
    "print(\"Carnivora =\",count_c,\"\\n\" \"Rodentia =\",count_r,\"\\n\" \"primates=\",count_p)"
   ]
  },
  {
   "cell_type": "code",
   "execution_count": 139,
   "id": "f7a9ba13-86b5-4ee1-bd3b-075367a51a15",
   "metadata": {},
   "outputs": [
    {
     "name": "stdout",
     "output_type": "stream",
     "text": [
      "number of lines= 5993 \n",
      "\n",
      "name,genus,vore,order,conservation,sleep_total,sleep_rem,sleep_cycle,awake,brainwt,bodywt\n",
      "cheetah,acinonyx,carni,carnivora,lc,12.1,na,na,11.9,na,50\n",
      "owl monkey,aotus,omni,primates,na,17,1.8,na,7,0.0155,0.48\n",
      "mountain beaver,aplodontia,herbi,rodentia,nt,14.4,2.4,na,9.6,na,1.35\n",
      "greater short-tailed shrew,blarina,omni,soricomorpha,lc,14.9,2.3,0.133333333,9.1,0.00029,0.019\n",
      "cow,bos,herbi,artiodactyla,domesticated,4,0.7,0.666666667,20,0.423,600\n",
      "three-toed sloth,bradypus,herbi,pilosa,na,14.4,2.2,0.766666667,9.6,na,3.85\n",
      "northern fur seal,callorhinus,carni,carnivora,vu,8.7,1.4,0.383333333,15.3,na,20.49\n",
      "vesper mouse,calomys,na,rodentia,na,7,na,na,17,na,0.045\n",
      "dog,canis,carni,carnivora,domesticated,10.1,2.9,0.333333333,13.9,0.07,14\n",
      "roe deer,capreolus,herbi,artiodactyla,lc,3,na,na,21,0.0982,14.8\n",
      "goat,capri,herbi,artiodactyla,lc,5.3,0.6,na,18.7,0.115,33.5\n",
      "guinea pig,cavis,herbi,rodentia,domesticated,9.4,0.8,0.216666667,14.6,0.0055,0.728\n",
      "grivet,cercopithecus,omni,primates,lc,10,0.7,na,14,na,4.75\n",
      "chinchilla,chinchilla,herbi,rodentia,domesticated,12.5,1.5,0.116666667,11.5,0.0064,0.42\n",
      "star-nosed mole,condylura,omni,soricomorpha,lc,10.3,2.2,na,13.7,0.001,0.06\n",
      "african giant pouched rat,cricetomys,omni,rodentia,na,8.3,2,na,15.7,0.0066,1\n",
      "lesser short-tailed shrew,cryptotis,omni,soricomorpha,lc,9.1,1.4,0.15,14.9,0.00014,0.005\n",
      "long-nosed armadillo,dasypus,carni,cingulata,lc,17.4,3.1,0.383333333,6.6,0.0108,3.5\n",
      "tree hyrax,dendrohyrax,herbi,hyracoidea,lc,5.3,0.5,na,18.7,0.0123,2.95\n",
      "north american opossum,didelphis,omni,didelphimorphia,lc,18,4.9,0.333333333,6,0.0063,1.7\n",
      "asian elephant,elephas,herbi,proboscidea,en,3.9,na,na,20.1,4.603,2547\n",
      "big brown bat,eptesicus,insecti,chiroptera,lc,19.7,3.9,0.116666667,4.3,3e-04,0.023\n",
      "horse,equus,herbi,perissodactyla,domesticated,2.9,0.6,1,21.1,0.655,521\n",
      "donkey,equus,herbi,perissodactyla,domesticated,3.1,0.4,na,20.9,0.419,187\n",
      "european hedgehog,erinaceus,omni,erinaceomorpha,lc,10.1,3.5,0.283333333,13.9,0.0035,0.77\n",
      "patas monkey,erythrocebus,omni,primates,lc,10.9,1.1,na,13.1,0.115,10\n",
      "western american chipmunk,eutamias,herbi,rodentia,na,14.9,na,na,9.1,na,0.071\n",
      "domestic cat,felis,carni,carnivora,domesticated,12.5,3.2,0.416666667,11.5,0.0256,3.3\n",
      "galago,galago,omni,primates,na,9.8,1.1,0.55,14.2,0.005,0.2\n",
      "giraffe,giraffa,herbi,artiodactyla,cd,1.9,0.4,na,22.1,na,899.995\n",
      "pilot whale,globicephalus,carni,cetacea,cd,2.7,0.1,na,21.35,na,800\n",
      "gray seal,haliochoerus,carni,carnivora,lc,6.2,1.5,na,17.8,0.325,85\n",
      "gray hyrax,heterohyrax,herbi,hyracoidea,lc,6.3,0.6,na,17.7,0.01227,2.625\n",
      "human,homo,omni,primates,na,8,1.9,1.5,16,1.32,62\n",
      "mongoose lemur,lemur,herbi,primates,vu,9.5,0.9,na,14.5,na,1.67\n",
      "african elephant,loxodonta,herbi,proboscidea,vu,3.3,na,na,20.7,5.712,6654\n",
      "thick-tailed opposum,lutreolina,carni,didelphimorphia,lc,19.4,6.6,na,4.6,na,0.37\n",
      "macaque,macaca,omni,primates,na,10.1,1.2,0.75,13.9,0.179,6.8\n",
      "mongolian gerbil,meriones,herbi,rodentia,lc,14.2,1.9,na,9.8,na,0.053\n",
      "golden hamster,mesocricetus,herbi,rodentia,en,14.3,3.1,0.2,9.7,0.001,0.12\n",
      "vole ,microtus,herbi,rodentia,na,12.8,na,na,11.2,na,0.035\n",
      "house mouse,mus,herbi,rodentia,nt,12.5,1.4,0.183333333,11.5,4e-04,0.022\n",
      "little brown bat,myotis,insecti,chiroptera,na,19.9,2,0.2,4.1,0.00025,0.01\n",
      "round-tailed muskrat,neofiber,herbi,rodentia,nt,14.6,na,na,9.4,na,0.266\n",
      "slow loris,nyctibeus,carni,primates,na,11,na,na,13,0.0125,1.4\n",
      "degu,octodon,herbi,rodentia,lc,7.7,0.9,na,16.3,na,0.21\n",
      "northern grasshopper mouse,onychomys,carni,rodentia,lc,14.5,na,na,9.5,na,0.028\n",
      "rabbit,oryctolagus,herbi,lagomorpha,domesticated,8.4,0.9,0.416666667,15.6,0.0121,2.5\n",
      "sheep,ovis,herbi,artiodactyla,domesticated,3.8,0.6,na,20.2,0.175,55.5\n",
      "chimpanzee,pan,omni,primates,na,9.7,1.4,1.416666667,14.3,0.44,52.2\n",
      "tiger,panthera,carni,carnivora,en,15.8,na,na,8.2,na,162.564\n",
      "jaguar,panthera,carni,carnivora,nt,10.4,na,na,13.6,0.157,100\n",
      "lion,panthera,carni,carnivora,vu,13.5,na,na,10.5,na,161.499\n",
      "baboon,papio,omni,primates,na,9.4,1,0.666666667,14.6,0.18,25.235\n",
      "desert hedgehog,paraechinus,na,erinaceomorpha,lc,10.3,2.7,na,13.7,0.0024,0.55\n",
      "potto,perodicticus,omni,primates,lc,11,na,na,13,na,1.1\n",
      "deer mouse,peromyscus,na,rodentia,na,11.5,na,na,12.5,na,0.021\n",
      "phalanger,phalanger,na,diprotodontia,na,13.7,1.8,na,10.3,0.0114,1.62\n",
      "caspian seal,phoca,carni,carnivora,vu,3.5,0.4,na,20.5,na,86\n",
      "common porpoise,phocoena,carni,cetacea,vu,5.6,na,na,18.45,na,53.18\n",
      "potoroo,potorous,herbi,diprotodontia,na,11.1,1.5,na,12.9,na,1.1\n",
      "giant armadillo,priodontes,insecti,cingulata,en,18.1,6.1,na,5.9,0.081,60\n",
      "rock hyrax,procavia,na,hyracoidea,lc,5.4,0.5,na,18.6,0.021,3.6\n",
      "laboratory rat,rattus,herbi,rodentia,lc,13,2.4,0.183333333,11,0.0019,0.32\n",
      "african striped mouse,rhabdomys,omni,rodentia,na,8.7,na,na,15.3,na,0.044\n",
      "squirrel monkey,saimiri,omni,primates,na,9.6,1.4,na,14.4,0.02,0.743\n",
      "eastern american mole,scalopus,insecti,soricomorpha,lc,8.4,2.1,0.166666667,15.6,0.0012,0.075\n",
      "cotton rat,sigmodon,herbi,rodentia,na,11.3,1.1,0.15,12.7,0.00118,0.148\n",
      "mole rat,spalax,na,rodentia,na,10.6,2.4,na,13.4,0.003,0.122\n",
      "arctic ground squirrel,spermophilus,herbi,rodentia,lc,16.6,na,na,7.4,0.0057,0.92\n",
      "thirteen-lined ground squirrel,spermophilus,herbi,rodentia,lc,13.8,3.4,0.216666667,10.2,0.004,0.101\n",
      "golden-mantled ground squirrel,spermophilus,herbi,rodentia,lc,15.9,3,na,8.1,na,0.205\n",
      "musk shrew,suncus,na,soricomorpha,na,12.8,2,0.183333333,11.2,0.00033,0.048\n",
      "pig,sus,omni,artiodactyla,domesticated,9.1,2.4,0.5,14.9,0.18,86.25\n",
      "short-nosed echidna,tachyglossus,insecti,monotremata,na,8.6,na,na,15.4,0.025,4.5\n",
      "eastern american chipmunk,tamias,herbi,rodentia,na,15.8,na,na,8.2,na,0.112\n",
      "brazilian tapir,tapirus,herbi,perissodactyla,vu,4.4,1,0.9,19.6,0.169,207.501\n",
      "tenrec,tenrec,omni,afrosoricida,na,15.6,2.3,na,8.4,0.0026,0.9\n",
      "tree shrew,tupaia,omni,scandentia,na,8.9,2.6,0.233333333,15.1,0.0025,0.104\n",
      "bottle-nosed dolphin,tursiops,carni,cetacea,na,5.2,na,na,18.8,na,173.33\n",
      "genet,genetta,carni,carnivora,na,6.3,1.3,na,17.7,0.0175,2\n",
      "arctic fox,vulpes,carni,carnivora,na,12.5,na,na,11.5,0.0445,3.38\n",
      "red fox,vulpes,carni,carnivora,na,9.8,2.4,0.35,14.2,0.0504,4.23\n",
      "\n",
      "Carnivora = 12 \n",
      "Rodentia = 22 \n",
      "primates= 12\n"
     ]
    }
   ],
   "source": [
    "import requests\n",
    "url=\"https://raw.githubusercontent.com/srisreedhar/DataSets/refs/heads/master/animal_sleeptime_ggplot2.csv\"\n",
    "resp=requests.get(url)\n",
    "resp\n",
    "txt=resp.text\n",
    "spt=txt.split(\"\\n\")\n",
    "spt=txt.split(\"'\")\n",
    "spt=txt.split(\",\")\n",
    "spt=txt.lower()\n",
    "print(\"number of lines=\",len(spt),\"\\n\")\n",
    "print(spt)\n",
    "\n",
    "count_c=0\n",
    "count_r=0\n",
    "count_p=0\n",
    "for everyword in spt.split(\",\"):\n",
    "    if everyword=='carnivora':\n",
    "        count_c+=1\n",
    "    elif everyword=='rodentia':\n",
    "        count_r+=1\n",
    "    elif everyword=='primates':\n",
    "        count_p+=1\n",
    "\n",
    "print(\"Carnivora =\",count_c,\"\\n\" \"Rodentia =\",count_r,\"\\n\" \"primates=\",count_p)"
   ]
  },
  {
   "cell_type": "code",
   "execution_count": 138,
   "id": "df8be991-feb5-4d2f-9695-71f8860c4e3d",
   "metadata": {},
   "outputs": [
    {
     "name": "stdout",
     "output_type": "stream",
     "text": [
      "number of lines= 5993 \n",
      "\n",
      "name,genus,vore,order,conservation,sleep_total,sleep_rem,sleep_cycle,awake,brainwt,bodywt\n",
      "cheetah,acinonyx,carni,carnivora,lc,12.1,na,na,11.9,na,50\n",
      "owl monkey,aotus,omni,primates,na,17,1.8,na,7,0.0155,0.48\n",
      "mountain beaver,aplodontia,herbi,rodentia,nt,14.4,2.4,na,9.6,na,1.35\n",
      "greater short-tailed shrew,blarina,omni,soricomorpha,lc,14.9,2.3,0.133333333,9.1,0.00029,0.019\n",
      "cow,bos,herbi,artiodactyla,domesticated,4,0.7,0.666666667,20,0.423,600\n",
      "three-toed sloth,bradypus,herbi,pilosa,na,14.4,2.2,0.766666667,9.6,na,3.85\n",
      "northern fur seal,callorhinus,carni,carnivora,vu,8.7,1.4,0.383333333,15.3,na,20.49\n",
      "vesper mouse,calomys,na,rodentia,na,7,na,na,17,na,0.045\n",
      "dog,canis,carni,carnivora,domesticated,10.1,2.9,0.333333333,13.9,0.07,14\n",
      "roe deer,capreolus,herbi,artiodactyla,lc,3,na,na,21,0.0982,14.8\n",
      "goat,capri,herbi,artiodactyla,lc,5.3,0.6,na,18.7,0.115,33.5\n",
      "guinea pig,cavis,herbi,rodentia,domesticated,9.4,0.8,0.216666667,14.6,0.0055,0.728\n",
      "grivet,cercopithecus,omni,primates,lc,10,0.7,na,14,na,4.75\n",
      "chinchilla,chinchilla,herbi,rodentia,domesticated,12.5,1.5,0.116666667,11.5,0.0064,0.42\n",
      "star-nosed mole,condylura,omni,soricomorpha,lc,10.3,2.2,na,13.7,0.001,0.06\n",
      "african giant pouched rat,cricetomys,omni,rodentia,na,8.3,2,na,15.7,0.0066,1\n",
      "lesser short-tailed shrew,cryptotis,omni,soricomorpha,lc,9.1,1.4,0.15,14.9,0.00014,0.005\n",
      "long-nosed armadillo,dasypus,carni,cingulata,lc,17.4,3.1,0.383333333,6.6,0.0108,3.5\n",
      "tree hyrax,dendrohyrax,herbi,hyracoidea,lc,5.3,0.5,na,18.7,0.0123,2.95\n",
      "north american opossum,didelphis,omni,didelphimorphia,lc,18,4.9,0.333333333,6,0.0063,1.7\n",
      "asian elephant,elephas,herbi,proboscidea,en,3.9,na,na,20.1,4.603,2547\n",
      "big brown bat,eptesicus,insecti,chiroptera,lc,19.7,3.9,0.116666667,4.3,3e-04,0.023\n",
      "horse,equus,herbi,perissodactyla,domesticated,2.9,0.6,1,21.1,0.655,521\n",
      "donkey,equus,herbi,perissodactyla,domesticated,3.1,0.4,na,20.9,0.419,187\n",
      "european hedgehog,erinaceus,omni,erinaceomorpha,lc,10.1,3.5,0.283333333,13.9,0.0035,0.77\n",
      "patas monkey,erythrocebus,omni,primates,lc,10.9,1.1,na,13.1,0.115,10\n",
      "western american chipmunk,eutamias,herbi,rodentia,na,14.9,na,na,9.1,na,0.071\n",
      "domestic cat,felis,carni,carnivora,domesticated,12.5,3.2,0.416666667,11.5,0.0256,3.3\n",
      "galago,galago,omni,primates,na,9.8,1.1,0.55,14.2,0.005,0.2\n",
      "giraffe,giraffa,herbi,artiodactyla,cd,1.9,0.4,na,22.1,na,899.995\n",
      "pilot whale,globicephalus,carni,cetacea,cd,2.7,0.1,na,21.35,na,800\n",
      "gray seal,haliochoerus,carni,carnivora,lc,6.2,1.5,na,17.8,0.325,85\n",
      "gray hyrax,heterohyrax,herbi,hyracoidea,lc,6.3,0.6,na,17.7,0.01227,2.625\n",
      "human,homo,omni,primates,na,8,1.9,1.5,16,1.32,62\n",
      "mongoose lemur,lemur,herbi,primates,vu,9.5,0.9,na,14.5,na,1.67\n",
      "african elephant,loxodonta,herbi,proboscidea,vu,3.3,na,na,20.7,5.712,6654\n",
      "thick-tailed opposum,lutreolina,carni,didelphimorphia,lc,19.4,6.6,na,4.6,na,0.37\n",
      "macaque,macaca,omni,primates,na,10.1,1.2,0.75,13.9,0.179,6.8\n",
      "mongolian gerbil,meriones,herbi,rodentia,lc,14.2,1.9,na,9.8,na,0.053\n",
      "golden hamster,mesocricetus,herbi,rodentia,en,14.3,3.1,0.2,9.7,0.001,0.12\n",
      "vole ,microtus,herbi,rodentia,na,12.8,na,na,11.2,na,0.035\n",
      "house mouse,mus,herbi,rodentia,nt,12.5,1.4,0.183333333,11.5,4e-04,0.022\n",
      "little brown bat,myotis,insecti,chiroptera,na,19.9,2,0.2,4.1,0.00025,0.01\n",
      "round-tailed muskrat,neofiber,herbi,rodentia,nt,14.6,na,na,9.4,na,0.266\n",
      "slow loris,nyctibeus,carni,primates,na,11,na,na,13,0.0125,1.4\n",
      "degu,octodon,herbi,rodentia,lc,7.7,0.9,na,16.3,na,0.21\n",
      "northern grasshopper mouse,onychomys,carni,rodentia,lc,14.5,na,na,9.5,na,0.028\n",
      "rabbit,oryctolagus,herbi,lagomorpha,domesticated,8.4,0.9,0.416666667,15.6,0.0121,2.5\n",
      "sheep,ovis,herbi,artiodactyla,domesticated,3.8,0.6,na,20.2,0.175,55.5\n",
      "chimpanzee,pan,omni,primates,na,9.7,1.4,1.416666667,14.3,0.44,52.2\n",
      "tiger,panthera,carni,carnivora,en,15.8,na,na,8.2,na,162.564\n",
      "jaguar,panthera,carni,carnivora,nt,10.4,na,na,13.6,0.157,100\n",
      "lion,panthera,carni,carnivora,vu,13.5,na,na,10.5,na,161.499\n",
      "baboon,papio,omni,primates,na,9.4,1,0.666666667,14.6,0.18,25.235\n",
      "desert hedgehog,paraechinus,na,erinaceomorpha,lc,10.3,2.7,na,13.7,0.0024,0.55\n",
      "potto,perodicticus,omni,primates,lc,11,na,na,13,na,1.1\n",
      "deer mouse,peromyscus,na,rodentia,na,11.5,na,na,12.5,na,0.021\n",
      "phalanger,phalanger,na,diprotodontia,na,13.7,1.8,na,10.3,0.0114,1.62\n",
      "caspian seal,phoca,carni,carnivora,vu,3.5,0.4,na,20.5,na,86\n",
      "common porpoise,phocoena,carni,cetacea,vu,5.6,na,na,18.45,na,53.18\n",
      "potoroo,potorous,herbi,diprotodontia,na,11.1,1.5,na,12.9,na,1.1\n",
      "giant armadillo,priodontes,insecti,cingulata,en,18.1,6.1,na,5.9,0.081,60\n",
      "rock hyrax,procavia,na,hyracoidea,lc,5.4,0.5,na,18.6,0.021,3.6\n",
      "laboratory rat,rattus,herbi,rodentia,lc,13,2.4,0.183333333,11,0.0019,0.32\n",
      "african striped mouse,rhabdomys,omni,rodentia,na,8.7,na,na,15.3,na,0.044\n",
      "squirrel monkey,saimiri,omni,primates,na,9.6,1.4,na,14.4,0.02,0.743\n",
      "eastern american mole,scalopus,insecti,soricomorpha,lc,8.4,2.1,0.166666667,15.6,0.0012,0.075\n",
      "cotton rat,sigmodon,herbi,rodentia,na,11.3,1.1,0.15,12.7,0.00118,0.148\n",
      "mole rat,spalax,na,rodentia,na,10.6,2.4,na,13.4,0.003,0.122\n",
      "arctic ground squirrel,spermophilus,herbi,rodentia,lc,16.6,na,na,7.4,0.0057,0.92\n",
      "thirteen-lined ground squirrel,spermophilus,herbi,rodentia,lc,13.8,3.4,0.216666667,10.2,0.004,0.101\n",
      "golden-mantled ground squirrel,spermophilus,herbi,rodentia,lc,15.9,3,na,8.1,na,0.205\n",
      "musk shrew,suncus,na,soricomorpha,na,12.8,2,0.183333333,11.2,0.00033,0.048\n",
      "pig,sus,omni,artiodactyla,domesticated,9.1,2.4,0.5,14.9,0.18,86.25\n",
      "short-nosed echidna,tachyglossus,insecti,monotremata,na,8.6,na,na,15.4,0.025,4.5\n",
      "eastern american chipmunk,tamias,herbi,rodentia,na,15.8,na,na,8.2,na,0.112\n",
      "brazilian tapir,tapirus,herbi,perissodactyla,vu,4.4,1,0.9,19.6,0.169,207.501\n",
      "tenrec,tenrec,omni,afrosoricida,na,15.6,2.3,na,8.4,0.0026,0.9\n",
      "tree shrew,tupaia,omni,scandentia,na,8.9,2.6,0.233333333,15.1,0.0025,0.104\n",
      "bottle-nosed dolphin,tursiops,carni,cetacea,na,5.2,na,na,18.8,na,173.33\n",
      "genet,genetta,carni,carnivora,na,6.3,1.3,na,17.7,0.0175,2\n",
      "arctic fox,vulpes,carni,carnivora,na,12.5,na,na,11.5,0.0445,3.38\n",
      "red fox,vulpes,carni,carnivora,na,9.8,2.4,0.35,14.2,0.0504,4.23\n",
      "\n",
      "Carnivora = 12 \n",
      "Rodentia = 22 \n",
      "primates= 12\n"
     ]
    }
   ],
   "source": [
    "import requests\n",
    "url=\"https://raw.githubusercontent.com/srisreedhar/DataSets/refs/heads/master/animal_sleeptime_ggplot2.csv\"\n",
    "resp=requests.get(url)\n",
    "resp\n",
    "txt=resp.text\n",
    "spt=txt.split(\"\\n\")\n",
    "spt=txt.split(\"'\")\n",
    "spt=txt.split(\",\")\n",
    "spt=txt.lower()\n",
    "print(\"number of lines=\",len(spt),\"\\n\")\n",
    "print(spt)\n",
    "\n",
    "count_c=0\n",
    "count_r=0\n",
    "count_p=0\n",
    "for everyword in spt.split(\",\"):\n",
    "    if everyword[0:9]=='carnivora':\n",
    "        count_c=count_c+1\n",
    "    elif everyword[0:8]=='rodentia':\n",
    "        count_r+=1\n",
    "    elif everyword[0:8]=='primates':\n",
    "        count_p+=1\n",
    "\n",
    "print(\"Carnivora =\",count_c,\"\\n\" \"Rodentia =\",count_r,\"\\n\" \"primates=\",count_p)"
   ]
  },
  {
   "cell_type": "code",
   "execution_count": null,
   "id": "4661ebf9-08b6-4ae3-82f2-e04f9c29b407",
   "metadata": {},
   "outputs": [],
   "source": []
  }
 ],
 "metadata": {
  "kernelspec": {
   "display_name": "Python 3 (ipykernel)",
   "language": "python",
   "name": "python3"
  },
  "language_info": {
   "codemirror_mode": {
    "name": "ipython",
    "version": 3
   },
   "file_extension": ".py",
   "mimetype": "text/x-python",
   "name": "python",
   "nbconvert_exporter": "python",
   "pygments_lexer": "ipython3",
   "version": "3.13.3"
  }
 },
 "nbformat": 4,
 "nbformat_minor": 5
}
