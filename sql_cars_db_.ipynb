{
 "cells": [
  {
   "cell_type": "code",
   "execution_count": 8,
   "id": "a23d4379-3239-480e-a2c2-0ab1eb98abe3",
   "metadata": {},
   "outputs": [],
   "source": [
    "import sqlite3\n",
    "conn=sqlite3.connect('car.db')"
   ]
  },
  {
   "cell_type": "code",
   "execution_count": 9,
   "id": "1ae7914d-a2b4-4c68-82f2-66df3425412f",
   "metadata": {},
   "outputs": [],
   "source": [
    "# create a table\n",
    "# Table - car"
   ]
  },
  {
   "cell_type": "code",
   "execution_count": 10,
   "id": "b1400be5-5342-40f7-972b-0bd66d56e9a9",
   "metadata": {},
   "outputs": [],
   "source": [
    "qry_create_table=\"\"\"create table car(carid text,carmake text,carmodel text,caryear int);\"\"\""
   ]
  },
  {
   "cell_type": "code",
   "execution_count": 12,
   "id": "2f287259-7412-4a99-b3ba-ce994910edf6",
   "metadata": {},
   "outputs": [],
   "source": [
    "# use the conn object that we have created to execute all the queries\n",
    "# we call     .execute(QUERY) method from conn object to run queries"
   ]
  },
  {
   "cell_type": "code",
   "execution_count": 13,
   "id": "e6e9553e-51b5-4f0e-ba6d-e01fd75066a2",
   "metadata": {},
   "outputs": [
    {
     "data": {
      "text/plain": [
       "<sqlite3.Cursor at 0x21a13229ec0>"
      ]
     },
     "execution_count": 13,
     "metadata": {},
     "output_type": "execute_result"
    }
   ],
   "source": [
    "conn.execute(qry_create_table)"
   ]
  },
  {
   "cell_type": "code",
   "execution_count": 14,
   "id": "26b9108d-0170-4d5a-8622-21e72b1502e5",
   "metadata": {},
   "outputs": [
    {
     "data": {
      "text/plain": [
       "<sqlite3.Cursor at 0x21a13229040>"
      ]
     },
     "execution_count": 14,
     "metadata": {},
     "output_type": "execute_result"
    }
   ],
   "source": [
    "qry_create_user_table=\"\"\"create table owner(owner_name text,owner_id int,owner_car_number text);\"\"\"\n",
    "conn.execute(qry_create_user_table)"
   ]
  },
  {
   "cell_type": "code",
   "execution_count": null,
   "id": "ee65ab80-d357-4c40-a6c8-cf0a4f04e613",
   "metadata": {},
   "outputs": [],
   "source": [
    "# insert some values into database"
   ]
  },
  {
   "cell_type": "code",
   "execution_count": 15,
   "id": "ffac1df3-f6df-4f2e-b8aa-b01191f57d2f",
   "metadata": {},
   "outputs": [],
   "source": [
    "qry_insrt_car_db='''INSERT INTO car (carid, carmake, carmodel, caryear)\n",
    "VALUES ('1958', 'Maruthi800', '1990', '1995'); '''"
   ]
  },
  {
   "cell_type": "code",
   "execution_count": 16,
   "id": "39a4a144-c3a9-4c4d-a763-653ccb8580a7",
   "metadata": {},
   "outputs": [],
   "source": [
    "conn.execute(qry_insrt_car_db)\n",
    "conn.commit()"
   ]
  },
  {
   "cell_type": "code",
   "execution_count": 17,
   "id": "c2fe5838-94ef-4c4d-b890-71ce6f2782b6",
   "metadata": {},
   "outputs": [],
   "source": [
    "# for inserting the values into tables, we need to commit the query for which we run\n",
    "# .commit() method"
   ]
  },
  {
   "cell_type": "code",
   "execution_count": 18,
   "id": "6dd24bce-b47d-41f5-a2c7-dd585bf409a1",
   "metadata": {},
   "outputs": [],
   "source": [
    "multiple_rows = [\n",
    "    ('1959', 'Maruthi Esteem', '1990', '1997'),\n",
    "    ('1947', 'BMW', '1980', '1997'),\n",
    "    ('1950', 'Piaggio', '1999', '2000'),\n",
    "    ('1959', 'Maruthi', '1990', '1997'),\n",
    "    ('1912', 'Esteem', '1990', '1997'),\n",
    "    ('1911', 'Kya', '1990', '1997'),\n",
    "    ('1933', 'Premier', '1990', '1997'),\n",
    "    ('1999', 'Padmini', '1990', '1997'),\n",
    "    ('1913', 'Contessa', '1990', '1997'),\n",
    "    ('1901', 'merc', '1990', '1997'),\n",
    "    ('1900', 'Maruthi Esteem', '1990', '1997')\n",
    "]"
   ]
  },
  {
   "cell_type": "code",
   "execution_count": 19,
   "id": "854eb442-29b0-4c6a-b209-74fb0c09454b",
   "metadata": {},
   "outputs": [],
   "source": [
    "qry_insertmany = \"\"\" \n",
    "INSERT INTO car \n",
    "VALUES (?,?,?,?)\"\"\""
   ]
  },
  {
   "cell_type": "code",
   "execution_count": 20,
   "id": "771210c7-955d-40dc-98e1-09899e960179",
   "metadata": {},
   "outputs": [],
   "source": [
    "# to insert multiple rows, we use execute many method\n",
    "# .executemany(query,data)"
   ]
  },
  {
   "cell_type": "code",
   "execution_count": 21,
   "id": "54bba041-368b-478f-ab63-a2635036fb20",
   "metadata": {},
   "outputs": [
    {
     "data": {
      "text/plain": [
       "<sqlite3.Cursor at 0x21a13229ac0>"
      ]
     },
     "execution_count": 21,
     "metadata": {},
     "output_type": "execute_result"
    }
   ],
   "source": [
    "conn.executemany(qry_insertmany, multiple_rows)"
   ]
  },
  {
   "cell_type": "code",
   "execution_count": 22,
   "id": "838354a7-e20c-4062-bcea-dc6361e855ce",
   "metadata": {},
   "outputs": [],
   "source": [
    "conn.commit()"
   ]
  },
  {
   "cell_type": "code",
   "execution_count": 23,
   "id": "1ea70993-e383-4569-a8cb-702cbcb075bc",
   "metadata": {},
   "outputs": [],
   "source": [
    "#select queries"
   ]
  },
  {
   "cell_type": "code",
   "execution_count": 24,
   "id": "1647663e-61cf-4ca0-9a72-fab46eabdd3a",
   "metadata": {},
   "outputs": [],
   "source": [
    "qry_select_all = \"select * from car;\""
   ]
  },
  {
   "cell_type": "code",
   "execution_count": 25,
   "id": "9eb9aa45-a878-4b9e-82aa-95c8b8fa6a47",
   "metadata": {},
   "outputs": [],
   "source": [
    "# when we run the select queries then a response obj is returned which will have the data\n",
    "# we use that obj for further operations"
   ]
  },
  {
   "cell_type": "code",
   "execution_count": 27,
   "id": "ee0cd0ef-faaf-4067-a25a-3f20f6c985c6",
   "metadata": {},
   "outputs": [],
   "source": [
    "#conn.execute(qry_select_all)\n",
    "data=conn.execute(\"select * from car;\")"
   ]
  },
  {
   "cell_type": "code",
   "execution_count": 28,
   "id": "df24c366-d170-42d8-8089-16017e841d6a",
   "metadata": {},
   "outputs": [
    {
     "data": {
      "text/plain": [
       "<sqlite3.Cursor at 0x21a134191c0>"
      ]
     },
     "execution_count": 28,
     "metadata": {},
     "output_type": "execute_result"
    }
   ],
   "source": [
    "data"
   ]
  },
  {
   "cell_type": "code",
   "execution_count": 29,
   "id": "c3541832-5546-465a-9a60-4019817e7090",
   "metadata": {},
   "outputs": [
    {
     "name": "stdout",
     "output_type": "stream",
     "text": [
      "('1958', 'Maruthi800', '1990', 1995)\n",
      "('1959', 'Maruthi Esteem', '1990', 1997)\n",
      "('1947', 'BMW', '1980', 1997)\n",
      "('1950', 'Piaggio', '1999', 2000)\n",
      "('1959', 'Maruthi', '1990', 1997)\n",
      "('1912', 'Esteem', '1990', 1997)\n",
      "('1911', 'Kya', '1990', 1997)\n",
      "('1933', 'Premier', '1990', 1997)\n",
      "('1999', 'Padmini', '1990', 1997)\n",
      "('1913', 'Contessa', '1990', 1997)\n",
      "('1901', 'merc', '1990', 1997)\n",
      "('1900', 'Maruthi Esteem', '1990', 1997)\n"
     ]
    }
   ],
   "source": [
    "# use a for loop to read the data\n",
    "for each_row in data:\n",
    "    print(each_row)"
   ]
  },
  {
   "cell_type": "code",
   "execution_count": 43,
   "id": "bf25fe3f-7b32-4fd6-ab2f-be06ca12318a",
   "metadata": {},
   "outputs": [
    {
     "name": "stdout",
     "output_type": "stream",
     "text": [
      "('1958', 'Maruti Suzuki 800', '1990', 1995)\n",
      "('1959', 'Maruti Suzuki 800', '1990', 1997)\n",
      "('1947', 'BMW', '1980', 1997)\n",
      "('1959', 'Maruti Suzuki 800', '1990', 1997)\n",
      "('1912', 'Esteem', '1990', 1997)\n",
      "('1911', 'Kya', '1990', 1997)\n",
      "('1933', 'Premier', '1990', 1997)\n",
      "('1999', 'Padmini', '1990', 1997)\n",
      "('1913', 'Contessa', '1990', 1997)\n",
      "('1901', 'merc', '1990', 1997)\n",
      "('1900', 'Maruthi Esteem', '1990', 1997)\n",
      "Query updated successfully.\n",
      "Query updated successfully.\n"
     ]
    }
   ],
   "source": [
    "def queryfun(query,db='car.db'):\n",
    "    conn=sqlite3.connect(db) # Connect to your DB\n",
    "    cursor = conn.cursor() # Open a cursor to perform database operations\n",
    "    try:\n",
    "        cursor.execute(query)\n",
    "        if query.strip().lower().startswith(\"select\"):\n",
    "            result = cursor.fetchall()\n",
    "            conn.close()\n",
    "            return result\n",
    "        else:\n",
    "            conn.commit()\n",
    "            conn.close()\n",
    "            return \"Query updated successfully.\"\n",
    "            \n",
    "    except sqlite3.Error as e:\n",
    "        conn.close()\n",
    "        return f\"An error occurred: {e}\"\n",
    "        \n",
    "result = queryfun(\"SELECT * FROM car;\")\n",
    "for row in result:\n",
    "    print(row)\n",
    "#above line is giving output from select.\n",
    "\n",
    "#Now, Update the carmake of the car with carid = '1958' from 'Maruthi800' to 'Maruti Suzuki 800'\n",
    "\n",
    "query_update=\"\"\"update car set carmake='Maruti Suzuki 800' where carid = '1959';\"\"\"\n",
    "result_update = queryfun(query_update)\n",
    "print(result_update)\n",
    "\n",
    "#now I want to delete a row based on carid 1950\n",
    "delete_query = \"DELETE FROM car WHERE carid = '1950';\"\n",
    "delete_result = queryfun(delete_query)\n",
    "print(delete_result)"
   ]
  },
  {
   "cell_type": "code",
   "execution_count": 38,
   "id": "b52b9f34-17ca-40c3-8820-f55f135234bc",
   "metadata": {},
   "outputs": [],
   "source": [
    "#Update the carmake of the car with carid = '1958' from 'Maruthi800' to 'Maruti Suzuki 800'"
   ]
  },
  {
   "cell_type": "code",
   "execution_count": 40,
   "id": "45f4cd4a-caea-457b-b56c-d6badd8e24f5",
   "metadata": {},
   "outputs": [],
   "source": []
  },
  {
   "cell_type": "code",
   "execution_count": null,
   "id": "bea64c42-5e07-47c0-9125-c7f1787f1dde",
   "metadata": {},
   "outputs": [],
   "source": [
    "\n"
   ]
  }
 ],
 "metadata": {
  "kernelspec": {
   "display_name": "Python 3 (ipykernel)",
   "language": "python",
   "name": "python3"
  },
  "language_info": {
   "codemirror_mode": {
    "name": "ipython",
    "version": 3
   },
   "file_extension": ".py",
   "mimetype": "text/x-python",
   "name": "python",
   "nbconvert_exporter": "python",
   "pygments_lexer": "ipython3",
   "version": "3.13.3"
  }
 },
 "nbformat": 4,
 "nbformat_minor": 5
}
